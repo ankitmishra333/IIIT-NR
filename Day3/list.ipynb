{
 "cells": [
  {
   "cell_type": "code",
   "execution_count": 1,
   "id": "33cd39c8",
   "metadata": {},
   "outputs": [
    {
     "name": "stdout",
     "output_type": "stream",
     "text": [
      "{'1', '2', '5', '4'}\n"
     ]
    }
   ],
   "source": [
    "thisset={\n",
    "    \"1\",\"2\",\"5\",\"4\",\"2\"\n",
    "}\n",
    "print(thisset)"
   ]
  },
  {
   "cell_type": "markdown",
   "id": "6fb596d1",
   "metadata": {},
   "source": [
    "append\n"
   ]
  },
  {
   "cell_type": "code",
   "execution_count": 3,
   "id": "cb70b898",
   "metadata": {},
   "outputs": [
    {
     "name": "stdout",
     "output_type": "stream",
     "text": [
      "['apple', 'banana', 'mango', 'orange']\n"
     ]
    }
   ],
   "source": [
    "thislist=[\"apple\",\"banana\",\"mango\"]\n",
    "thislist.append(\"orange\")\n",
    "print(thislist)"
   ]
  },
  {
   "cell_type": "code",
   "execution_count": 4,
   "id": "1ad7daaa",
   "metadata": {},
   "outputs": [
    {
     "name": "stdout",
     "output_type": "stream",
     "text": [
      "['apple', 'orange', 'banana', 'mango']\n"
     ]
    }
   ],
   "source": [
    "thislist=[\"apple\",\"banana\",\"mango\"]\n",
    "thislist.insert(1,\"orange\")\n",
    "print(thislist)"
   ]
  },
  {
   "cell_type": "code",
   "execution_count": 8,
   "id": "01dc30a8",
   "metadata": {},
   "outputs": [
    {
     "name": "stdout",
     "output_type": "stream",
     "text": [
      "['apple', 'banana', 'mango', 'orange']\n"
     ]
    }
   ],
   "source": [
    "thislist=[\"apple\",\"banana\",\"mango\"]\n",
    "thislist.insert(100,\"orange\")\n",
    "# last value will insert if you give any index\n",
    "print(thislist)\n"
   ]
  },
  {
   "cell_type": "code",
   "execution_count": 9,
   "id": "adce9f29",
   "metadata": {},
   "outputs": [
    {
     "name": "stdout",
     "output_type": "stream",
     "text": [
      "['apple', 'banana', 'mango', 'kiwi', 'orange']\n"
     ]
    }
   ],
   "source": [
    "thislist=[\"apple\",\"banana\",\"mango\"]\n",
    "thistuple=(\"kiwi\",\"orange\")\n",
    "thislist.extend(thistuple)\n",
    "print(thislist)"
   ]
  },
  {
   "cell_type": "markdown",
   "id": "9cbaa0dc",
   "metadata": {},
   "source": [
    "removeing item"
   ]
  },
  {
   "cell_type": "code",
   "execution_count": 18,
   "id": "21dbf834",
   "metadata": {},
   "outputs": [
    {
     "name": "stdout",
     "output_type": "stream",
     "text": [
      "['banana', 'mango']\n",
      "['mango']\n"
     ]
    }
   ],
   "source": [
    "thislist=[\"apple\",\"banana\",\"mango\"]\n",
    "thislist.remove(\"apple\")\n",
    "\n",
    "print(thislist)\n",
    "thislist.pop(0)\n",
    "print(thislist)\n",
    " "
   ]
  }
 ],
 "metadata": {
  "kernelspec": {
   "display_name": ".venv",
   "language": "python",
   "name": "python3"
  },
  "language_info": {
   "codemirror_mode": {
    "name": "ipython",
    "version": 3
   },
   "file_extension": ".py",
   "mimetype": "text/x-python",
   "name": "python",
   "nbconvert_exporter": "python",
   "pygments_lexer": "ipython3",
   "version": "3.13.5"
  }
 },
 "nbformat": 4,
 "nbformat_minor": 5
}
