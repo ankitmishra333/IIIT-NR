{
 "cells": [
  {
   "cell_type": "code",
   "execution_count": null,
   "id": "3c6ad07a",
   "metadata": {},
   "outputs": [],
   "source": [
    "thisdict={\n",
    "    \"brand\":\"Ford\",\n",
    "    \"model\":\"Mustang\",\n",
    "    \"year\":1964,\n",
    "    \"color\":\"red\",\n",
    "    \"brand\":\"Ford\"\n",
    "\n",
    "}\n",
    "print(thisdict)"
   ]
  },
  {
   "cell_type": "code",
   "execution_count": null,
   "id": "764f686a",
   "metadata": {},
   "outputs": [],
   "source": [
    "thisdict={\n",
    "    \"brand\":\"Ford\",\n",
    "    \"model\":\"Mustang\",\n",
    "    \"year\":1964,\n",
    "    \"year\":2020\n",
    "}\n",
    "print(len(thisdict))"
   ]
  },
  {
   "cell_type": "code",
   "execution_count": null,
   "id": "99edee2d",
   "metadata": {},
   "outputs": [],
   "source": [
    "thisdict={\n",
    "    \"name\":\"Ankit\",\n",
    "    \"age\":21,\n",
    "    \"course\":\"b.tech\",\n",
    "    \"colors\":[\"red\",\"white\",\"blue\"]\n",
    "}\n",
    "print(thisdict)\n"
   ]
  },
  {
   "cell_type": "code",
   "execution_count": null,
   "id": "8752ee77",
   "metadata": {},
   "outputs": [],
   "source": [
    "thisdict={\n",
    "    \"name\":\"Ankit\",\n",
    "    \"age\":21,\n",
    "    \"course\":\"b.tech\"\n",
    "}\n",
    "x=thisdict.get(\"name\")\n",
    "print(x)"
   ]
  },
  {
   "cell_type": "code",
   "execution_count": null,
   "id": "a366014c",
   "metadata": {},
   "outputs": [],
   "source": [
    "thisdict={\n",
    "    \"brand\":\"Ford\",\n",
    "    \"model\":\"Mustang\",\n",
    "    \"year\":1964\n",
    "}\n",
    "x=thisdict.get (\"model\")\n",
    "print(x)"
   ]
  },
  {
   "cell_type": "code",
   "execution_count": null,
   "id": "eb32b784",
   "metadata": {},
   "outputs": [],
   "source": [
    "thisdict={\n",
    "    \"brand\":\"Ford\",\n",
    "    \"model\":\"Mustang\",\n",
    "    \"year\":1964\n",
    "}\n",
    "x=thisdict.keys()\n",
    "print(x)\n",
    "thisdict[\"color\"]=\"white\"\n",
    "print(thisdict)"
   ]
  },
  {
   "cell_type": "code",
   "execution_count": null,
   "id": "1fea2498",
   "metadata": {},
   "outputs": [],
   "source": [
    "thisdict={\n",
    "    \"brand\":\"Ford\",\n",
    "    \"model\":\"Mustang\",\n",
    "    \"year\":1964\n",
    "}\n",
    "x=thisdict.values()\n",
    "print(x)\n",
    "thisdict[\"year\"]=2020\n",
    "print(thisdict)"
   ]
  },
  {
   "cell_type": "code",
   "execution_count": 37,
   "id": "eb9bb6ac",
   "metadata": {},
   "outputs": [
    {
     "name": "stdout",
     "output_type": "stream",
     "text": [
      "{'Ankit': 22, 'Anmol': 20, 'Anurag': 22, 'Aman': 25, 'Amit': 21, 'Anukul': 30, 'Rahul': 34}\n",
      "dict_keys(['Ankit', 'Anmol', 'Anurag', 'Aman', 'Amit', 'Anukul', 'Rahul'])\n",
      "dict_values([22, 20, 22, 25, 21, 30, 34])\n",
      "Ankit | 22\n",
      "Anmol | 20\n",
      "Anurag | 22\n",
      "Aman | 25\n",
      "Amit | 21\n",
      "Anukul | 30\n",
      "Rahul | 34\n"
     ]
    }
   ],
   "source": [
    "name = {\n",
    "    \"Ankit\": 22,\n",
    "    \"Anmol\": 20,\n",
    "    \"Anurag\": 22,\n",
    "    \"Aman\": 25,\n",
    "    \"Amit\": 21,\n",
    "    \"Anukul\": 30,\n",
    "    \"Rahul\": 34\n",
    "}\n",
    "\n",
    "print(name)\n",
    "\n",
    "x = name.keys()\n",
    "y = name.values()\n",
    "\n",
    "print(x)\n",
    "print(y)\n",
    "\n",
    "i = 1\n",
    "for key, value in name.items():\n",
    "    print(f\"{key} | {value}\")\n",
    "\n"
   ]
  },
  {
   "cell_type": "code",
   "execution_count": 40,
   "id": "c05f31dc",
   "metadata": {},
   "outputs": [
    {
     "name": "stdout",
     "output_type": "stream",
     "text": [
      "{'Ankit': 22, 'Anurag': 22, 'Aman': 25, 'Amit': 21, 'Anukul': 30, 'Rahul': 34}\n"
     ]
    }
   ],
   "source": [
    "name = {\n",
    "    \"Ankit\": 22,\n",
    "    \"Anmol\": 20,\n",
    "    \"Anurag\": 22,\n",
    "    \"Aman\": 25,\n",
    "    \"Amit\": 21,\n",
    "    \"Anukul\": 30,\n",
    "    \"Rahul\": 34\n",
    "}\n",
    "name.pop(\"Anmol\")\n",
    "print(name)\n"
   ]
  }
 ],
 "metadata": {
  "kernelspec": {
   "display_name": ".venv",
   "language": "python",
   "name": "python3"
  },
  "language_info": {
   "codemirror_mode": {
    "name": "ipython",
    "version": 3
   },
   "file_extension": ".py",
   "mimetype": "text/x-python",
   "name": "python",
   "nbconvert_exporter": "python",
   "pygments_lexer": "ipython3",
   "version": "3.13.5"
  }
 },
 "nbformat": 4,
 "nbformat_minor": 5
}
