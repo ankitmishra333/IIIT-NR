{
 "cells": [
  {
   "cell_type": "code",
   "execution_count": 86,
   "id": "45796c4e",
   "metadata": {},
   "outputs": [
    {
     "name": "stdout",
     "output_type": "stream",
     "text": [
      "Gaari rok do, fuel khatm ho jaayega! (1)\n",
      "Gaari rok do, fuel khatm ho jaayega! (2)\n",
      "Gaari rok do, fuel khatm ho jaayega! (3)\n",
      "Gaari rok do, fuel khatm ho jaayega! (4)\n",
      "Gaari rok do, fuel khatm ho jaayega! (5)\n",
      "Gaari rok do, fuel khatm ho jaayega! (6)\n",
      "Gaari rok do, fuel khatm ho jaayega! (7)\n",
      "Gaari rok do, fuel khatm ho jaayega! (8)\n",
      "Gaari rok do, fuel khatm ho jaayega! (9)\n",
      "Gaari rok do, fuel khatm ho jaayega! (10)\n",
      "Gaari rok do, fuel khatm ho jaayega! (11)\n",
      "Gaari rok do, fuel khatm ho jaayega! (12)\n",
      "Gaari rok do, fuel khatm ho jaayega! (13)\n",
      "Gaari rok do, fuel khatm ho jaayega! (14)\n",
      "Gaari rok do, fuel khatm ho jaayega! (15)\n",
      "Gaari rok do, fuel khatm ho jaayega! (16)\n",
      "Gaari rok do, fuel khatm ho jaayega! (17)\n",
      "Gaari rok do, fuel khatm ho jaayega! (18)\n",
      "Gaari rok do, fuel khatm ho jaayega! (19)\n",
      "Gaari rok do, fuel khatm ho jaayega! (20)\n",
      "Gaari rok do, fuel khatm ho jaayega! (21)\n",
      "Gaari rok do, fuel khatm ho jaayega! (22)\n",
      "Gaari rok do, fuel khatm ho jaayega! (23)\n",
      "Gaari rok do, fuel khatm ho jaayega! (24)\n",
      "Gaari rok do, fuel khatm ho jaayega! (25)\n"
     ]
    }
   ],
   "source": [
    "carrange = int(input(\"Enter the car range: \"))\n",
    "maxrange = 50\n",
    "i = 1\n",
    "\n",
    "while carrange < 100:\n",
    "    print(f\"Gaari rok do, fuel khatm ho jaayega! ({i})\")\n",
    "    if carrange == maxrange:\n",
    "        print(f\"Fuel khatm ho jaayega, max range {maxrange} reached!\")\n",
    "        break\n",
    "    carrange += 1\n",
    "    i += 1\n",
    "\n"
   ]
  },
  {
   "cell_type": "code",
   "execution_count": null,
   "id": "ebddea80",
   "metadata": {},
   "outputs": [],
   "source": [
    "\n",
    "i=int(input(\"enter the spped:\"))\n",
    "if i>100:\n",
    "    print(\"slow down \")\n",
    "else:\n",
    "    print(\"continue\")"
   ]
  },
  {
   "cell_type": "code",
   "execution_count": null,
   "id": "7d1b2c5f",
   "metadata": {},
   "outputs": [],
   "source": [
    "speed=int(input(\"enter the spped:\"))\n",
    "if speed<40:\n",
    "    print(\"gear bhada do\")\n",
    "elif speed<60:\n",
    "    print(\"speed bhada lo\")\n",
    "elif speed<80:\n",
    "    print(\"thik hai\")\n",
    "elif speed<100:\n",
    "    print(\"continue\")\n",
    "else:\n",
    "    print(\"slow down\")\n",
    "    \n",
    "\n",
    " \n",
    "\n",
    "\n"
   ]
  },
  {
   "cell_type": "code",
   "execution_count": null,
   "id": "14e0e641",
   "metadata": {},
   "outputs": [],
   "source": [
    "speed=120\n",
    "if speed<40:\n",
    "    print(\"gear bhada do\")\n",
    "elif speed<60:\n",
    "    print(\"speed bhada lo\")\n",
    "elif speed<80:\n",
    "    print(\"thik hai\")\n",
    "elif speed<100:\n",
    "    print(\"continue\")\n",
    "else:\n",
    "    print(\"slow down\")\n",
    "    \n"
   ]
  },
  {
   "cell_type": "markdown",
   "id": "ab153c19",
   "metadata": {},
   "source": [
    "triangle using pattern"
   ]
  },
  {
   "cell_type": "code",
   "execution_count": 57,
   "id": "4310056b",
   "metadata": {},
   "outputs": [
    {
     "name": "stdout",
     "output_type": "stream",
     "text": [
      " * \n",
      " *  * \n",
      " *  *  * \n",
      " *  *  *  * \n",
      " *  *  *  *  * \n"
     ]
    }
   ],
   "source": [
    "rows = int(input(\"Enter the number of rows: \"))\n",
    "\n",
    "for i in range(1, rows + 1):\n",
    "    print(\" * \" * i)\n"
   ]
  },
  {
   "cell_type": "code",
   "execution_count": 78,
   "id": "1a132ce9",
   "metadata": {},
   "outputs": [
    {
     "name": "stdout",
     "output_type": "stream",
     "text": [
      "    * \n",
      "   *  * \n",
      "  *  *  * \n",
      " *  *  *  * \n"
     ]
    }
   ],
   "source": [
    "rows = int(input(\"Enter the number of rows: \"))\n",
    "\n",
    "for i in range(1, rows + 1):\n",
    "    print(\" \" * (rows - i) + \" * \" * i)\n"
   ]
  },
  {
   "cell_type": "code",
   "execution_count": 82,
   "id": "c0b9ec40",
   "metadata": {},
   "outputs": [
    {
     "name": "stdout",
     "output_type": "stream",
     "text": [
      "1 \n",
      "1 2 \n",
      "1 2 3 \n",
      "1 2 3 4 \n",
      "1 2 3 4 5 \n"
     ]
    }
   ],
   "source": [
    "rows = int(input(\"Enter the number of rows: \"))\n",
    "\n",
    "for i in range(1, rows + 1):\n",
    "    for j in range(1,(i + 1)):\n",
    "        print(j,end=\" \")\n",
    "    print()\n"
   ]
  },
  {
   "cell_type": "code",
   "execution_count": 85,
   "id": "6ac19ce0",
   "metadata": {},
   "outputs": [
    {
     "name": "stdout",
     "output_type": "stream",
     "text": [
      "    1 \n",
      "   1 2 \n",
      "  1 2 3 \n",
      " 1 2 3 4 \n",
      "1 2 3 4 5 \n"
     ]
    }
   ],
   "source": [
    "rows = int(input(\"Enter the number of rows: \"))\n",
    "\n",
    "for i in range(1, rows + 1):\n",
    "    for space in range(rows - i):\n",
    "        print(\" \", end=\"\")\n",
    "    for j in range(1,(i + 1)):\n",
    "        print(j,end=\" \")\n",
    "    print()\n"
   ]
  },
  {
   "cell_type": "code",
   "execution_count": null,
   "id": "1eb9ebfa",
   "metadata": {},
   "outputs": [],
   "source": [
    "rows = int(input(\"Enter the number of rows: \"))\n",
    "\n",
    "for i in range(1, rows + 1):\n",
    "    for space in range(rows - i):\n",
    "        print(\" \", end=\"\")\n",
    "    for num in range(1, i + 1):\n",
    "        print(num, end=\" \")\n",
    "\n",
    "    print() \n"
   ]
  },
  {
   "cell_type": "code",
   "execution_count": null,
   "id": "80410f8a",
   "metadata": {},
   "outputs": [],
   "source": []
  }
 ],
 "metadata": {
  "kernelspec": {
   "display_name": ".venv",
   "language": "python",
   "name": "python3"
  },
  "language_info": {
   "codemirror_mode": {
    "name": "ipython",
    "version": 3
   },
   "file_extension": ".py",
   "mimetype": "text/x-python",
   "name": "python",
   "nbconvert_exporter": "python",
   "pygments_lexer": "ipython3",
   "version": "3.13.5"
  }
 },
 "nbformat": 4,
 "nbformat_minor": 5
}
