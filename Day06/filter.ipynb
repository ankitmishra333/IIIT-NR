{
 "cells": [
  {
   "cell_type": "markdown",
   "id": "5c494b30",
   "metadata": {},
   "source": [
    "program to filter only even no. from the list by filter"
   ]
  },
  {
   "cell_type": "markdown",
   "id": "18093265",
   "metadata": {},
   "source": [
    "w/o lambda function"
   ]
  },
  {
   "cell_type": "code",
   "execution_count": null,
   "id": "12042c3a",
   "metadata": {},
   "outputs": [],
   "source": [
    "def isEven(x):\n",
    "    if x%2==0:\n",
    "        return True\n",
    "    else:\n",
    "       return False\n",
    "i=[0,5,10,15,20,25,30]\n",
    "i1=list(filter(isEven,i))\n",
    "print(i1)\n",
    "    "
   ]
  },
  {
   "cell_type": "markdown",
   "id": "d2274c11",
   "metadata": {},
   "source": [
    "with lambda function "
   ]
  },
  {
   "cell_type": "code",
   "execution_count": null,
   "id": "a2dc447f",
   "metadata": {},
   "outputs": [],
   "source": [
    "l=(0,5,10,15,20,25,30)\n",
    "l1=list(filter(lambda x:x%2==0,l))\n",
    "print(l1)"
   ]
  },
  {
   "cell_type": "markdown",
   "id": "c2d203ba",
   "metadata": {},
   "source": [
    "palindrome in list"
   ]
  },
  {
   "cell_type": "code",
   "execution_count": null,
   "id": "5a1d85c4",
   "metadata": {},
   "outputs": [],
   "source": [
    "a=input[]\n",
    "\n",
    "\n",
    "no = [121, 5, 454, 889, 153, 203, 345, 1001]\n",
    "\n",
    "palindrome = list(filter(lambda num: str(num) == str(num)[::-1], no))\n",
    "\n",
    "print(\"Palindromic no. in the list:\", palindrome)\n"
   ]
  },
  {
   "cell_type": "markdown",
   "id": "8ff70732",
   "metadata": {},
   "source": [
    "palindrome using user input"
   ]
  },
  {
   "cell_type": "code",
   "execution_count": null,
   "id": "cbec3adb",
   "metadata": {},
   "outputs": [],
   "source": [
    "# Take input from the user\n",
    "user_input = input(\"Enter numbers separated by space: \")\n",
    "\n",
    "# Convert input string to list of integers\n",
    "numbers = list(map(int, user_input.split()))\n",
    "\n",
    "# Find palindromic numbers using lambda and filter\n",
    "palindromes = list(filter(lambda num: str(num) == str(num)[::-1], numbers))\n",
    "\n",
    "# Print the palindromic numbers\n",
    "print(\"Palindromic numbers in the list:\", palindromes)\n"
   ]
  }
 ],
 "metadata": {
  "kernelspec": {
   "display_name": ".venv",
   "language": "python",
   "name": "python3"
  },
  "language_info": {
   "codemirror_mode": {
    "name": "ipython",
    "version": 3
   },
   "file_extension": ".py",
   "mimetype": "text/x-python",
   "name": "python",
   "nbconvert_exporter": "python",
   "pygments_lexer": "ipython3",
   "version": "3.13.5"
  }
 },
 "nbformat": 4,
 "nbformat_minor": 5
}
