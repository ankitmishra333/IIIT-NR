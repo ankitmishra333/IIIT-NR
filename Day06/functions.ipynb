{
 "cells": [
  {
   "cell_type": "code",
   "execution_count": null,
   "id": "c2fda268",
   "metadata": {},
   "outputs": [],
   "source": [
    "def square(number):\n",
    "    print()"
   ]
  },
  {
   "cell_type": "markdown",
   "id": "f792d341",
   "metadata": {},
   "source": [
    "write a function for input 2 no and add it\n"
   ]
  },
  {
   "cell_type": "code",
   "execution_count": 2,
   "id": "f4b36b3f",
   "metadata": {},
   "outputs": [
    {
     "name": "stdout",
     "output_type": "stream",
     "text": [
      "the sum is 30\n",
      "the sum is 300\n"
     ]
    }
   ],
   "source": [
    "def add(x,y):\n",
    "    return x+y\n",
    "result=add(10,20)\n",
    "print(\"the sum is\",result)\n",
    "print(\"the sum is\",add(100,200))"
   ]
  },
  {
   "cell_type": "markdown",
   "id": "78b71544",
   "metadata": {},
   "source": [
    "if we are\n",
    "\n"
   ]
  },
  {
   "cell_type": "markdown",
   "id": "84c48c8b",
   "metadata": {},
   "source": [
    "odd or even"
   ]
  },
  {
   "cell_type": "code",
   "execution_count": null,
   "id": "1e457ca7",
   "metadata": {},
   "outputs": [
    {
     "name": "stdout",
     "output_type": "stream",
     "text": [
      "10  is even\n",
      "15  is odd\n"
     ]
    }
   ],
   "source": [
    "def even_odd(num):\n",
    "     if num%2==0:\n",
    "        print(num, \" is even\")\n",
    "     else:\n",
    "        print(num, \" is odd\")\n",
    "even_odd(10)\n",
    "even_odd(15)        \n",
    "\n"
   ]
  },
  {
   "cell_type": "code",
   "execution_count": 18,
   "id": "776efbe5",
   "metadata": {},
   "outputs": [
    {
     "name": "stdout",
     "output_type": "stream",
     "text": [
      "121 is a palindrome.\n"
     ]
    }
   ],
   "source": [
    "\n",
    "def is_palindrome(no):\n",
    "    original = str(no)\n",
    "    reversed_no = original[::-1]\n",
    "    return original == reversed_no\n",
    "number = int(input(\"Enter a no: \"))\n",
    "if is_palindrome(number):\n",
    "    print(f\"{number} is a palindrome.\")\n",
    "else:\n",
    "    print(f\"{number} is not a palindrome.\")\n",
    "\n",
    "\n"
   ]
  },
  {
   "cell_type": "markdown",
   "id": "0d703f32",
   "metadata": {},
   "source": [
    "factorial"
   ]
  },
  {
   "cell_type": "code",
   "execution_count": 40,
   "id": "bbf46a0e",
   "metadata": {},
   "outputs": [
    {
     "name": "stdout",
     "output_type": "stream",
     "text": [
      "the factorial of  1 is: 1\n",
      "the factorial of  2 is: 2\n",
      "the factorial of  3 is: 6\n",
      "the factorial of  4 is: 24\n",
      "the factorial of  5 is: 120\n"
     ]
    }
   ],
   "source": [
    "def fact(num):\n",
    "    result=1\n",
    "    while num>1:\n",
    "        result=result*num\n",
    "        num=num-1\n",
    "    return result\n",
    "for i in range(1,6):\n",
    "     print(\"the factorial of \",i,\"is:\",(fact(i)))\n",
    "\n"
   ]
  },
  {
   "cell_type": "markdown",
   "id": "92464e20",
   "metadata": {},
   "source": [
    "using recursion"
   ]
  },
  {
   "cell_type": "markdown",
   "id": "303be80c",
   "metadata": {},
   "source": [
    "return multiplle value from a function"
   ]
  },
  {
   "cell_type": "code",
   "execution_count": null,
   "id": "f1d95458",
   "metadata": {},
   "outputs": [],
   "source": [
    "def sum_sub(a,b):\n",
    "    "
   ]
  },
  {
   "cell_type": "markdown",
   "id": "56f04554",
   "metadata": {},
   "source": [
    "check total even no. from  list "
   ]
  },
  {
   "cell_type": "code",
   "execution_count": 60,
   "id": "19dfcc87",
   "metadata": {},
   "outputs": [
    {
     "name": "stdout",
     "output_type": "stream",
     "text": [
      "even list:-\n",
      "2\n",
      "4\n",
      "6\n",
      "8\n",
      "10\n",
      "12\n",
      "14\n",
      "16\n",
      "18\n",
      "20\n",
      "\n",
      "\n",
      "odd list-\n",
      "1 \n",
      "3 \n",
      "5 \n",
      "7 \n",
      "9 \n",
      "11 \n",
      "13 \n",
      "15 \n",
      "17 \n",
      "19 \n"
     ]
    }
   ],
   "source": [
    "print(\"even list:-\")\n",
    "def is_even(n):\n",
    "    return n % 2 == 0\n",
    "\n",
    "for i in range(1, 21):\n",
    "    if is_even(i):\n",
    "        print(f\"{i}\")\n",
    "print(\"\\n\")\n",
    "print(\"odd list-\")\n",
    "def is_odd(n):\n",
    "    return n % 2 != 0\n",
    "\n",
    "for i in range(1, 21):\n",
    "    if is_odd(i):\n",
    "        print(f\"{i} \")\n",
    "\n",
    "        \n",
    "\n",
    "\n",
    "\n"
   ]
  }
 ],
 "metadata": {
  "kernelspec": {
   "display_name": ".venv",
   "language": "python",
   "name": "python3"
  },
  "language_info": {
   "codemirror_mode": {
    "name": "ipython",
    "version": 3
   },
   "file_extension": ".py",
   "mimetype": "text/x-python",
   "name": "python",
   "nbconvert_exporter": "python",
   "pygments_lexer": "ipython3",
   "version": "3.13.5"
  }
 },
 "nbformat": 4,
 "nbformat_minor": 5
}
