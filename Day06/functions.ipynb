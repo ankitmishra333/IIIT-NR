{
 "cells": [
  {
   "cell_type": "code",
   "execution_count": null,
   "id": "c2fda268",
   "metadata": {},
   "outputs": [],
   "source": [
    "def square(number):\n",
    "    print()"
   ]
  },
  {
   "cell_type": "markdown",
   "id": "f792d341",
   "metadata": {},
   "source": [
    "write a function for input 2 no and add it\n"
   ]
  },
  {
   "cell_type": "code",
   "execution_count": null,
   "id": "f4b36b3f",
   "metadata": {},
   "outputs": [],
   "source": [
    "def add(x,y):\n",
    "    return x+y\n",
    "result=add(10,20)\n",
    "print(\"the sum is\",result)\n",
    "print(\"the sum is\",add(100,200))"
   ]
  },
  {
   "cell_type": "markdown",
   "id": "78b71544",
   "metadata": {},
   "source": [
    "if we are\n",
    "\n"
   ]
  },
  {
   "cell_type": "markdown",
   "id": "84c48c8b",
   "metadata": {},
   "source": [
    "odd or even"
   ]
  },
  {
   "cell_type": "code",
   "execution_count": null,
   "id": "1e457ca7",
   "metadata": {},
   "outputs": [],
   "source": [
    "def even_odd(num):\n",
    "     if num%2==0:\n",
    "        print(num, \" is even\")\n",
    "     else:\n",
    "        print(num, \" is odd\")\n",
    "even_odd(10)\n",
    "even_odd(15)        \n",
    "\n"
   ]
  },
  {
   "cell_type": "code",
   "execution_count": null,
   "id": "776efbe5",
   "metadata": {},
   "outputs": [],
   "source": [
    "\n",
    "def is_palindrome(no):\n",
    "    original = str(no)\n",
    "    reversed_no = original[::-1]\n",
    "    return original == reversed_no\n",
    "number = int(input(\"Enter a no: \"))\n",
    "if is_palindrome(number):\n",
    "    print(f\"{number} is a palindrome.\")\n",
    "else:\n",
    "    print(f\"{number} is not a palindrome.\")\n",
    "\n",
    "\n"
   ]
  },
  {
   "cell_type": "markdown",
   "id": "0d703f32",
   "metadata": {},
   "source": [
    "factorial"
   ]
  },
  {
   "cell_type": "code",
   "execution_count": null,
   "id": "bbf46a0e",
   "metadata": {},
   "outputs": [],
   "source": [
    "def fact(num):\n",
    "    result=1\n",
    "    while num>1:\n",
    "        result=result*num\n",
    "        num=num-1\n",
    "    return result\n",
    "for i in range(1,6):\n",
    "     print(\"the factorial of \",i,\"is:\",(fact(i)))\n",
    "\n"
   ]
  },
  {
   "cell_type": "markdown",
   "id": "92464e20",
   "metadata": {},
   "source": [
    "using recursion"
   ]
  },
  {
   "cell_type": "markdown",
   "id": "303be80c",
   "metadata": {},
   "source": [
    "return multiplle value from a function"
   ]
  },
  {
   "cell_type": "code",
   "execution_count": null,
   "id": "f1d95458",
   "metadata": {},
   "outputs": [],
   "source": [
    "def sum_sub(a,b):\n",
    "    "
   ]
  },
  {
   "cell_type": "markdown",
   "id": "56f04554",
   "metadata": {},
   "source": [
    "check total even no. from  list "
   ]
  },
  {
   "cell_type": "code",
   "execution_count": null,
   "id": "19dfcc87",
   "metadata": {},
   "outputs": [],
   "source": [
    "print(\"even list:-\")\n",
    "def is_even(n):\n",
    "    return n % 2 == 0\n",
    "\n",
    "for i in range(1, 21):\n",
    "    if is_even(i):\n",
    "        print(f\"{i}\")\n",
    "print(\"\\n\")\n",
    "print(\"odd list-\")\n",
    "def is_odd(n):\n",
    "    return n % 2 != 0\n",
    "\n",
    "for i in range(1, 21):\n",
    "    if is_odd(i):\n",
    "        print(f\"{i} \")\n",
    "\n",
    "        \n",
    "\n",
    "\n",
    "\n"
   ]
  }
 ],
 "metadata": {
  "kernelspec": {
   "display_name": ".venv",
   "language": "python",
   "name": "python3"
  },
  "language_info": {
   "codemirror_mode": {
    "name": "ipython",
    "version": 3
   },
   "file_extension": ".py",
   "mimetype": "text/x-python",
   "name": "python",
   "nbconvert_exporter": "python",
   "pygments_lexer": "ipython3",
   "version": "3.13.5"
  }
 },
 "nbformat": 4,
 "nbformat_minor": 5
}
