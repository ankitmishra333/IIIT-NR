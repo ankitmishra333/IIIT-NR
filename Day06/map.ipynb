{
 "cells": [
  {
   "cell_type": "markdown",
   "id": "5c02f421",
   "metadata": {},
   "source": [
    "w/o lambda"
   ]
  },
  {
   "cell_type": "code",
   "execution_count": 1,
   "id": "2519e9f4",
   "metadata": {},
   "outputs": [
    {
     "name": "stdout",
     "output_type": "stream",
     "text": [
      "[2, 4, 6, 8, 10]\n"
     ]
    }
   ],
   "source": [
    "i=[1,2,3,4,5]\n",
    "def doublet(x):\n",
    "    return 2*x\n",
    "i1=list(map(doublet,i))\n",
    "print(i1)\n",
    "\n"
   ]
  },
  {
   "cell_type": "markdown",
   "id": "1f37a45b",
   "metadata": {},
   "source": [
    "with lambda function\n"
   ]
  },
  {
   "cell_type": "code",
   "execution_count": 4,
   "id": "e2c83a0d",
   "metadata": {},
   "outputs": [
    {
     "name": "stdout",
     "output_type": "stream",
     "text": [
      "[2, 4, 6, 8, 10]\n",
      "[3, 6, 9, 12, 15]\n"
     ]
    }
   ],
   "source": [
    "i=[1,2,3,4,5]\n",
    "def doublet(n):\n",
    "    return n *2\n",
    "    return n*3\n",
    "s=list(map(doublet,i))\n",
    "s=list(map(lambda x:x*2,i))\n",
    "s1=list(map(lambda x:x*3,i))\n",
    "print(s)\n",
    "print(s1)\n"
   ]
  }
 ],
 "metadata": {
  "kernelspec": {
   "display_name": ".venv",
   "language": "python",
   "name": "python3"
  },
  "language_info": {
   "codemirror_mode": {
    "name": "ipython",
    "version": 3
   },
   "file_extension": ".py",
   "mimetype": "text/x-python",
   "name": "python",
   "nbconvert_exporter": "python",
   "pygments_lexer": "ipython3",
   "version": "3.13.5"
  }
 },
 "nbformat": 4,
 "nbformat_minor": 5
}
