{
 "cells": [
  {
   "cell_type": "code",
   "execution_count": null,
   "id": "9f88b17d",
   "metadata": {},
   "outputs": [],
   "source": [
    "from functools import*\n",
    "i=[1,2,3,4,5,6]\n",
    "result=reduce(lambda x,y:x+y,i)\n",
    "print(result)"
   ]
  },
  {
   "cell_type": "markdown",
   "id": "e7e6582e",
   "metadata": {},
   "source": [
    "function aliasing"
   ]
  },
  {
   "cell_type": "code",
   "execution_count": null,
   "id": "55c3f4a8",
   "metadata": {},
   "outputs": [],
   "source": [
    "def greet(name):\n",
    "    print(\"Hello,\", name)\n",
    "\n",
    "# Function aliasing\n",
    "hello = greet\n",
    "\n",
    "# Using both names\n",
    "greet(\"Ankit\")\n",
    "hello(\"Mishra\")\n"
   ]
  }
 ],
 "metadata": {
  "kernelspec": {
   "display_name": ".venv",
   "language": "python",
   "name": "python3"
  },
  "language_info": {
   "codemirror_mode": {
    "name": "ipython",
    "version": 3
   },
   "file_extension": ".py",
   "mimetype": "text/x-python",
   "name": "python",
   "nbconvert_exporter": "python",
   "pygments_lexer": "ipython3",
   "version": "3.13.5"
  }
 },
 "nbformat": 4,
 "nbformat_minor": 5
}
