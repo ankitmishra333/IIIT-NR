{
 "cells": [
  {
   "cell_type": "code",
   "execution_count": 25,
   "id": "357bfc10",
   "metadata": {},
   "outputs": [
    {
     "name": "stdout",
     "output_type": "stream",
     "text": [
      "ankit\n",
      "5\n",
      "k\n"
     ]
    }
   ],
   "source": [
    "a=input(\"enter string:\")\n",
    "print(a)\n",
    "print(len(a))\n",
    "print(a[2])\n"
   ]
  },
  {
   "cell_type": "markdown",
   "id": "5ac9fbbb",
   "metadata": {},
   "source": [
    "slicing"
   ]
  },
  {
   "cell_type": "code",
   "execution_count": 19,
   "id": "25bc63ed",
   "metadata": {},
   "outputs": [
    {
     "name": "stdout",
     "output_type": "stream",
     "text": [
      "Ankit_Mishra\n",
      "nk\n",
      "Ank\n",
      "AktMsr\n"
     ]
    }
   ],
   "source": [
    "a=input(\"enter string:\")\n",
    "print(a)\n",
    "print(a[1:3])\n",
    "print(a[:3])\n",
    "print(a[::2])\n"
   ]
  },
  {
   "cell_type": "markdown",
   "id": "e9287103",
   "metadata": {},
   "source": [
    "negative indexing\n"
   ]
  },
  {
   "cell_type": "code",
   "execution_count": 23,
   "id": "c07ae307",
   "metadata": {},
   "outputs": [
    {
     "name": "stdout",
     "output_type": "stream",
     "text": [
      "AnkitMishra\n",
      "ishra\n",
      "ish\n",
      "arhsiMtiknA\n"
     ]
    }
   ],
   "source": [
    "a=input(\"enter string:\")\n",
    "print(a)\n",
    "print(a[-5:])\n",
    "print(a[-5:-2])\n",
    "print(a[::-1])"
   ]
  },
  {
   "cell_type": "markdown",
   "id": "16e0d154",
   "metadata": {},
   "source": [
    "Array"
   ]
  },
  {
   "cell_type": "code",
   "execution_count": 33,
   "id": "6d37a7e5",
   "metadata": {},
   "outputs": [
    {
     "name": "stdout",
     "output_type": "stream",
     "text": [
      "[10, 20, 30, 40, 50]\n",
      "[20, 30, 40]\n",
      "[50, 40, 30, 20]\n",
      "[]\n"
     ]
    }
   ],
   "source": [
    "num=[10,20,30,40,50]\n",
    "print(num)\n",
    "print(num[1:4])\n",
    "print(num[4:0:-1])\n",
    "print(num[:4:-1])"
   ]
  },
  {
   "cell_type": "markdown",
   "id": "5cffa5b8",
   "metadata": {},
   "source": [
    "string check"
   ]
  },
  {
   "cell_type": "code",
   "execution_count": 38,
   "id": "a04f73ab",
   "metadata": {},
   "outputs": [
    {
     "data": {
      "text/plain": [
       "True"
      ]
     },
     "execution_count": 38,
     "metadata": {},
     "output_type": "execute_result"
    }
   ],
   "source": [
    "a=input(\"enter string:\")\n",
    "a.endswith(\"ra\")"
   ]
  },
  {
   "cell_type": "code",
   "execution_count": 39,
   "id": "3c859707",
   "metadata": {},
   "outputs": [
    {
     "data": {
      "text/plain": [
       "'Mishra'"
      ]
     },
     "execution_count": 39,
     "metadata": {},
     "output_type": "execute_result"
    }
   ],
   "source": [
    "a=input(\"enter string:\")\n",
    "a.capitalize()"
   ]
  },
  {
   "cell_type": "code",
   "execution_count": 40,
   "id": "ddc81531",
   "metadata": {},
   "outputs": [
    {
     "name": "stdout",
     "output_type": "stream",
     "text": [
      "i am a programmer\n"
     ]
    }
   ],
   "source": [
    "a=\"i am a coder\"\n",
    "print(a.replace(\"coder\",\"programmer\"))\n",
    "\n"
   ]
  },
  {
   "cell_type": "code",
   "execution_count": 43,
   "id": "09df4522",
   "metadata": {},
   "outputs": [
    {
     "name": "stdout",
     "output_type": "stream",
     "text": [
      "mishra\n"
     ]
    },
    {
     "data": {
      "text/plain": [
       "4"
      ]
     },
     "execution_count": 43,
     "metadata": {},
     "output_type": "execute_result"
    }
   ],
   "source": [
    "a=input(\"enter string:\")\n",
    "print(a)\n",
    "a.find(\"r\")"
   ]
  },
  {
   "cell_type": "code",
   "execution_count": 44,
   "id": "dadc266c",
   "metadata": {},
   "outputs": [
    {
     "data": {
      "text/plain": [
       "2"
      ]
     },
     "execution_count": 44,
     "metadata": {},
     "output_type": "execute_result"
    }
   ],
   "source": [
    "a=input(\"enter string:\")\n",
    "a.count(\"a\")"
   ]
  },
  {
   "cell_type": "code",
   "execution_count": 69,
   "id": "ece856f4",
   "metadata": {},
   "outputs": [
    {
     "name": "stdout",
     "output_type": "stream",
     "text": [
      "IIIT is educational & research institute\n",
      "IIIT is educational & research institute\n"
     ]
    }
   ],
   "source": [
    "str1=\"IIIT is educational institute\"\n",
    "str2=\"IIT is research institute\"\n",
    "\n",
    "a=str1[0:19]\n",
    "b=str2[7:26]\n",
    "c=\" & \"\n",
    "print(a+c+b)\n",
    "\n",
    "str3=(str1.replace(\"institute\",\"\"))+(str2.replace(\"IIT is \",\"& \"))\n",
    "print(str4)\n",
    "\n",
    "\n",
    "\n",
    "\n",
    "\n",
    "\n"
   ]
  },
  {
   "cell_type": "code",
   "execution_count": 2,
   "id": "52beb06b",
   "metadata": {},
   "outputs": [
    {
     "name": "stdout",
     "output_type": "stream",
     "text": [
      "HELLO, WORLD\n",
      "hello, world\n"
     ]
    }
   ],
   "source": [
    "a=\"Hello, World\"\n",
    "print(a.upper())\n",
    "print(a.lower())"
   ]
  },
  {
   "cell_type": "code",
   "execution_count": null,
   "id": "fb548cea",
   "metadata": {},
   "outputs": [
    {
     "name": "stdout",
     "output_type": "stream",
     "text": [
      "My name is Ankit Mishra 36\n"
     ]
    }
   ],
   "source": [
    "age=36\n",
    "txt=\"My name is Ankit Mishra {}\"\n",
    "print(txt.format(age))\n",
    "# age=36\n",
    "# txt=\"My name is Ankit Mishra \" + str(age)\n",
    "# print(txt)"
   ]
  },
  {
   "cell_type": "code",
   "execution_count": 14,
   "id": "b713ae86",
   "metadata": {},
   "outputs": [
    {
     "name": "stdout",
     "output_type": "stream",
     "text": [
      "i want to pay 49.95 dollars for 3 pieces of item 567\n"
     ]
    }
   ],
   "source": [
    "quantity=3\n",
    "itemno=567\n",
    "price=49.95\n",
    "myorder=\"i want to pay {2} dollars for {0} pieces of item {1}\"\n",
    "print(myorder.format(quantity,itemno,price))"
   ]
  },
  {
   "cell_type": "code",
   "execution_count": 18,
   "id": "47f1d7b2",
   "metadata": {},
   "outputs": [
    {
     "name": "stdout",
     "output_type": "stream",
     "text": [
      "we are so called \"vikings\" from the north\n"
     ]
    }
   ],
   "source": [
    "# txt=\"we are so called\"vikings\"from the north\"\n",
    "txt=\"we are so called \\\"vikings\\\" from the north\"\n",
    "print(txt)"
   ]
  },
  {
   "cell_type": "code",
   "execution_count": 24,
   "id": "1c949951",
   "metadata": {},
   "outputs": [
    {
     "name": "stdout",
     "output_type": "stream",
     "text": [
      "b' Myself Ankit Mishra'\n"
     ]
    }
   ],
   "source": [
    "str=\" Myself Ankit Mishra\"\n",
    "x=str.encode()\n",
    "print(x)"
   ]
  }
 ],
 "metadata": {
  "kernelspec": {
   "display_name": ".venv",
   "language": "python",
   "name": "python3"
  },
  "language_info": {
   "codemirror_mode": {
    "name": "ipython",
    "version": 3
   },
   "file_extension": ".py",
   "mimetype": "text/x-python",
   "name": "python",
   "nbconvert_exporter": "python",
   "pygments_lexer": "ipython3",
   "version": "3.13.5"
  }
 },
 "nbformat": 4,
 "nbformat_minor": 5
}
