{
 "cells": [
  {
   "cell_type": "code",
   "execution_count": null,
   "id": "357bfc10",
   "metadata": {},
   "outputs": [],
   "source": [
    "a=input(\"enter string:\")\n",
    "print(a)\n",
    "print(len(a))\n",
    "print(a[2])\n"
   ]
  },
  {
   "cell_type": "markdown",
   "id": "5ac9fbbb",
   "metadata": {},
   "source": [
    "slicing"
   ]
  },
  {
   "cell_type": "code",
   "execution_count": null,
   "id": "25bc63ed",
   "metadata": {},
   "outputs": [],
   "source": [
    "a=input(\"enter string:\")\n",
    "print(a)\n",
    "print(a[1:3])\n",
    "print(a[:3])\n",
    "print(a[::2])\n"
   ]
  },
  {
   "cell_type": "markdown",
   "id": "e9287103",
   "metadata": {},
   "source": [
    "negative indexing\n"
   ]
  },
  {
   "cell_type": "code",
   "execution_count": null,
   "id": "c07ae307",
   "metadata": {},
   "outputs": [],
   "source": [
    "a=input(\"enter string:\")\n",
    "print(a)\n",
    "print(a[-5:])\n",
    "print(a[-5:-2])\n",
    "print(a[::-1])"
   ]
  },
  {
   "cell_type": "markdown",
   "id": "16e0d154",
   "metadata": {},
   "source": [
    "Array"
   ]
  },
  {
   "cell_type": "code",
   "execution_count": null,
   "id": "6d37a7e5",
   "metadata": {},
   "outputs": [],
   "source": [
    "num=[10,20,30,40,50]\n",
    "print(num)\n",
    "print(num[1:4])\n",
    "print(num[4:0:-1])\n",
    "print(num[:4:-1])"
   ]
  },
  {
   "cell_type": "markdown",
   "id": "5cffa5b8",
   "metadata": {},
   "source": [
    "string check"
   ]
  },
  {
   "cell_type": "code",
   "execution_count": null,
   "id": "a04f73ab",
   "metadata": {},
   "outputs": [],
   "source": [
    "a=input(\"enter string:\")\n",
    "a.endswith(\"ra\")"
   ]
  },
  {
   "cell_type": "code",
   "execution_count": null,
   "id": "3c859707",
   "metadata": {},
   "outputs": [],
   "source": [
    "a=input(\"enter string:\")\n",
    "a.capitalize()"
   ]
  },
  {
   "cell_type": "code",
   "execution_count": null,
   "id": "ddc81531",
   "metadata": {},
   "outputs": [],
   "source": [
    "a=\"i am a coder\"\n",
    "print(a.replace(\"coder\",\"programmer\"))\n",
    "\n"
   ]
  },
  {
   "cell_type": "code",
   "execution_count": null,
   "id": "09df4522",
   "metadata": {},
   "outputs": [],
   "source": [
    "a=input(\"enter string:\")\n",
    "print(a)\n",
    "a.find(\"r\")"
   ]
  },
  {
   "cell_type": "code",
   "execution_count": null,
   "id": "dadc266c",
   "metadata": {},
   "outputs": [],
   "source": [
    "a=input(\"enter string:\")\n",
    "a.count(\"a\")"
   ]
  },
  {
   "cell_type": "code",
   "execution_count": null,
   "id": "ece856f4",
   "metadata": {},
   "outputs": [],
   "source": [
    "str1=\"IIIT is educational institute\"\n",
    "str2=\"IIT is research institute\"\n",
    "\n",
    "a=str1[0:19]\n",
    "b=str2[7:26]\n",
    "c=\" & \"\n",
    "print(a+c+b)\n",
    "\n",
    "str3=(str1.replace(\"institute\",\"\"))+(str2.replace(\"IIT is \",\"& \"))\n",
    "print(str4)\n",
    "\n",
    "\n",
    "\n",
    "\n",
    "\n",
    "\n"
   ]
  },
  {
   "cell_type": "code",
   "execution_count": null,
   "id": "52beb06b",
   "metadata": {},
   "outputs": [],
   "source": [
    "a=\"Hello, World\"\n",
    "print(a.upper())\n",
    "print(a.lower())"
   ]
  },
  {
   "cell_type": "code",
   "execution_count": null,
   "id": "fb548cea",
   "metadata": {},
   "outputs": [],
   "source": [
    "age=36\n",
    "txt=\"My name is Ankit Mishra {}\"\n",
    "print(txt.format(age))\n",
    "# age=36\n",
    "# txt=\"My name is Ankit Mishra \" + str(age)\n",
    "# print(txt)"
   ]
  },
  {
   "cell_type": "code",
   "execution_count": null,
   "id": "b713ae86",
   "metadata": {},
   "outputs": [],
   "source": [
    "quantity=3\n",
    "itemno=567\n",
    "price=49.95\n",
    "myorder=\"i want to pay {2} dollars for {0} pieces of item {1}\"\n",
    "print(myorder.format(quantity,itemno,price))"
   ]
  },
  {
   "cell_type": "code",
   "execution_count": null,
   "id": "47f1d7b2",
   "metadata": {},
   "outputs": [],
   "source": [
    "# txt=\"we are so called\"vikings\"from the north\"\n",
    "txt=\"we are so called \\\"vikings\\\" from the north\"\n",
    "print(txt)"
   ]
  },
  {
   "cell_type": "code",
   "execution_count": null,
   "id": "1c949951",
   "metadata": {},
   "outputs": [],
   "source": [
    "str=\" Myself Ankit Mishra\"\n",
    "x=str.encode()\n",
    "print(x)"
   ]
  }
 ],
 "metadata": {
  "kernelspec": {
   "display_name": ".venv",
   "language": "python",
   "name": "python3"
  },
  "language_info": {
   "codemirror_mode": {
    "name": "ipython",
    "version": 3
   },
   "file_extension": ".py",
   "mimetype": "text/x-python",
   "name": "python",
   "nbconvert_exporter": "python",
   "pygments_lexer": "ipython3",
   "version": "3.13.5"
  }
 },
 "nbformat": 4,
 "nbformat_minor": 5
}
