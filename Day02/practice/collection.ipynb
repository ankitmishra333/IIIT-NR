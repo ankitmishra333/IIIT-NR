{
 "cells": [
  {
   "cell_type": "code",
   "execution_count": 4,
   "id": "edd17abe",
   "metadata": {},
   "outputs": [
    {
     "name": "stdout",
     "output_type": "stream",
     "text": [
      "['apple', 'banana', 'mango']\n",
      "apple\n"
     ]
    }
   ],
   "source": [
    "thislist=[\"apple\",\"banana\",\"mango\"]\n",
    "print(thislist)\n",
    "print(thislist[0])"
   ]
  },
  {
   "cell_type": "markdown",
   "id": "8b587a18",
   "metadata": {},
   "source": [
    "tuple\n"
   ]
  },
  {
   "cell_type": "code",
   "execution_count": null,
   "id": "1d0d8972",
   "metadata": {},
   "outputs": [
    {
     "name": "stdout",
     "output_type": "stream",
     "text": [
      "('cherry', 'apple', 'mango', 'banana', 'apple')\n",
      "apple\n"
     ]
    }
   ],
   "source": [
    "thistuple=(\"cherry\",\"apple\",\"mango\",\"banana\")\n",
    "print(thistuple)\n",
    "print(thistuple[1])"
   ]
  },
  {
   "cell_type": "markdown",
   "id": "9cc2c2f5",
   "metadata": {},
   "source": [
    "dictionary"
   ]
  },
  {
   "cell_type": "code",
   "execution_count": 18,
   "id": "6344aa2e",
   "metadata": {},
   "outputs": [
    {
     "name": "stdout",
     "output_type": "stream",
     "text": [
      "{'brand': 'Ford', 'model': 'Mustang', 'year': 1964}\n"
     ]
    }
   ],
   "source": [
    "thisdict={\n",
    "    \"brand\":\"Ford\",\n",
    "    \"model\":\"Mustang\",\n",
    "    \"year\":1964\n",
    "    \n",
    "    \n",
    "}\n",
    "print(thisdict)"
   ]
  },
  {
   "cell_type": "markdown",
   "id": "b8d8e670",
   "metadata": {},
   "source": [
    "list"
   ]
  },
  {
   "cell_type": "code",
   "execution_count": 23,
   "id": "fa37bf49",
   "metadata": {},
   "outputs": [
    {
     "name": "stdout",
     "output_type": "stream",
     "text": [
      "['apple', 'mango', 'cherry', 'apple', 'apple', 'guava']\n",
      "6\n",
      "<class 'list'>\n"
     ]
    }
   ],
   "source": [
    "thislist=[\"apple\",\"mango\",\"cherry\",\"apple\",\"apple\",\"guava\"]\n",
    "print(thislist)\n",
    "print(len(thislist))\n",
    "print(type(thislist))"
   ]
  },
  {
   "cell_type": "code",
   "execution_count": null,
   "id": "0c02d8eb",
   "metadata": {},
   "outputs": [
    {
     "name": "stdout",
     "output_type": "stream",
     "text": [
      "mango\n",
      "guava\n",
      "['cherry', 'apple', 'cherry']\n",
      "['apple', 'mango', 'cherry', 'apple', 'cherry']\n",
      "['mango', 'cherry', 'apple', 'cherry', 'guava']\n",
      "['cherry', 'apple', 'cherry']\n",
      "[]\n",
      "[]\n"
     ]
    }
   ],
   "source": [
    "thislist=[\"apple\",\"mango\",\"cherry\",\"apple\",\"cherry\",\"guava\"]\n",
    "print(thislist[1])\n",
    "print(thislist[-1])\n",
    "print(thislist[2:5])\n",
    "print(thislist[:5])\n",
    "print(thislist[1:])\n",
    "print(thislist[-4:-1:1])\n",
    "print(thislist[-4:-1:-1])\n",
    "print(thislist[-4:1:1])\n"
   ]
  },
  {
   "cell_type": "markdown",
   "id": "1ad053c2",
   "metadata": {},
   "source": [
    "list modification\n"
   ]
  },
  {
   "cell_type": "code",
   "execution_count": 42,
   "id": "cfb1bb7e",
   "metadata": {},
   "outputs": [
    {
     "name": "stdout",
     "output_type": "stream",
     "text": [
      "['blackcurrent', 'mango', 'cherry', 'apple', 'cherry', 'guava']\n"
     ]
    }
   ],
   "source": [
    "thislist=[\"apple\",\"mango\",\"cherry\",\"apple\",\"cherry\",\"guava\"]\n",
    "thislist[0]=\"blackcurrent\"\n",
    "print(thislist)"
   ]
  },
  {
   "cell_type": "code",
   "execution_count": 45,
   "id": "3e873c9a",
   "metadata": {},
   "outputs": [
    {
     "name": "stdout",
     "output_type": "stream",
     "text": [
      "['apple', 'blackcurrant', 'watermelon', 'blackbeery', 'apple', 'cherry', 'guava']\n"
     ]
    }
   ],
   "source": [
    "thislist=[\"apple\",\"mango\",\"cherry\",\"apple\",\"cherry\",\"guava\"]\n",
    "thislist[1:3]=\"blackcurrant\",\"watermelon\",\"blackbeery\"\n",
    "print(thislist)"
   ]
  },
  {
   "cell_type": "code",
   "execution_count": 44,
   "id": "b105c872",
   "metadata": {},
   "outputs": [
    {
     "name": "stdout",
     "output_type": "stream",
     "text": [
      "['apple', 'blackcurrant', 'watermelon', 'cherry', 'apple', 'cherry', 'guava']\n"
     ]
    }
   ],
   "source": [
    "thislist=[\"apple\",\"mango\",\"cherry\",\"apple\",\"cherry\",\"guava\"]\n",
    "thislist[1:2]=\"blackcurrant\",\"watermelon\"\n",
    "print(thislist)"
   ]
  },
  {
   "cell_type": "code",
   "execution_count": 47,
   "id": "0370e076",
   "metadata": {},
   "outputs": [
    {
     "name": "stdout",
     "output_type": "stream",
     "text": [
      "['apple', 'blackberry', 'mango', 'cherry', 'apple', 'cherry', 'guava']\n"
     ]
    }
   ],
   "source": [
    "thislist=[\"apple\",\"mango\",\"cherry\",\"apple\",\"cherry\",\"guava\"]\n",
    "thislist.insert(1,\"blackberry\")\n",
    "print(thislist)"
   ]
  }
 ],
 "metadata": {
  "kernelspec": {
   "display_name": ".venv",
   "language": "python",
   "name": "python3"
  },
  "language_info": {
   "codemirror_mode": {
    "name": "ipython",
    "version": 3
   },
   "file_extension": ".py",
   "mimetype": "text/x-python",
   "name": "python",
   "nbconvert_exporter": "python",
   "pygments_lexer": "ipython3",
   "version": "3.13.5"
  }
 },
 "nbformat": 4,
 "nbformat_minor": 5
}
