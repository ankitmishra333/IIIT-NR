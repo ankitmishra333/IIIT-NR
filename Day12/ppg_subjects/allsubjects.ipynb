{
 "cells": [
  {
   "cell_type": "code",
   "execution_count": 1,
   "id": "11fac7bf",
   "metadata": {},
   "outputs": [],
   "source": [
    "import pandas as pd\n",
    "import numpy as np\n",
    "import plotly.express as px\n"
   ]
  },
  {
   "cell_type": "code",
   "execution_count": 48,
   "id": "0865620a",
   "metadata": {},
   "outputs": [
    {
     "name": "stdout",
     "output_type": "stream",
     "text": [
      "--- File 1: D:\\iiitnr\\Day12\\ppg_subjects\\subject_1.csv ---\n",
      "   Subject_ID     Time       PPG\n",
      "0           1  0.00000 -0.004898\n",
      "1           1  0.01001  0.091507\n",
      "2           1  0.02002  0.178407\n",
      "3           1  0.03003  0.268825\n",
      "4           1  0.04004  0.347781\n",
      "\n",
      "\n",
      "--- File 2: D:\\iiitnr\\Day12\\ppg_subjects\\subject_10.csv ---\n",
      "   Subject_ID     Time       PPG\n",
      "0          10  0.00000  0.004478\n",
      "1          10  0.01001  0.095083\n",
      "2          10  0.02002  0.180218\n",
      "3          10  0.03003  0.267075\n",
      "4          10  0.04004  0.348273\n",
      "\n",
      "\n",
      "--- File 3: D:\\iiitnr\\Day12\\ppg_subjects\\subject_11.csv ---\n",
      "   Subject_ID     Time       PPG\n",
      "0          11  0.00000  0.005849\n",
      "1          11  0.01001  0.079868\n",
      "2          11  0.02002  0.183541\n",
      "3          11  0.03003  0.267731\n",
      "4          11  0.04004  0.350260\n",
      "\n",
      "\n",
      "--- File 4: D:\\iiitnr\\Day12\\ppg_subjects\\subject_12.csv ---\n",
      "   Subject_ID     Time       PPG\n",
      "0          12  0.00000 -0.005306\n",
      "1          12  0.01001  0.096273\n",
      "2          12  0.02002  0.177101\n",
      "3          12  0.03003  0.265735\n",
      "4          12  0.04004  0.347426\n",
      "\n",
      "\n",
      "--- File 5: D:\\iiitnr\\Day12\\ppg_subjects\\subject_13.csv ---\n",
      "   Subject_ID     Time       PPG\n",
      "0          13  0.00000 -0.006317\n",
      "1          13  0.01001  0.085899\n",
      "2          13  0.02002  0.172383\n",
      "3          13  0.03003  0.270648\n",
      "4          13  0.04004  0.357791\n",
      "\n",
      "\n",
      "--- File 6: D:\\iiitnr\\Day12\\ppg_subjects\\subject_14.csv ---\n",
      "   Subject_ID     Time       PPG\n",
      "0          14  0.00000 -0.002513\n",
      "1          14  0.01001  0.093120\n",
      "2          14  0.02002  0.179090\n",
      "3          14  0.03003  0.273612\n",
      "4          14  0.04004  0.345506\n",
      "\n",
      "\n",
      "--- File 7: D:\\iiitnr\\Day12\\ppg_subjects\\subject_15.csv ---\n",
      "   Subject_ID     Time       PPG\n",
      "0          15  0.00000 -0.001318\n",
      "1          15  0.01001  0.093222\n",
      "2          15  0.02002  0.171437\n",
      "3          15  0.03003  0.260583\n",
      "4          15  0.04004  0.352528\n",
      "\n",
      "\n",
      "--- File 8: D:\\iiitnr\\Day12\\ppg_subjects\\subject_16.csv ---\n",
      "   Subject_ID     Time       PPG\n",
      "0          16  0.00000  0.009599\n",
      "1          16  0.01001  0.091882\n",
      "2          16  0.02002  0.173971\n",
      "3          16  0.03003  0.276538\n",
      "4          16  0.04004  0.339619\n",
      "\n",
      "\n",
      "--- File 9: D:\\iiitnr\\Day12\\ppg_subjects\\subject_17.csv ---\n",
      "   Subject_ID     Time       PPG\n",
      "0          17  0.00000 -0.001756\n",
      "1          17  0.01001  0.090370\n",
      "2          17  0.02002  0.184019\n",
      "3          17  0.03003  0.275654\n",
      "4          17  0.04004  0.347089\n",
      "\n",
      "\n",
      "--- File 10: D:\\iiitnr\\Day12\\ppg_subjects\\subject_18.csv ---\n",
      "   Subject_ID     Time       PPG\n",
      "0          18  0.00000 -0.003421\n",
      "1          18  0.01001  0.096189\n",
      "2          18  0.02002  0.171937\n",
      "3          18  0.03003  0.268522\n",
      "4          18  0.04004  0.344664\n",
      "\n",
      "\n",
      "--- File 11: D:\\iiitnr\\Day12\\ppg_subjects\\subject_19.csv ---\n",
      "   Subject_ID     Time       PPG\n",
      "0          19  0.00000  0.000114\n",
      "1          19  0.01001  0.095417\n",
      "2          19  0.02002  0.166955\n",
      "3          19  0.03003  0.266005\n",
      "4          19  0.04004  0.354275\n",
      "\n",
      "\n",
      "--- File 12: D:\\iiitnr\\Day12\\ppg_subjects\\subject_2.csv ---\n",
      "   Subject_ID     Time       PPG\n",
      "0           2  0.00000  0.004929\n",
      "1           2  0.01001  0.093537\n",
      "2           2  0.02002  0.176362\n",
      "3           2  0.03003  0.266230\n",
      "4           2  0.04004  0.343541\n",
      "\n",
      "\n",
      "--- File 13: D:\\iiitnr\\Day12\\ppg_subjects\\subject_20.csv ---\n",
      "   Subject_ID     Time       PPG\n",
      "0          20  0.00000 -0.000066\n",
      "1          20  0.01001  0.093127\n",
      "2          20  0.02002  0.178921\n",
      "3          20  0.03003  0.264618\n",
      "4          20  0.04004  0.344741\n",
      "\n",
      "\n",
      "--- File 14: D:\\iiitnr\\Day12\\ppg_subjects\\subject_3.csv ---\n",
      "   Subject_ID     Time       PPG\n",
      "0           3  0.00000 -0.001964\n",
      "1           3  0.01001  0.088688\n",
      "2           3  0.02002  0.180704\n",
      "3           3  0.03003  0.269242\n",
      "4           3  0.04004  0.361134\n",
      "\n",
      "\n",
      "--- File 15: D:\\iiitnr\\Day12\\ppg_subjects\\subject_4.csv ---\n",
      "   Subject_ID     Time       PPG\n",
      "0           4  0.00000  0.000586\n",
      "1           4  0.01001  0.093235\n",
      "2           4  0.02002  0.173426\n",
      "3           4  0.03003  0.266682\n",
      "4           4  0.04004  0.344175\n",
      "\n",
      "\n",
      "--- File 16: D:\\iiitnr\\Day12\\ppg_subjects\\subject_5.csv ---\n",
      "   Subject_ID     Time       PPG\n",
      "0           5  0.00000  0.001361\n",
      "1           5  0.01001  0.092213\n",
      "2           5  0.02002  0.182797\n",
      "3           5  0.03003  0.260390\n",
      "4           5  0.04004  0.343476\n",
      "\n",
      "\n",
      "--- File 17: D:\\iiitnr\\Day12\\ppg_subjects\\subject_6.csv ---\n",
      "   Subject_ID     Time       PPG\n",
      "0           6  0.00000 -0.001040\n",
      "1           6  0.01001  0.089539\n",
      "2           6  0.02002  0.179540\n",
      "3           6  0.03003  0.263016\n",
      "4           6  0.04004  0.345992\n",
      "\n",
      "\n",
      "--- File 18: D:\\iiitnr\\Day12\\ppg_subjects\\subject_7.csv ---\n",
      "   Subject_ID     Time       PPG\n",
      "0           7  0.00000 -0.008968\n",
      "1           7  0.01001  0.088499\n",
      "2           7  0.02002  0.180687\n",
      "3           7  0.03003  0.267779\n",
      "4           7  0.04004  0.340127\n",
      "\n",
      "\n",
      "--- File 19: D:\\iiitnr\\Day12\\ppg_subjects\\subject_8.csv ---\n",
      "   Subject_ID     Time       PPG\n",
      "0           8  0.00000  0.003152\n",
      "1           8  0.01001  0.092121\n",
      "2           8  0.02002  0.174912\n",
      "3           8  0.03003  0.263687\n",
      "4           8  0.04004  0.352582\n",
      "\n",
      "\n",
      "--- File 20: D:\\iiitnr\\Day12\\ppg_subjects\\subject_9.csv ---\n",
      "   Subject_ID     Time       PPG\n",
      "0           9  0.00000 -0.000357\n",
      "1           9  0.01001  0.091140\n",
      "2           9  0.02002  0.183965\n",
      "3           9  0.03003  0.266448\n",
      "4           9  0.04004  0.351833\n",
      "\n",
      "\n"
     ]
    }
   ],
   "source": [
    "import pandas as pd\n",
    "import glob\n",
    "\n",
    "csv_files = glob.glob(r\"D:\\iiitnr\\Day12\\ppg_subjects\\*.csv\")\n",
    "\n",
    "csv_files = sorted(csv_files)[:21]  \n",
    "\n",
    "\n",
    "for i, file in enumerate(csv_files):\n",
    "    print(f\"--- File {i+1}: {file} ---\")\n",
    "    df = pd.read_csv(file)\n",
    "    print(df.head())  \n",
    "    print(\"\\n\")\n"
   ]
  },
  {
   "cell_type": "code",
   "execution_count": 49,
   "id": "1b2d4739",
   "metadata": {},
   "outputs": [
    {
     "data": {
      "text/html": [
       "<div>\n",
       "<style scoped>\n",
       "    .dataframe tbody tr th:only-of-type {\n",
       "        vertical-align: middle;\n",
       "    }\n",
       "\n",
       "    .dataframe tbody tr th {\n",
       "        vertical-align: top;\n",
       "    }\n",
       "\n",
       "    .dataframe thead th {\n",
       "        text-align: right;\n",
       "    }\n",
       "</style>\n",
       "<table border=\"1\" class=\"dataframe\">\n",
       "  <thead>\n",
       "    <tr style=\"text-align: right;\">\n",
       "      <th></th>\n",
       "      <th>Subject_ID</th>\n",
       "      <th>Time</th>\n",
       "      <th>PPG</th>\n",
       "    </tr>\n",
       "  </thead>\n",
       "  <tbody>\n",
       "    <tr>\n",
       "      <th>0</th>\n",
       "      <td>9</td>\n",
       "      <td>0.00000</td>\n",
       "      <td>-0.000357</td>\n",
       "    </tr>\n",
       "    <tr>\n",
       "      <th>1</th>\n",
       "      <td>9</td>\n",
       "      <td>0.01001</td>\n",
       "      <td>0.091140</td>\n",
       "    </tr>\n",
       "    <tr>\n",
       "      <th>2</th>\n",
       "      <td>9</td>\n",
       "      <td>0.02002</td>\n",
       "      <td>0.183965</td>\n",
       "    </tr>\n",
       "    <tr>\n",
       "      <th>3</th>\n",
       "      <td>9</td>\n",
       "      <td>0.03003</td>\n",
       "      <td>0.266448</td>\n",
       "    </tr>\n",
       "    <tr>\n",
       "      <th>4</th>\n",
       "      <td>9</td>\n",
       "      <td>0.04004</td>\n",
       "      <td>0.351833</td>\n",
       "    </tr>\n",
       "    <tr>\n",
       "      <th>...</th>\n",
       "      <td>...</td>\n",
       "      <td>...</td>\n",
       "      <td>...</td>\n",
       "    </tr>\n",
       "    <tr>\n",
       "      <th>995</th>\n",
       "      <td>9</td>\n",
       "      <td>9.95996</td>\n",
       "      <td>-0.349475</td>\n",
       "    </tr>\n",
       "    <tr>\n",
       "      <th>996</th>\n",
       "      <td>9</td>\n",
       "      <td>9.96997</td>\n",
       "      <td>-0.261246</td>\n",
       "    </tr>\n",
       "    <tr>\n",
       "      <th>997</th>\n",
       "      <td>9</td>\n",
       "      <td>9.97998</td>\n",
       "      <td>-0.179726</td>\n",
       "    </tr>\n",
       "    <tr>\n",
       "      <th>998</th>\n",
       "      <td>9</td>\n",
       "      <td>9.98999</td>\n",
       "      <td>-0.084767</td>\n",
       "    </tr>\n",
       "    <tr>\n",
       "      <th>999</th>\n",
       "      <td>9</td>\n",
       "      <td>10.00000</td>\n",
       "      <td>0.000222</td>\n",
       "    </tr>\n",
       "  </tbody>\n",
       "</table>\n",
       "<p>1000 rows × 3 columns</p>\n",
       "</div>"
      ],
      "text/plain": [
       "     Subject_ID      Time       PPG\n",
       "0             9   0.00000 -0.000357\n",
       "1             9   0.01001  0.091140\n",
       "2             9   0.02002  0.183965\n",
       "3             9   0.03003  0.266448\n",
       "4             9   0.04004  0.351833\n",
       "..          ...       ...       ...\n",
       "995           9   9.95996 -0.349475\n",
       "996           9   9.96997 -0.261246\n",
       "997           9   9.97998 -0.179726\n",
       "998           9   9.98999 -0.084767\n",
       "999           9  10.00000  0.000222\n",
       "\n",
       "[1000 rows x 3 columns]"
      ]
     },
     "execution_count": 49,
     "metadata": {},
     "output_type": "execute_result"
    }
   ],
   "source": [
    "df"
   ]
  },
  {
   "cell_type": "code",
   "execution_count": 50,
   "id": "ab392918",
   "metadata": {},
   "outputs": [
    {
     "data": {
      "text/plain": [
       "array([[<Axes: title={'center': 'Subject_ID'}>,\n",
       "        <Axes: title={'center': 'Time'}>],\n",
       "       [<Axes: title={'center': 'PPG'}>, <Axes: >]], dtype=object)"
      ]
     },
     "execution_count": 50,
     "metadata": {},
     "output_type": "execute_result"
    },
    {
     "data": {
      "image/png": "[encoded data removed]",
      "text/plain": [
       "<Figure size 640x480 with 4 Axes>"
      ]
     },
     "metadata": {},
     "output_type": "display_data"
    }
   ],
   "source": [
    "df.hist()"
   ]
  },
  {
   "cell_type": "code",
   "execution_count": 54,
   "id": "e18c9b78",
   "metadata": {},
   "outputs": [],
   "source": [
    "import matplotlib.pyplot as plt"
   ]
  },
  {
   "cell_type": "code",
   "execution_count": 56,
   "id": "3c0b5b55",
   "metadata": {},
   "outputs": [
    {
     "ename": "AttributeError",
     "evalue": "module 'matplotlib.pyplot' has no attribute 'df'",
     "output_type": "error",
     "traceback": [
      "\u001b[31m---------------------------------------------------------------------------\u001b[39m",
      "\u001b[31mAttributeError\u001b[39m                            Traceback (most recent call last)",
      "\u001b[36mCell\u001b[39m\u001b[36m \u001b[39m\u001b[32mIn[56]\u001b[39m\u001b[32m, line 1\u001b[39m\n\u001b[32m----> \u001b[39m\u001b[32m1\u001b[39m \u001b[43mplt\u001b[49m\u001b[43m.\u001b[49m\u001b[43mdf\u001b[49m(kind=\u001b[33m'\u001b[39m\u001b[33mbar\u001b[39m\u001b[33m'\u001b[39m)\n",
      "\u001b[31mAttributeError\u001b[39m: module 'matplotlib.pyplot' has no attribute 'df'"
     ]
    }
   ],
   "source": [
    "plt.df(kind='bar')"
   ]
  },
  {
   "cell_type": "code",
   "execution_count": 51,
   "id": "a293c0f4",
   "metadata": {},
   "outputs": [
    {
     "data": {
      "application/vnd.plotly.v1+json": {
       "config": {
        "plotlyServerURL": "https://plot.ly"
       },
       "data": [
        {
         "hovertemplate": "Time=%{x}<br>PPG=%{y}<extra></extra>",
         "legendgroup": "",
         "line": {
          "color": "#636efa",
          "dash": "solid"
         },
         "marker": {
          "symbol": "circle"
         },
         "mode": "lines",
         "name": "",
         "orientation": "v",
         "showlegend": false,
         "type": "scatter",
         "x": {
          "bdata": "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",
          "dtype": "f8"
         },
         "xaxis": "x",
         "y": {
          "bdata": "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",
          "dtype": "f8"
         },
         "yaxis": "y"
        }
       ],
       "layout": {
        "legend": {
         "tracegroupgap": 0
        },
        "template": {
         "data": {
          "bar": [
           {
            "error_x": {
             "color": "#2a3f5f"
            },
            "error_y": {
             "color": "#2a3f5f"
            },
            "marker": {
             "line": {
              "color": "#E5ECF6",
              "width": 0.5
             },
             "pattern": {
              "fillmode": "overlay",
              "size": 10,
              "solidity": 0.2
             }
            },
            "type": "bar"
           }
          ],
          "barpolar": [
           {
            "marker": {
             "line": {
              "color": "#E5ECF6",
              "width": 0.5
             },
             "pattern": {
              "fillmode": "overlay",
              "size": 10,
              "solidity": 0.2
             }
            },
            "type": "barpolar"
           }
          ],
          "carpet": [
           {
            "aaxis": {
             "endlinecolor": "#2a3f5f",
             "gridcolor": "white",
             "linecolor": "white",
             "minorgridcolor": "white",
             "startlinecolor": "#2a3f5f"
            },
            "baxis": {
             "endlinecolor": "#2a3f5f",
             "gridcolor": "white",
             "linecolor": "white",
             "minorgridcolor": "white",
             "startlinecolor": "#2a3f5f"
            },
            "type": "carpet"
           }
          ],
          "choropleth": [
           {
            "colorbar": {
             "outlinewidth": 0,
             "ticks": ""
            },
            "type": "choropleth"
           }
          ],
          "contour": [
           {
            "colorbar": {
             "outlinewidth": 0,
             "ticks": ""
            },
            "colorscale": [
             [
              0,
              "#0d0887"
             ],
             [
              0.1111111111111111,
              "#46039f"
             ],
             [
              0.2222222222222222,
              "#7201a8"
             ],
             [
              0.3333333333333333,
              "#9c179e"
             ],
             [
              0.4444444444444444,
              "#bd3786"
             ],
             [
              0.5555555555555556,
              "#d8576b"
             ],
             [
              0.6666666666666666,
              "#ed7953"
             ],
             [
              0.7777777777777778,
              "#fb9f3a"
             ],
             [
              0.8888888888888888,
              "#fdca26"
             ],
             [
              1,
              "#f0f921"
             ]
            ],
            "type": "contour"
           }
          ],
          "contourcarpet": [
           {
            "colorbar": {
             "outlinewidth": 0,
             "ticks": ""
            },
            "type": "contourcarpet"
           }
          ],
          "heatmap": [
           {
            "colorbar": {
             "outlinewidth": 0,
             "ticks": ""
            },
            "colorscale": [
             [
              0,
              "#0d0887"
             ],
             [
              0.1111111111111111,
              "#46039f"
             ],
             [
              0.2222222222222222,
              "#7201a8"
             ],
             [
              0.3333333333333333,
              "#9c179e"
             ],
             [
              0.4444444444444444,
              "#bd3786"
             ],
             [
              0.5555555555555556,
              "#d8576b"
             ],
             [
              0.6666666666666666,
              "#ed7953"
             ],
             [
              0.7777777777777778,
              "#fb9f3a"
             ],
             [
              0.8888888888888888,
              "#fdca26"
             ],
             [
              1,
              "#f0f921"
             ]
            ],
            "type": "heatmap"
           }
          ],
          "histogram": [
           {
            "marker": {
             "pattern": {
              "fillmode": "overlay",
              "size": 10,
              "solidity": 0.2
             }
            },
            "type": "histogram"
           }
          ],
          "histogram2d": [
           {
            "colorbar": {
             "outlinewidth": 0,
             "ticks": ""
            },
            "colorscale": [
             [
              0,
              "#0d0887"
             ],
             [
              0.1111111111111111,
              "#46039f"
             ],
             [
              0.2222222222222222,
              "#7201a8"
             ],
             [
              0.3333333333333333,
              "#9c179e"
             ],
             [
              0.4444444444444444,
              "#bd3786"
             ],
             [
              0.5555555555555556,
              "#d8576b"
             ],
             [
              0.6666666666666666,
              "#ed7953"
             ],
             [
              0.7777777777777778,
              "#fb9f3a"
             ],
             [
              0.8888888888888888,
              "#fdca26"
             ],
             [
              1,
              "#f0f921"
             ]
            ],
            "type": "histogram2d"
           }
          ],
          "histogram2dcontour": [
           {
            "colorbar": {
             "outlinewidth": 0,
             "ticks": ""
            },
            "colorscale": [
             [
              0,
              "#0d0887"
             ],
             [
              0.1111111111111111,
              "#46039f"
             ],
             [
              0.2222222222222222,
              "#7201a8"
             ],
             [
              0.3333333333333333,
              "#9c179e"
             ],
             [
              0.4444444444444444,
              "#bd3786"
             ],
             [
              0.5555555555555556,
              "#d8576b"
             ],
             [
              0.6666666666666666,
              "#ed7953"
             ],
             [
              0.7777777777777778,
              "#fb9f3a"
             ],
             [
              0.8888888888888888,
              "#fdca26"
             ],
             [
              1,
              "#f0f921"
             ]
            ],
            "type": "histogram2dcontour"
           }
          ],
          "mesh3d": [
           {
            "colorbar": {
             "outlinewidth": 0,
             "ticks": ""
            },
            "type": "mesh3d"
           }
          ],
          "parcoords": [
           {
            "line": {
             "colorbar": {
              "outlinewidth": 0,
              "ticks": ""
             }
            },
            "type": "parcoords"
           }
          ],
          "pie": [
           {
            "automargin": true,
            "type": "pie"
           }
          ],
          "scatter": [
           {
            "fillpattern": {
             "fillmode": "overlay",
             "size": 10,
             "solidity": 0.2
            },
            "type": "scatter"
           }
          ],
          "scatter3d": [
           {
            "line": {
             "colorbar": {
              "outlinewidth": 0,
              "ticks": ""
             }
            },
            "marker": {
             "colorbar": {
              "outlinewidth": 0,
              "ticks": ""
             }
            },
            "type": "scatter3d"
           }
          ],
          "scattercarpet": [
           {
            "marker": {
             "colorbar": {
              "outlinewidth": 0,
              "ticks": ""
             }
            },
            "type": "scattercarpet"
           }
          ],
          "scattergeo": [
           {
            "marker": {
             "colorbar": {
              "outlinewidth": 0,
              "ticks": ""
             }
            },
            "type": "scattergeo"
           }
          ],
          "scattergl": [
           {
            "marker": {
             "colorbar": {
              "outlinewidth": 0,
              "ticks": ""
             }
            },
            "type": "scattergl"
           }
          ],
          "scattermap": [
           {
            "marker": {
             "colorbar": {
              "outlinewidth": 0,
              "ticks": ""
             }
            },
            "type": "scattermap"
           }
          ],
          "scattermapbox": [
           {
            "marker": {
             "colorbar": {
              "outlinewidth": 0,
              "ticks": ""
             }
            },
            "type": "scattermapbox"
           }
          ],
          "scatterpolar": [
           {
            "marker": {
             "colorbar": {
              "outlinewidth": 0,
              "ticks": ""
             }
            },
            "type": "scatterpolar"
           }
          ],
          "scatterpolargl": [
           {
            "marker": {
             "colorbar": {
              "outlinewidth": 0,
              "ticks": ""
             }
            },
            "type": "scatterpolargl"
           }
          ],
          "scatterternary": [
           {
            "marker": {
             "colorbar": {
              "outlinewidth": 0,
              "ticks": ""
             }
            },
            "type": "scatterternary"
           }
          ],
          "surface": [
           {
            "colorbar": {
             "outlinewidth": 0,
             "ticks": ""
            },
            "colorscale": [
             [
              0,
              "#0d0887"
             ],
             [
              0.1111111111111111,
              "#46039f"
             ],
             [
              0.2222222222222222,
              "#7201a8"
             ],
             [
              0.3333333333333333,
              "#9c179e"
             ],
             [
              0.4444444444444444,
              "#bd3786"
             ],
             [
              0.5555555555555556,
              "#d8576b"
             ],
             [
              0.6666666666666666,
              "#ed7953"
             ],
             [
              0.7777777777777778,
              "#fb9f3a"
             ],
             [
              0.8888888888888888,
              "#fdca26"
             ],
             [
              1,
              "#f0f921"
             ]
            ],
            "type": "surface"
           }
          ],
          "table": [
           {
            "cells": {
             "fill": {
              "color": "#EBF0F8"
             },
             "line": {
              "color": "white"
             }
            },
            "header": {
             "fill": {
              "color": "#C8D4E3"
             },
             "line": {
              "color": "white"
             }
            },
            "type": "table"
           }
          ]
         },
         "layout": {
          "annotationdefaults": {
           "arrowcolor": "#2a3f5f",
           "arrowhead": 0,
           "arrowwidth": 1
          },
          "autotypenumbers": "strict",
          "coloraxis": {
           "colorbar": {
            "outlinewidth": 0,
            "ticks": ""
           }
          },
          "colorscale": {
           "diverging": [
            [
             0,
             "#8e0152"
            ],
            [
             0.1,
             "#c51b7d"
            ],
            [
             0.2,
             "#de77ae"
            ],
            [
             0.3,
             "#f1b6da"
            ],
            [
             0.4,
             "#fde0ef"
            ],
            [
             0.5,
             "#f7f7f7"
            ],
            [
             0.6,
             "#e6f5d0"
            ],
            [
             0.7,
             "#b8e186"
            ],
            [
             0.8,
             "#7fbc41"
            ],
            [
             0.9,
             "#4d9221"
            ],
            [
             1,
             "#276419"
            ]
           ],
           "sequential": [
            [
             0,
             "#0d0887"
            ],
            [
             0.1111111111111111,
             "#46039f"
            ],
            [
             0.2222222222222222,
             "#7201a8"
            ],
            [
             0.3333333333333333,
             "#9c179e"
            ],
            [
             0.4444444444444444,
             "#bd3786"
            ],
            [
             0.5555555555555556,
             "#d8576b"
            ],
            [
             0.6666666666666666,
             "#ed7953"
            ],
            [
             0.7777777777777778,
             "#fb9f3a"
            ],
            [
             0.8888888888888888,
             "#fdca26"
            ],
            [
             1,
             "#f0f921"
            ]
           ],
           "sequentialminus": [
            [
             0,
             "#0d0887"
            ],
            [
             0.1111111111111111,
             "#46039f"
            ],
            [
             0.2222222222222222,
             "#7201a8"
            ],
            [
             0.3333333333333333,
             "#9c179e"
            ],
            [
             0.4444444444444444,
             "#bd3786"
            ],
            [
             0.5555555555555556,
             "#d8576b"
            ],
            [
             0.6666666666666666,
             "#ed7953"
            ],
            [
             0.7777777777777778,
             "#fb9f3a"
            ],
            [
             0.8888888888888888,
             "#fdca26"
            ],
            [
             1,
             "#f0f921"
            ]
           ]
          },
          "colorway": [
           "#636efa",
           "#EF553B",
           "#00cc96",
           "#ab63fa",
           "#FFA15A",
           "#19d3f3",
           "#FF6692",
           "#B6E880",
           "#FF97FF",
           "#FECB52"
          ],
          "font": {
           "color": "#2a3f5f"
          },
          "geo": {
           "bgcolor": "white",
           "lakecolor": "white",
           "landcolor": "#E5ECF6",
           "showlakes": true,
           "showland": true,
           "subunitcolor": "white"
          },
          "hoverlabel": {
           "align": "left"
          },
          "hovermode": "closest",
          "mapbox": {
           "style": "light"
          },
          "paper_bgcolor": "white",
          "plot_bgcolor": "#E5ECF6",
          "polar": {
           "angularaxis": {
            "gridcolor": "white",
            "linecolor": "white",
            "ticks": ""
           },
           "bgcolor": "#E5ECF6",
           "radialaxis": {
            "gridcolor": "white",
            "linecolor": "white",
            "ticks": ""
           }
          },
          "scene": {
           "xaxis": {
            "backgroundcolor": "#E5ECF6",
            "gridcolor": "white",
            "gridwidth": 2,
            "linecolor": "white",
            "showbackground": true,
            "ticks": "",
            "zerolinecolor": "white"
           },
           "yaxis": {
            "backgroundcolor": "#E5ECF6",
            "gridcolor": "white",
            "gridwidth": 2,
            "linecolor": "white",
            "showbackground": true,
            "ticks": "",
            "zerolinecolor": "white"
           },
           "zaxis": {
            "backgroundcolor": "#E5ECF6",
            "gridcolor": "white",
            "gridwidth": 2,
            "linecolor": "white",
            "showbackground": true,
            "ticks": "",
            "zerolinecolor": "white"
           }
          },
          "shapedefaults": {
           "line": {
            "color": "#2a3f5f"
           }
          },
          "ternary": {
           "aaxis": {
            "gridcolor": "white",
            "linecolor": "white",
            "ticks": ""
           },
           "baxis": {
            "gridcolor": "white",
            "linecolor": "white",
            "ticks": ""
           },
           "bgcolor": "#E5ECF6",
           "caxis": {
            "gridcolor": "white",
            "linecolor": "white",
            "ticks": ""
           }
          },
          "title": {
           "x": 0.05
          },
          "xaxis": {
           "automargin": true,
           "gridcolor": "white",
           "linecolor": "white",
           "ticks": "",
           "title": {
            "standoff": 15
           },
           "zerolinecolor": "white",
           "zerolinewidth": 2
          },
          "yaxis": {
           "automargin": true,
           "gridcolor": "white",
           "linecolor": "white",
           "ticks": "",
           "title": {
            "standoff": 15
           },
           "zerolinecolor": "white",
           "zerolinewidth": 2
          }
         }
        },
        "title": {
         "text": "Subject 1 - PPG Signal"
        },
        "xaxis": {
         "anchor": "y",
         "domain": [
          0,
          1
         ],
         "title": {
          "text": "Time"
         }
        },
        "yaxis": {
         "anchor": "x",
         "domain": [
          0,
          1
         ],
         "title": {
          "text": "PPG"
         }
        }
       }
      }
     },
     "metadata": {},
     "output_type": "display_data"
    }
   ],
   "source": [
    "\n",
    "\n",
    "fig = px.line(df, x='Time', y='PPG', title=f'Subject {subject_id} - PPG Signal')\n",
    "fig.show()\n"
   ]
  },
  {
   "cell_type": "code",
   "execution_count": 31,
   "id": "57c5fa5a",
   "metadata": {},
   "outputs": [
    {
     "name": "stderr",
     "output_type": "stream",
     "text": [
      "<>:1: SyntaxWarning: invalid escape sequence '\\i'\n",
      "<>:1: SyntaxWarning: invalid escape sequence '\\i'\n",
      "C:\\Users\\ANKIT\\AppData\\Local\\Temp\\ipykernel_13884\\1736035633.py:1: SyntaxWarning: invalid escape sequence '\\i'\n",
      "  folder_path='D:\\iiitnr\\Day12\\ppg_subjects'\n"
     ]
    }
   ],
   "source": [
    "folder_path='D:\\iiitnr\\Day12\\ppg_subjects'\n",
    "file_list=glob.glob(folder_path + '*.csv')"
   ]
  },
  {
   "cell_type": "code",
   "execution_count": 32,
   "id": "abbe4f75",
   "metadata": {},
   "outputs": [],
   "source": [
    "for file_path in file_list:\n",
    "    df=pd.read_csv(file_path)\n",
    "    subject_id=df['Subject_ID'].iloc[0]"
   ]
  },
  {
   "cell_type": "code",
   "execution_count": 42,
   "id": "be746e9b",
   "metadata": {},
   "outputs": [
    {
     "data": {
      "text/plain": [
       "'\"\"\\nsubject_id = 1 \\n\\nfig = px.line(df, x=\\'Time\\', y=\\'PPG\\', title=f\\'Subject {subject_id} - PPG Signal\\')\\n\\nfig.show()'"
      ]
     },
     "execution_count": 42,
     "metadata": {},
     "output_type": "execute_result"
    }
   ],
   "source": [
    "\"\"\"\"\"\n",
    "subject_id = 1 \n",
    "\n",
    "fig = px.line(df, x='Time', y='PPG', title=f'Subject {subject_id} - PPG Signal')\n",
    "\n",
    "fig.show()\"\"\"\n"
   ]
  },
  {
   "cell_type": "code",
   "execution_count": 57,
   "id": "0049048d",
   "metadata": {},
   "outputs": [
    {
     "data": {
      "application/vnd.plotly.v1+json": {
       "config": {
        "plotlyServerURL": "https://plot.ly"
       },
       "data": [
        {
         "hovertemplate": "Time=%{x}<br>PPG=%{y}<extra></extra>",
         "legendgroup": "",
         "line": {
          "color": "#636efa",
          "dash": "solid"
         },
         "marker": {
          "symbol": "circle"
         },
         "mode": "lines",
         "name": "",
         "orientation": "v",
         "showlegend": false,
         "type": "scatter",
         "x": {
          "bdata": "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",
          "dtype": "f8"
         },
         "xaxis": "x",
         "y": {
          "bdata": "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",
          "dtype": "f8"
         },
         "yaxis": "y"
        }
       ],
       "layout": {
        "legend": {
         "tracegroupgap": 0
        },
        "template": {
         "data": {
          "bar": [
           {
            "error_x": {
             "color": "#2a3f5f"
            },
            "error_y": {
             "color": "#2a3f5f"
            },
            "marker": {
             "line": {
              "color": "#E5ECF6",
              "width": 0.5
             },
             "pattern": {
              "fillmode": "overlay",
              "size": 10,
              "solidity": 0.2
             }
            },
            "type": "bar"
           }
          ],
          "barpolar": [
           {
            "marker": {
             "line": {
              "color": "#E5ECF6",
              "width": 0.5
             },
             "pattern": {
              "fillmode": "overlay",
              "size": 10,
              "solidity": 0.2
             }
            },
            "type": "barpolar"
           }
          ],
          "carpet": [
           {
            "aaxis": {
             "endlinecolor": "#2a3f5f",
             "gridcolor": "white",
             "linecolor": "white",
             "minorgridcolor": "white",
             "startlinecolor": "#2a3f5f"
            },
            "baxis": {
             "endlinecolor": "#2a3f5f",
             "gridcolor": "white",
             "linecolor": "white",
             "minorgridcolor": "white",
             "startlinecolor": "#2a3f5f"
            },
            "type": "carpet"
           }
          ],
          "choropleth": [
           {
            "colorbar": {
             "outlinewidth": 0,
             "ticks": ""
            },
            "type": "choropleth"
           }
          ],
          "contour": [
           {
            "colorbar": {
             "outlinewidth": 0,
             "ticks": ""
            },
            "colorscale": [
             [
              0,
              "#0d0887"
             ],
             [
              0.1111111111111111,
              "#46039f"
             ],
             [
              0.2222222222222222,
              "#7201a8"
             ],
             [
              0.3333333333333333,
              "#9c179e"
             ],
             [
              0.4444444444444444,
              "#bd3786"
             ],
             [
              0.5555555555555556,
              "#d8576b"
             ],
             [
              0.6666666666666666,
              "#ed7953"
             ],
             [
              0.7777777777777778,
              "#fb9f3a"
             ],
             [
              0.8888888888888888,
              "#fdca26"
             ],
             [
              1,
              "#f0f921"
             ]
            ],
            "type": "contour"
           }
          ],
          "contourcarpet": [
           {
            "colorbar": {
             "outlinewidth": 0,
             "ticks": ""
            },
            "type": "contourcarpet"
           }
          ],
          "heatmap": [
           {
            "colorbar": {
             "outlinewidth": 0,
             "ticks": ""
            },
            "colorscale": [
             [
              0,
              "#0d0887"
             ],
             [
              0.1111111111111111,
              "#46039f"
             ],
             [
              0.2222222222222222,
              "#7201a8"
             ],
             [
              0.3333333333333333,
              "#9c179e"
             ],
             [
              0.4444444444444444,
              "#bd3786"
             ],
             [
              0.5555555555555556,
              "#d8576b"
             ],
             [
              0.6666666666666666,
              "#ed7953"
             ],
             [
              0.7777777777777778,
              "#fb9f3a"
             ],
             [
              0.8888888888888888,
              "#fdca26"
             ],
             [
              1,
              "#f0f921"
             ]
            ],
            "type": "heatmap"
           }
          ],
          "histogram": [
           {
            "marker": {
             "pattern": {
              "fillmode": "overlay",
              "size": 10,
              "solidity": 0.2
             }
            },
            "type": "histogram"
           }
          ],
          "histogram2d": [
           {
            "colorbar": {
             "outlinewidth": 0,
             "ticks": ""
            },
            "colorscale": [
             [
              0,
              "#0d0887"
             ],
             [
              0.1111111111111111,
              "#46039f"
             ],
             [
              0.2222222222222222,
              "#7201a8"
             ],
             [
              0.3333333333333333,
              "#9c179e"
             ],
             [
              0.4444444444444444,
              "#bd3786"
             ],
             [
              0.5555555555555556,
              "#d8576b"
             ],
             [
              0.6666666666666666,
              "#ed7953"
             ],
             [
              0.7777777777777778,
              "#fb9f3a"
             ],
             [
              0.8888888888888888,
              "#fdca26"
             ],
             [
              1,
              "#f0f921"
             ]
            ],
            "type": "histogram2d"
           }
          ],
          "histogram2dcontour": [
           {
            "colorbar": {
             "outlinewidth": 0,
             "ticks": ""
            },
            "colorscale": [
             [
              0,
              "#0d0887"
             ],
             [
              0.1111111111111111,
              "#46039f"
             ],
             [
              0.2222222222222222,
              "#7201a8"
             ],
             [
              0.3333333333333333,
              "#9c179e"
             ],
             [
              0.4444444444444444,
              "#bd3786"
             ],
             [
              0.5555555555555556,
              "#d8576b"
             ],
             [
              0.6666666666666666,
              "#ed7953"
             ],
             [
              0.7777777777777778,
              "#fb9f3a"
             ],
             [
              0.8888888888888888,
              "#fdca26"
             ],
             [
              1,
              "#f0f921"
             ]
            ],
            "type": "histogram2dcontour"
           }
          ],
          "mesh3d": [
           {
            "colorbar": {
             "outlinewidth": 0,
             "ticks": ""
            },
            "type": "mesh3d"
           }
          ],
          "parcoords": [
           {
            "line": {
             "colorbar": {
              "outlinewidth": 0,
              "ticks": ""
             }
            },
            "type": "parcoords"
           }
          ],
          "pie": [
           {
            "automargin": true,
            "type": "pie"
           }
          ],
          "scatter": [
           {
            "fillpattern": {
             "fillmode": "overlay",
             "size": 10,
             "solidity": 0.2
            },
            "type": "scatter"
           }
          ],
          "scatter3d": [
           {
            "line": {
             "colorbar": {
              "outlinewidth": 0,
              "ticks": ""
             }
            },
            "marker": {
             "colorbar": {
              "outlinewidth": 0,
              "ticks": ""
             }
            },
            "type": "scatter3d"
           }
          ],
          "scattercarpet": [
           {
            "marker": {
             "colorbar": {
              "outlinewidth": 0,
              "ticks": ""
             }
            },
            "type": "scattercarpet"
           }
          ],
          "scattergeo": [
           {
            "marker": {
             "colorbar": {
              "outlinewidth": 0,
              "ticks": ""
             }
            },
            "type": "scattergeo"
           }
          ],
          "scattergl": [
           {
            "marker": {
             "colorbar": {
              "outlinewidth": 0,
              "ticks": ""
             }
            },
            "type": "scattergl"
           }
          ],
          "scattermap": [
           {
            "marker": {
             "colorbar": {
              "outlinewidth": 0,
              "ticks": ""
             }
            },
            "type": "scattermap"
           }
          ],
          "scattermapbox": [
           {
            "marker": {
             "colorbar": {
              "outlinewidth": 0,
              "ticks": ""
             }
            },
            "type": "scattermapbox"
           }
          ],
          "scatterpolar": [
           {
            "marker": {
             "colorbar": {
              "outlinewidth": 0,
              "ticks": ""
             }
            },
            "type": "scatterpolar"
           }
          ],
          "scatterpolargl": [
           {
            "marker": {
             "colorbar": {
              "outlinewidth": 0,
              "ticks": ""
             }
            },
            "type": "scatterpolargl"
           }
          ],
          "scatterternary": [
           {
            "marker": {
             "colorbar": {
              "outlinewidth": 0,
              "ticks": ""
             }
            },
            "type": "scatterternary"
           }
          ],
          "surface": [
           {
            "colorbar": {
             "outlinewidth": 0,
             "ticks": ""
            },
            "colorscale": [
             [
              0,
              "#0d0887"
             ],
             [
              0.1111111111111111,
              "#46039f"
             ],
             [
              0.2222222222222222,
              "#7201a8"
             ],
             [
              0.3333333333333333,
              "#9c179e"
             ],
             [
              0.4444444444444444,
              "#bd3786"
             ],
             [
              0.5555555555555556,
              "#d8576b"
             ],
             [
              0.6666666666666666,
              "#ed7953"
             ],
             [
              0.7777777777777778,
              "#fb9f3a"
             ],
             [
              0.8888888888888888,
              "#fdca26"
             ],
             [
              1,
              "#f0f921"
             ]
            ],
            "type": "surface"
           }
          ],
          "table": [
           {
            "cells": {
             "fill": {
              "color": "#EBF0F8"
             },
             "line": {
              "color": "white"
             }
            },
            "header": {
             "fill": {
              "color": "#C8D4E3"
             },
             "line": {
              "color": "white"
             }
            },
            "type": "table"
           }
          ]
         },
         "layout": {
          "annotationdefaults": {
           "arrowcolor": "#2a3f5f",
           "arrowhead": 0,
           "arrowwidth": 1
          },
          "autotypenumbers": "strict",
          "coloraxis": {
           "colorbar": {
            "outlinewidth": 0,
            "ticks": ""
           }
          },
          "colorscale": {
           "diverging": [
            [
             0,
             "#8e0152"
            ],
            [
             0.1,
             "#c51b7d"
            ],
            [
             0.2,
             "#de77ae"
            ],
            [
             0.3,
             "#f1b6da"
            ],
            [
             0.4,
             "#fde0ef"
            ],
            [
             0.5,
             "#f7f7f7"
            ],
            [
             0.6,
             "#e6f5d0"
            ],
            [
             0.7,
             "#b8e186"
            ],
            [
             0.8,
             "#7fbc41"
            ],
            [
             0.9,
             "#4d9221"
            ],
            [
             1,
             "#276419"
            ]
           ],
           "sequential": [
            [
             0,
             "#0d0887"
            ],
            [
             0.1111111111111111,
             "#46039f"
            ],
            [
             0.2222222222222222,
             "#7201a8"
            ],
            [
             0.3333333333333333,
             "#9c179e"
            ],
            [
             0.4444444444444444,
             "#bd3786"
            ],
            [
             0.5555555555555556,
             "#d8576b"
            ],
            [
             0.6666666666666666,
             "#ed7953"
            ],
            [
             0.7777777777777778,
             "#fb9f3a"
            ],
            [
             0.8888888888888888,
             "#fdca26"
            ],
            [
             1,
             "#f0f921"
            ]
           ],
           "sequentialminus": [
            [
             0,
             "#0d0887"
            ],
            [
             0.1111111111111111,
             "#46039f"
            ],
            [
             0.2222222222222222,
             "#7201a8"
            ],
            [
             0.3333333333333333,
             "#9c179e"
            ],
            [
             0.4444444444444444,
             "#bd3786"
            ],
            [
             0.5555555555555556,
             "#d8576b"
            ],
            [
             0.6666666666666666,
             "#ed7953"
            ],
            [
             0.7777777777777778,
             "#fb9f3a"
            ],
            [
             0.8888888888888888,
             "#fdca26"
            ],
            [
             1,
             "#f0f921"
            ]
           ]
          },
          "colorway": [
           "#636efa",
           "#EF553B",
           "#00cc96",
           "#ab63fa",
           "#FFA15A",
           "#19d3f3",
           "#FF6692",
           "#B6E880",
           "#FF97FF",
           "#FECB52"
          ],
          "font": {
           "color": "#2a3f5f"
          },
          "geo": {
           "bgcolor": "white",
           "lakecolor": "white",
           "landcolor": "#E5ECF6",
           "showlakes": true,
           "showland": true,
           "subunitcolor": "white"
          },
          "hoverlabel": {
           "align": "left"
          },
          "hovermode": "closest",
          "mapbox": {
           "style": "light"
          },
          "paper_bgcolor": "white",
          "plot_bgcolor": "#E5ECF6",
          "polar": {
           "angularaxis": {
            "gridcolor": "white",
            "linecolor": "white",
            "ticks": ""
           },
           "bgcolor": "#E5ECF6",
           "radialaxis": {
            "gridcolor": "white",
            "linecolor": "white",
            "ticks": ""
           }
          },
          "scene": {
           "xaxis": {
            "backgroundcolor": "#E5ECF6",
            "gridcolor": "white",
            "gridwidth": 2,
            "linecolor": "white",
            "showbackground": true,
            "ticks": "",
            "zerolinecolor": "white"
           },
           "yaxis": {
            "backgroundcolor": "#E5ECF6",
            "gridcolor": "white",
            "gridwidth": 2,
            "linecolor": "white",
            "showbackground": true,
            "ticks": "",
            "zerolinecolor": "white"
           },
           "zaxis": {
            "backgroundcolor": "#E5ECF6",
            "gridcolor": "white",
            "gridwidth": 2,
            "linecolor": "white",
            "showbackground": true,
            "ticks": "",
            "zerolinecolor": "white"
           }
          },
          "shapedefaults": {
           "line": {
            "color": "#2a3f5f"
           }
          },
          "ternary": {
           "aaxis": {
            "gridcolor": "white",
            "linecolor": "white",
            "ticks": ""
           },
           "baxis": {
            "gridcolor": "white",
            "linecolor": "white",
            "ticks": ""
           },
           "bgcolor": "#E5ECF6",
           "caxis": {
            "gridcolor": "white",
            "linecolor": "white",
            "ticks": ""
           }
          },
          "title": {
           "x": 0.05
          },
          "xaxis": {
           "automargin": true,
           "gridcolor": "white",
           "linecolor": "white",
           "ticks": "",
           "title": {
            "standoff": 15
           },
           "zerolinecolor": "white",
           "zerolinewidth": 2
          },
          "yaxis": {
           "automargin": true,
           "gridcolor": "white",
           "linecolor": "white",
           "ticks": "",
           "title": {
            "standoff": 15
           },
           "zerolinecolor": "white",
           "zerolinewidth": 2
          }
         }
        },
        "title": {
         "text": "Subject 1 - PPG Signal"
        },
        "xaxis": {
         "anchor": "y",
         "domain": [
          0,
          1
         ],
         "title": {
          "text": "Time"
         }
        },
        "yaxis": {
         "anchor": "x",
         "domain": [
          0,
          1
         ],
         "title": {
          "text": "PPG"
         }
        }
       }
      }
     },
     "metadata": {},
     "output_type": "display_data"
    }
   ],
   "source": [
    "\n",
    "fig = px.line(df, x='Time', y='PPG', title=f'Subject {subject_id} - PPG Signal')\n",
    "fig.show()\n"
   ]
  },
  {
   "cell_type": "code",
   "execution_count": null,
   "id": "44836af3",
   "metadata": {},
   "outputs": [
    {
     "name": "stdout",
     "output_type": "stream",
     "text": [
      "Created: filtered_subject_1.csv\n",
      "Created: filtered_subject_10.csv\n",
      "Created: filtered_subject_11.csv\n",
      "Created: filtered_subject_12.csv\n",
      "Created: filtered_subject_13.csv\n",
      "Created: filtered_subject_14.csv\n",
      "Created: filtered_subject_15.csv\n",
      "Created: filtered_subject_16.csv\n",
      "Created: filtered_subject_17.csv\n",
      "Created: filtered_subject_18.csv\n",
      "Created: filtered_subject_19.csv\n",
      "Created: filtered_subject_2.csv\n",
      "Created: filtered_subject_20.csv\n",
      "Created: filtered_subject_3.csv\n",
      "Created: filtered_subject_4.csv\n",
      "Created: filtered_subject_5.csv\n",
      "Created: filtered_subject_6.csv\n",
      "Created: filtered_subject_7.csv\n",
      "Created: filtered_subject_8.csv\n",
      "Created: filtered_subject_9.csv\n"
     ]
    },
    {
     "name": "stderr",
     "output_type": "stream",
     "text": [
      "<>:9: SyntaxWarning:\n",
      "\n",
      "invalid escape sequence '\\i'\n",
      "\n",
      "<>:9: SyntaxWarning:\n",
      "\n",
      "invalid escape sequence '\\i'\n",
      "\n",
      "C:\\Users\\ANKIT\\AppData\\Local\\Temp\\ipykernel_13884\\4178055574.py:9: SyntaxWarning:\n",
      "\n",
      "invalid escape sequence '\\i'\n",
      "\n"
     ]
    }
   ],
   "source": [
    "import pandas as pd\n",
    "import os\n",
    "import glob\n",
    "\n",
    "# Set folder path\n",
    "folder_path = r\"D:\\iiitnr\\Day12\\ppg_subjects\"\n",
    "\n",
    "\n",
    "master_df = pd.read_csv(os.path.join(folder_path, \"D:\\iiitnr\\Day12\\master_dataset.csv\"))\n",
    "\n",
    "\n",
    "selected_columns = master_df[['HR', 'HRV']]\n",
    "\n",
    "# Find all CSV files in the folder excluding the master file\n",
    "csv_files = glob.glob(os.path.join(folder_path, \"*.csv\"))\n",
    "csv_files = [f for f in csv_files if \"master_dataset.csv\" not in f]\n",
    "\n",
    "for file_path in csv_files:\n",
    "    \n",
    "    file_name = os.path.basename(file_path)\n",
    "    \n",
    "\n",
    "    new_file_name = f\"filtered_{file_name}\"\n",
    "    new_file_path = os.path.join(folder_path, new_file_name)\n",
    "    \n",
    "    selected_columns.to_csv(new_file_path, index=False)\n",
    "\n",
    "    print(f\"Created: {new_file_name}\")\n"
   ]
  },
  {
   "cell_type": "code",
   "execution_count": null,
   "id": "07379357",
   "metadata": {},
   "outputs": [],
   "source": [
    "import pandas as pd\n",
    "import glob\n",
    "\n",
    "master = pd.read_csv(\"D:/iiitnr/Day12/master_dataset.csv\")\n",
    "target = master[['HR', 'HRV']]\n",
    "\n",
    "csvfiles = glob.glob(\"D:/iiitnr/Day12/ppg_subjects/*.csv\")\n",
    "\n",
    "for file in csv_files:\n",
    "    df = pd.read_csv(file)\n",
    "    filtered = pd.concat([df, target])\n",
    "    new_file = \"D:/iiitnr/Day12/ppg_subjects/filtered_\" + file.split(\"\\\\\")[-1]\n",
    "    filtered.to_csv(new_file)\n",
    "    \n"
   ]
  }
 ],
 "metadata": {
  "kernelspec": {
   "display_name": "Python 3",
   "language": "python",
   "name": "python3"
  },
  "language_info": {
   "codemirror_mode": {
    "name": "ipython",
    "version": 3
   },
   "file_extension": ".py",
   "mimetype": "text/x-python",
   "name": "python",
   "nbconvert_exporter": "python",
   "pygments_lexer": "ipython3",
   "version": "3.13.5"
  }
 },
 "nbformat": 4,
 "nbformat_minor": 5
}
