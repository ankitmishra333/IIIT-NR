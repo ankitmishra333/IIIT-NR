{
 "cells": [
  {
   "cell_type": "markdown",
   "id": "cda3caba",
   "metadata": {},
   "source": [
    "square\n"
   ]
  },
  {
   "cell_type": "code",
   "execution_count": null,
   "id": "91fffc95",
   "metadata": {},
   "outputs": [
    {
     "name": "stdout",
     "output_type": "stream",
     "text": [
      "area of the given no. is: 25\n"
     ]
    }
   ],
   "source": [
    "s=lambda n:n*n\n",
    "n=int(input(\"enter the no.\"))\n",
    "print(\"square of the given no. is:\",s(n))"
   ]
  },
  {
   "cell_type": "markdown",
   "id": "609692a6",
   "metadata": {},
   "source": [
    "sum"
   ]
  },
  {
   "cell_type": "code",
   "execution_count": 4,
   "id": "135727b7",
   "metadata": {},
   "outputs": [
    {
     "name": "stdout",
     "output_type": "stream",
     "text": [
      "the sum is: 9\n"
     ]
    }
   ],
   "source": [
    "s=lambda a,b:a+b\n",
    "a=int(input(\"enter first no.\"))\n",
    "b=int(input(\"enter second no.\"))\n",
    "\n",
    "print(\"the sum is:\",s(a,b))"
   ]
  },
  {
   "cell_type": "markdown",
   "id": "114ed8fa",
   "metadata": {},
   "source": [
    "biggest no."
   ]
  },
  {
   "cell_type": "code",
   "execution_count": 7,
   "id": "1e7368ff",
   "metadata": {},
   "outputs": [
    {
     "name": "stdout",
     "output_type": "stream",
     "text": [
      "the greatest no. is: 90\n"
     ]
    }
   ],
   "source": [
    "s=lambda a,b: a if a>b else b\n",
    "a=int(input(\"enter first no.\"))\n",
    "b=int(input(\"enter second no.\"))\n",
    "print(\"the greatest no. is:\",s(a,b))"
   ]
  }
 ],
 "metadata": {
  "kernelspec": {
   "display_name": ".venv",
   "language": "python",
   "name": "python3"
  },
  "language_info": {
   "codemirror_mode": {
    "name": "ipython",
    "version": 3
   },
   "file_extension": ".py",
   "mimetype": "text/x-python",
   "name": "python",
   "nbconvert_exporter": "python",
   "pygments_lexer": "ipython3",
   "version": "3.13.5"
  }
 },
 "nbformat": 4,
 "nbformat_minor": 5
}
