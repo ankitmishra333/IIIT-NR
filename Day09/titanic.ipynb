{
 "cells": [
  {
   "cell_type": "code",
   "execution_count": null,
   "id": "7ae8415e",
   "metadata": {},
   "outputs": [],
   "source": [
    "import pandas as pd\n",
    "an=pd.read_csv(r\"D:\\iiitnr\\Day8\\titanic.csv\")\n",
    "an"
   ]
  },
  {
   "cell_type": "code",
   "execution_count": null,
   "id": "6b278997",
   "metadata": {},
   "outputs": [],
   "source": [
    "an2=an[[\"Embarked\",\"Age\",\"Fare\"]]\n",
    "an2.head()"
   ]
  },
  {
   "cell_type": "code",
   "execution_count": null,
   "id": "588a1352",
   "metadata": {},
   "outputs": [],
   "source": [
    "an2"
   ]
  },
  {
   "cell_type": "code",
   "execution_count": null,
   "id": "9700078c",
   "metadata": {},
   "outputs": [],
   "source": [
    "an2.tail()"
   ]
  },
  {
   "cell_type": "code",
   "execution_count": null,
   "id": "605e67c3",
   "metadata": {},
   "outputs": [],
   "source": [
    "an2.isnull().mean()"
   ]
  },
  {
   "cell_type": "code",
   "execution_count": null,
   "id": "548a6341",
   "metadata": {},
   "outputs": [],
   "source": [
    "an2.Embarked.mode()\n"
   ]
  },
  {
   "cell_type": "code",
   "execution_count": null,
   "id": "0a64131b",
   "metadata": {},
   "outputs": [],
   "source": [
    "an2.Embarked.fillna('s')"
   ]
  },
  {
   "cell_type": "code",
   "execution_count": null,
   "id": "e4a8a6e1",
   "metadata": {},
   "outputs": [],
   "source": [
    "an2.Age.mode()"
   ]
  },
  {
   "cell_type": "code",
   "execution_count": null,
   "id": "7b64f452",
   "metadata": {},
   "outputs": [],
   "source": [
    "an2.Age.fillna(24)"
   ]
  },
  {
   "cell_type": "code",
   "execution_count": null,
   "id": "4417c0df",
   "metadata": {},
   "outputs": [],
   "source": [
    "an2.Fare.mode()"
   ]
  },
  {
   "cell_type": "code",
   "execution_count": null,
   "id": "1bb08564",
   "metadata": {},
   "outputs": [],
   "source": [
    "an2.Fare.fillna(8.05)"
   ]
  },
  {
   "cell_type": "code",
   "execution_count": null,
   "id": "f8967ac0",
   "metadata": {},
   "outputs": [],
   "source": [
    "import matplotlib.pyplot as plt"
   ]
  },
  {
   "cell_type": "code",
   "execution_count": null,
   "id": "5036fc06",
   "metadata": {},
   "outputs": [],
   "source": [
    "import matplotlib.pyplot as plt\n",
    "an2[\"Age\"].plot(kind='hist')\n",
    "plt.show()\n"
   ]
  },
  {
   "cell_type": "code",
   "execution_count": null,
   "id": "ae521d8b",
   "metadata": {},
   "outputs": [],
   "source": [
    "an2_median=an2.Age.median()\n",
    "an2_median\n"
   ]
  },
  {
   "cell_type": "code",
   "execution_count": null,
   "id": "064669d8",
   "metadata": {},
   "outputs": [],
   "source": [
    "an[\"Age\"].plot(kind='hist')\n",
    "plt.show()"
   ]
  },
  {
   "cell_type": "code",
   "execution_count": null,
   "id": "dfa70c59",
   "metadata": {},
   "outputs": [],
   "source": [
    "import matplotlib.pyplot as plt\n",
    "\n",
    "# Replace missing values in 'Age' column with its median\n",
    "an2[\"Age\"] = an2[\"Age\"].fillna(an2[\"Age\"].median())\n",
    "\n",
    "# Plot the histogram\n",
    "an2[\"Age\"].plot(kind='hist')\n",
    "\"\"\"plt.xlabel(\"Age\")\n",
    "plt.title(\"Histogram of Age\")\"\"\"\n",
    "plt.show()\n"
   ]
  },
  {
   "cell_type": "code",
   "execution_count": null,
   "id": "d6b99896",
   "metadata": {},
   "outputs": [],
   "source": [
    "import matplotlib.pyplot as plt\n",
    "\n",
    "# Replace missing values in 'Age' column with its median\n",
    "an2[\"Age\"] = an2[\"Age\"].fillna(an2[\"Age\"].mean())\n",
    "\n",
    "# Plot the histogram\n",
    "an2[\"Age\"].plot(kind='hist')\n",
    "\"\"\"plt.xlabel(\"Age\")\n",
    "plt.title(\"Histogram of Age\")\"\"\"\n",
    "plt.show()\n"
   ]
  },
  {
   "cell_type": "code",
   "execution_count": null,
   "id": "441cf98a",
   "metadata": {},
   "outputs": [],
   "source": [
    "import matplotlib.pyplot as plt\n",
    "\n",
    "# Replace missing values in 'Age' column with its median\n",
    "an2[\"Age\"] = an2[\"Age\"].fillna(an2[\"Age\"].mode())\n",
    "\n",
    "# Plot the histogram\n",
    "an2[\"Age\"].plot(kind='hist')\n",
    "\"\"\"plt.xlabel(\"Age\")\n",
    "plt.title(\"Histogram of Age\")\"\"\"\n",
    "plt.show()\n"
   ]
  },
  {
   "cell_type": "code",
   "execution_count": null,
   "id": "320dc0c6",
   "metadata": {},
   "outputs": [],
   "source": [
    "import pandas as pd\n",
    "an=pd.read_csv(r\"D:\\iiitnr\\Day8\\titanic.csv\")\n",
    "an\n",
    "an3 = an[[\"Survived\", \"Pclass\", \"Age\", \"Fare\"]]\n",
    "an3\n"
   ]
  },
  {
   "cell_type": "code",
   "execution_count": null,
   "id": "67a8d302",
   "metadata": {},
   "outputs": [],
   "source": [
    "an2[\"Fare\"].plot(kind='hist')\n",
    "plt.show()"
   ]
  },
  {
   "cell_type": "code",
   "execution_count": null,
   "id": "32e54e0e",
   "metadata": {},
   "outputs": [],
   "source": [
    "import matplotlib.pyplot as plt\n",
    "\n",
    "\n",
    "an2[\"Fare\"] = an2[\"Fare\"].fillna(an2[\"Fare\"].mode())\n",
    "\n",
    "\n",
    "an2[\"Fare\"].plot(kind='hist')\n",
    "\n",
    "plt.show()\n"
   ]
  },
  {
   "cell_type": "code",
   "execution_count": null,
   "id": "4ebaf7a1",
   "metadata": {},
   "outputs": [],
   "source": [
    "import matplotlib.pyplot as plt\n",
    "\n",
    "\n",
    "an2[\"Fare\"] = an2[\"Fare\"].fillna(an2[\"Fare\"].median())\n",
    "\n",
    "\n",
    "an2[\"Fare\"].plot(kind='hist')\n",
    "\n",
    "plt.show()\n"
   ]
  },
  {
   "cell_type": "code",
   "execution_count": null,
   "id": "6a441353",
   "metadata": {},
   "outputs": [],
   "source": [
    "import matplotlib.pyplot as plt\n",
    "\n",
    "\n",
    "an2[\"Fare\"] = an2[\"Fare\"].fillna(an2[\"Fare\"].mode())\n",
    "\n",
    "\n",
    "an2[\"Fare\"].plot(kind='hist')\n",
    "\n",
    "plt.show()\n"
   ]
  },
  {
   "cell_type": "code",
   "execution_count": null,
   "id": "d4f1271c",
   "metadata": {},
   "outputs": [],
   "source": [
    "import matplotlib.pyplot as plt\n",
    "\n",
    "an2.Embarked.fillna('missing', inplace=True)\n",
    "\n",
    "an2['Embarked'].value_counts().plot(kind='bar')\n",
    "\n",
    "plt.xlabel(\"Embark Town\")\n",
    "plt.ylabel(\"Number of Passengers\")\n",
    "\n",
    "plt.show()\n"
   ]
  },
  {
   "cell_type": "code",
   "execution_count": null,
   "id": "dbc73ce1",
   "metadata": {},
   "outputs": [],
   "source": [
    "import matplotlib.pyplot as plt\n",
    "import seaborn as sns\n",
    "plt.rcParams[\"figure.figsize\"]=[8,6]\n",
    "sns.set_style(\"darkgrid\")\n",
    "titanic_data=sns.load_dataset('titanic')\n",
    "titanic_data.head()"
   ]
  },
  {
   "cell_type": "code",
   "execution_count": null,
   "id": "d95ac098",
   "metadata": {},
   "outputs": [],
   "source": [
    "td_c=titanic_data\n",
    "td_c.head()"
   ]
  },
  {
   "cell_type": "code",
   "execution_count": null,
   "id": "75a7e744",
   "metadata": {},
   "outputs": [],
   "source": [
    "td_d=td_c[[\"sex\",\"class\",\"embark_town\"]]\n",
    "td_d"
   ]
  },
  {
   "cell_type": "code",
   "execution_count": null,
   "id": "f796e188",
   "metadata": {},
   "outputs": [],
   "source": [
    "print(td_d['sex'].unique())\n",
    "print(td_d['class'].unique())\n",
    "print(td_d['embark_town'].unique())\n"
   ]
  },
  {
   "cell_type": "code",
   "execution_count": null,
   "id": "240409ba",
   "metadata": {},
   "outputs": [],
   "source": [
    "import pandas as pd\n",
    "temp=pd.get_dummies(td_d['sex'])\n",
    "temp.head()\n"
   ]
  },
  {
   "cell_type": "code",
   "execution_count": null,
   "id": "6cd5898e",
   "metadata": {},
   "outputs": [],
   "source": [
    "temp=pd.get_dummies(td_d['class'])\n",
    "temp.head()"
   ]
  },
  {
   "cell_type": "code",
   "execution_count": null,
   "id": "76c16bae",
   "metadata": {},
   "outputs": [],
   "source": [
    "pd.concat([td_d['sex'], pd.get_dummies(td_d['sex'])], axis=1).head()\n"
   ]
  },
  {
   "cell_type": "code",
   "execution_count": null,
   "id": "c3a8b131",
   "metadata": {},
   "outputs": [],
   "source": [
    "temp = pd.get_dummies(td_d['class'])\n",
    "# temp.head()\n",
    "print(temp.head())"
   ]
  },
  {
   "cell_type": "code",
   "execution_count": null,
   "id": "562e0c9f",
   "metadata": {},
   "outputs": [],
   "source": [
    "pd.concat([td_d['class'], pd.get_dummies(td_d['class'])], axis=1).head()\n"
   ]
  },
  {
   "cell_type": "code",
   "execution_count": null,
   "id": "826b958a",
   "metadata": {},
   "outputs": [],
   "source": [
    "# finding dummies on column \"embark_townx\"\n",
    "\n",
    "temp = pd.get_dummies(td_d['embark_town'])\n",
    "\n",
    "# temp.head()\n",
    "\n",
    "print(temp.head())"
   ]
  },
  {
   "cell_type": "code",
   "execution_count": null,
   "id": "95feca4e",
   "metadata": {},
   "outputs": [],
   "source": [
    "pd.concat([td_d['embark_town'], pd.get_dummies(td_d['embark_town'])], axis=1).head()"
   ]
  },
  {
   "cell_type": "code",
   "execution_count": null,
   "id": "3f9ac223",
   "metadata": {},
   "outputs": [],
   "source": [
    "from sklearn.preprocessing import LabelEncoder\n",
    "le = LabelEncoder()\n",
    "le.fit(td_d['class'])\n",
    "td_d['le_class'] = le.transform(td_d['class'])\n",
    "td_d.head(10)"
   ]
  },
  {
   "cell_type": "code",
   "execution_count": null,
   "id": "2787d7d8",
   "metadata": {},
   "outputs": [],
   "source": [
    "value_counts=td_d['embark_town'].value_counts().to_dict()\n",
    "print(value_counts)"
   ]
  },
  {
   "cell_type": "code",
   "execution_count": null,
   "id": "49c30c56",
   "metadata": {},
   "outputs": [],
   "source": [
    "td_d['embark_town'] = td_d['embark_town'].map(value_counts)\n",
    "td_d.head()"
   ]
  },
  {
   "cell_type": "code",
   "execution_count": null,
   "id": "0887458d",
   "metadata": {},
   "outputs": [],
   "source": [
    "td_d = titanic_data[[\"sex\", \"class\", \"embark_town\", \"survived\"]]\n",
    "td_d.groupby(['class'])['survived'].mean().sort_values()\n"
   ]
  },
  {
   "cell_type": "code",
   "execution_count": null,
   "id": "cb758dca",
   "metadata": {},
   "outputs": [],
   "source": [
    "td_d.groupby(['class'])['survived'].mean()"
   ]
  },
  {
   "cell_type": "code",
   "execution_count": null,
   "id": "4080045c",
   "metadata": {},
   "outputs": [],
   "source": [
    "mean_labels = td_d.groupby(['class'])['survived'].mean().to_dict()\n",
    "td_d['class_mean'] = td_d['class'].map(mean_labels)\n",
    "td_d.head()\n"
   ]
  }
 ],
 "metadata": {
  "kernelspec": {
   "display_name": "Python 3",
   "language": "python",
   "name": "python3"
  },
  "language_info": {
   "codemirror_mode": {
    "name": "ipython",
    "version": 3
   },
   "file_extension": ".py",
   "mimetype": "text/x-python",
   "name": "python",
   "nbconvert_exporter": "python",
   "pygments_lexer": "ipython3",
   "version": "3.13.5"
  }
 },
 "nbformat": 4,
 "nbformat_minor": 5
}
