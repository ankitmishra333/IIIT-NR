{
 "cells": [
  {
   "cell_type": "code",
   "execution_count": 5,
   "id": "ee77a871",
   "metadata": {},
   "outputs": [
    {
     "name": "stdout",
     "output_type": "stream",
     "text": [
      "30\n"
     ]
    }
   ],
   "source": [
    "a=5\n",
    "b=25\n",
    "c=a+b\n",
    "print (c)\n"
   ]
  },
  {
   "cell_type": "code",
   "execution_count": 4,
   "id": "fb3f2444",
   "metadata": {},
   "outputs": [
    {
     "name": "stdout",
     "output_type": "stream",
     "text": [
      "the area of square is: 121\n"
     ]
    }
   ],
   "source": [
    "a=input(\"enter the side of square: \")\n",
    "area=int(a)*int(a)\n",
    "print(\"the area of square is:\", area)"
   ]
  },
  {
   "cell_type": "code",
   "execution_count": 11,
   "id": "d3a8757d",
   "metadata": {},
   "outputs": [
    {
     "name": "stdout",
     "output_type": "stream",
     "text": [
      "their average is: 7.300000000000001\n"
     ]
    }
   ],
   "source": [
    "a=input(\"Enter first no.: \")\n",
    "b=input(\"Enter second no.:\" )\n",
    "average=(float(a)+float(b))/2\n",
    "print(\"their average is:\",average)"
   ]
  },
  {
   "cell_type": "code",
   "execution_count": 14,
   "id": "d058e19b",
   "metadata": {},
   "outputs": [
    {
     "name": "stdout",
     "output_type": "stream",
     "text": [
      "False\n"
     ]
    }
   ],
   "source": [
    "a=int(input(\"Enter first no.: \"))\n",
    "b=int(input(\"Enter second no.:\" ))\n",
    "if a>b:\n",
    "    print(True)\n",
    "else:\n",
    "    print(False)"
   ]
  },
  {
   "cell_type": "code",
   "execution_count": 1,
   "id": "63c7a51f",
   "metadata": {},
   "outputs": [
    {
     "name": "stdout",
     "output_type": "stream",
     "text": [
      "False\n"
     ]
    }
   ],
   "source": [
    "a=int(input(\"Enter first no.: \"))\n",
    "b=int(input(\"Enter second no.:\" ))\n",
    "print(a>=b)"
   ]
  }
 ],
 "metadata": {
  "kernelspec": {
   "display_name": ".venv",
   "language": "python",
   "name": "python3"
  },
  "language_info": {
   "codemirror_mode": {
    "name": "ipython",
    "version": 3
   },
   "file_extension": ".py",
   "mimetype": "text/x-python",
   "name": "python",
   "nbconvert_exporter": "python",
   "pygments_lexer": "ipython3",
   "version": "3.13.5"
  }
 },
 "nbformat": 4,
 "nbformat_minor": 5
}
