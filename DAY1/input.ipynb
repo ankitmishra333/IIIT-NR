{
 "cells": [
  {
   "cell_type": "code",
   "execution_count": 2,
   "id": "94aa2e3d",
   "metadata": {},
   "outputs": [
    {
     "name": "stdout",
     "output_type": "stream",
     "text": [
      "190\n"
     ]
    }
   ],
   "source": [
    "a=input(\"first number\")\n",
    "b=input(\"second number\")\n",
    "a+b\n",
    "print (int(a)+int(b))\n"
   ]
  },
  {
   "cell_type": "code",
   "execution_count": null,
   "id": "a25d2b5e",
   "metadata": {},
   "outputs": [],
   "source": [
    "age_dict={\n",
    "\"Ankit\":22,\n",
    "\"Shubham\":25,\n",
    "\"Rahul\":28,\n",
    "\"Ravi\":34,\n",
    "\"Raushan\":28\n",
    "}\n",
    "name=input(\"enter a name\")\n",
    "age=age_dict.get(name,\"not found\")\n",
    "print(age)\n",
    "\n"
   ]
  }
 ],
 "metadata": {
  "kernelspec": {
   "display_name": ".venv",
   "language": "python",
   "name": "python3"
  },
  "language_info": {
   "codemirror_mode": {
    "name": "ipython",
    "version": 3
   },
   "file_extension": ".py",
   "mimetype": "text/x-python",
   "name": "python",
   "nbconvert_exporter": "python",
   "pygments_lexer": "ipython3",
   "version": "3.13.5"
  }
 },
 "nbformat": 4,
 "nbformat_minor": 5
}
