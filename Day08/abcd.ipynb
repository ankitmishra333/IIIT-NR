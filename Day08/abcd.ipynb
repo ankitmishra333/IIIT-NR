{
 "cells": [
  {
   "cell_type": "markdown",
   "id": "07fc7c52",
   "metadata": {},
   "source": [
    "dropna is used to remove all the row which has NAN value(missing)"
   ]
  },
  {
   "cell_type": "code",
   "execution_count": null,
   "id": "96bab8bd",
   "metadata": {},
   "outputs": [],
   "source": [
    "import pandas as pd\n",
    "\n",
    "df=pd.read_csv(r'D:\\iiitnr\\Assignment\\book.csv')\n",
    "\n",
    "new_df=df.dropna()\n",
    "print(new_df.to_string())\n",
    "print(df)"
   ]
  },
  {
   "cell_type": "markdown",
   "id": "943df1d6",
   "metadata": {},
   "source": [
    "fillna is used to fill the specific missing values in the data. It is used to replace the missing values with a specific value. It"
   ]
  },
  {
   "cell_type": "code",
   "execution_count": null,
   "id": "401e8ce4",
   "metadata": {},
   "outputs": [],
   "source": [
    "import pandas as pd\n",
    "\n",
    "df=pd.read_csv(r'D:\\iiitnr\\Assignment\\book.csv')\n",
    "#new_df=df.dropna(inplace=True)\n",
    "new_df=df.fillna(130,inplace=True)\n",
    "#df[\"price\"].fillna(130,inplace=True)\n",
    "df.fillna(130,inplace=True)\n",
    "print(df)\n"
   ]
  },
  {
   "cell_type": "code",
   "execution_count": null,
   "id": "20a9a0db",
   "metadata": {},
   "outputs": [],
   "source": [
    "import pandas as pd\n",
    "\n",
    "df=pd.read_csv(r'D:\\iiitnr\\Assignment\\book.csv')\n",
    "new_df=df.isnull().mean()\n",
    "print(new_df)"
   ]
  },
  {
   "cell_type": "code",
   "execution_count": null,
   "id": "ac95d64e",
   "metadata": {},
   "outputs": [],
   "source": [
    "\n",
    "\n",
    "# Calculating the mean of the 'price' column\n",
    "mod_price=df[\"price\"].mean()\n",
    "\n",
    "# Printing the mean price\n",
    "print(mod_price)\n"
   ]
  },
  {
   "cell_type": "code",
   "execution_count": null,
   "id": "a56adf19",
   "metadata": {},
   "outputs": [],
   "source": [
    "median_yop = df[\"YearOfPublication\"].median()"
   ]
  },
  {
   "cell_type": "code",
   "execution_count": null,
   "id": "67da915e",
   "metadata": {},
   "outputs": [],
   "source": [
    "mod_price=df[\"price\"].mean()"
   ]
  },
  {
   "cell_type": "code",
   "execution_count": null,
   "id": "15d2eccc",
   "metadata": {},
   "outputs": [],
   "source": [
    "\n",
    "df[\"Median_Year\"] = median_yop\n",
    "df[\"mod_price\"] = mod_price\n",
    "df\n"
   ]
  }
 ],
 "metadata": {
  "kernelspec": {
   "display_name": "Python 3",
   "language": "python",
   "name": "python3"
  },
  "language_info": {
   "codemirror_mode": {
    "name": "ipython",
    "version": 3
   },
   "file_extension": ".py",
   "mimetype": "text/x-python",
   "name": "python",
   "nbconvert_exporter": "python",
   "pygments_lexer": "ipython3",
   "version": "3.13.5"
  }
 },
 "nbformat": 4,
 "nbformat_minor": 5
}
