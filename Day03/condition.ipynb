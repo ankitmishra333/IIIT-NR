{
 "cells": [
  {
   "cell_type": "code",
   "execution_count": null,
   "id": "30b8f112",
   "metadata": {},
   "outputs": [],
   "source": [
    "mysalary=50000,\n",
    "bagcost=90000,\n",
    "if mysalary>bagcost:{\n",
    "    print(\"i can purchase bag\")\n",
    "}\n",
    "else:\n",
    "    print(\"i can't purchase\")"
   ]
  },
  {
   "cell_type": "code",
   "execution_count": null,
   "id": "cfc8d268",
   "metadata": {},
   "outputs": [],
   "source": [
    "i=1\n",
    "while i<6:\n",
    "    print(i)\n",
    "    if i==3:\n",
    "        break\n",
    "    i+=1"
   ]
  },
  {
   "cell_type": "code",
   "execution_count": null,
   "id": "6ee3adba",
   "metadata": {},
   "outputs": [],
   "source": [
    "i=0\n",
    "while i<6:\n",
    "    i+=1\n",
    "    if i==3:\n",
    "        continue\n",
    "    print(i)\n"
   ]
  }
 ],
 "metadata": {
  "kernelspec": {
   "display_name": ".venv",
   "language": "python",
   "name": "python3"
  },
  "language_info": {
   "codemirror_mode": {
    "name": "ipython",
    "version": 3
   },
   "file_extension": ".py",
   "mimetype": "text/x-python",
   "name": "python",
   "nbconvert_exporter": "python",
   "pygments_lexer": "ipython3",
   "version": "3.13.5"
  }
 },
 "nbformat": 4,
 "nbformat_minor": 5
}
