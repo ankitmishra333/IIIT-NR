{
 "cells": [
  {
   "cell_type": "code",
   "execution_count": null,
   "id": "8f546b40",
   "metadata": {},
   "outputs": [],
   "source": [
    "thislist=[\"apple\",\"banana\",\"mango\",\"watermelon\",\"guava\"]\n",
    "for x in thislist:\n",
    "    print(x)"
   ]
  },
  {
   "cell_type": "code",
   "execution_count": null,
   "id": "e81c0700",
   "metadata": {},
   "outputs": [],
   "source": [
    "thislist=[\"apple\",\"banana\",\"mango\",\"watermelon\",\"guava\"]\n",
    "for x in thislist:\n",
    "    print(\"ankit\")"
   ]
  },
  {
   "cell_type": "code",
   "execution_count": null,
   "id": "ca81b1d0",
   "metadata": {},
   "outputs": [],
   "source": [
    "thislist=[\"apple\",\"banana\",\"mango\",\"watermelon\",\"guava\"]\n",
    "for i in range(len(thislist)):\n",
    "    print(thislist[i])"
   ]
  },
  {
   "cell_type": "markdown",
   "id": "fb93c0b7",
   "metadata": {},
   "source": [
    "while\n"
   ]
  },
  {
   "cell_type": "code",
   "execution_count": 17,
   "id": "0fbfef37",
   "metadata": {},
   "outputs": [
    {
     "ename": "TypeError",
     "evalue": "'int' object is not callable",
     "output_type": "error",
     "traceback": [
      "\u001b[31m---------------------------------------------------------------------------\u001b[39m",
      "\u001b[31mTypeError\u001b[39m                                 Traceback (most recent call last)",
      "\u001b[36mCell\u001b[39m\u001b[36m \u001b[39m\u001b[32mIn[17]\u001b[39m\u001b[32m, line 3\u001b[39m\n\u001b[32m      1\u001b[39m thislist=[\u001b[33m\"\u001b[39m\u001b[33mapple\u001b[39m\u001b[33m\"\u001b[39m,\u001b[33m\"\u001b[39m\u001b[33mbanana\u001b[39m\u001b[33m\"\u001b[39m,\u001b[33m\"\u001b[39m\u001b[33mmango\u001b[39m\u001b[33m\"\u001b[39m,\u001b[33m\"\u001b[39m\u001b[33mwatermelon\u001b[39m\u001b[33m\"\u001b[39m,\u001b[33m\"\u001b[39m\u001b[33mguava\u001b[39m\u001b[33m\"\u001b[39m]\n\u001b[32m      2\u001b[39m i=\u001b[32m0\u001b[39m\n\u001b[32m----> \u001b[39m\u001b[32m3\u001b[39m \u001b[38;5;28;01mwhile\u001b[39;00m i<\u001b[32;43m5\u001b[39;49m\u001b[43m \u001b[49m\u001b[43m(\u001b[49m\u001b[43mthislist\u001b[49m\u001b[43m)\u001b[49m:\n\u001b[32m      4\u001b[39m     \u001b[38;5;28mprint\u001b[39m(thislist[i])\n\u001b[32m      5\u001b[39m     i=i+\u001b[32m1\u001b[39m\n",
      "\u001b[31mTypeError\u001b[39m: 'int' object is not callable"
     ]
    }
   ],
   "source": [
    "thislist=[\"apple\",\"banana\",\"mango\",\"watermelon\",\"guava\"]\n",
    "i=0\n",
    "while i<5 (thislist):\n",
    "    print(thislist[i])\n",
    "    i=i+1"
   ]
  },
  {
   "cell_type": "code",
   "execution_count": 20,
   "id": "b0cb7ef0",
   "metadata": {},
   "outputs": [
    {
     "name": "stdout",
     "output_type": "stream",
     "text": [
      "['apple', 'banana', 'guava', 'mango', 'pineapple', 'watermelon']\n",
      "['apple', 'banana', 'guava', 'mango', 'watermelon']\n"
     ]
    }
   ],
   "source": [
    "thislist=[\"apple\",\"banana\",\"mango\",\"pineapple\",\"watermelon\",\"guava\"]\n",
    "thislist.sort()\n",
    "print(thislist)\n",
    "thislist.pop(4)\n",
    "print(thislist)"
   ]
  },
  {
   "cell_type": "code",
   "execution_count": 24,
   "id": "57498dcc",
   "metadata": {},
   "outputs": [
    {
     "name": "stdout",
     "output_type": "stream",
     "text": [
      "['apple', 'banana', 'guava', 'mango', 'pineapple', 'watermelon']\n",
      "['watermelon', 'pineapple', 'mango', 'guava', 'banana', 'apple']\n"
     ]
    }
   ],
   "source": [
    "thislist=[\"apple\",\"banana\",\"mango\",\"pineapple\",\"watermelon\",\"guava\"]\n",
    "thislist.sort()\n",
    "print(thislist)\n",
    "thislist.sort(reverse=True)\n",
    "print(thislist)"
   ]
  },
  {
   "cell_type": "code",
   "execution_count": 33,
   "id": "3b72b0df",
   "metadata": {},
   "outputs": [
    {
     "name": "stdout",
     "output_type": "stream",
     "text": [
      "['Apple', 'Banana', 'Guava', 'Mango', 'Pineapple', 'Watermelon']\n"
     ]
    }
   ],
   "source": [
    "thislist=[\"Apple\",\"Banana\",\"Mango\",\"Pineapple\",\"Watermelon\",\"Guava\"]\n",
    "thislist.sort(key=str.lower)\n",
    "\n",
    "print(thislist)\n"
   ]
  },
  {
   "cell_type": "markdown",
   "id": "4ce05a91",
   "metadata": {},
   "source": [
    "concat list"
   ]
  },
  {
   "cell_type": "code",
   "execution_count": 34,
   "id": "f03027a4",
   "metadata": {},
   "outputs": [
    {
     "name": "stdout",
     "output_type": "stream",
     "text": [
      "['a', 'b', 'c', '1', '2', '3']\n"
     ]
    }
   ],
   "source": [
    "list1=[\"a\",\"b\",\"c\"]\n",
    "list2=[\"1\",\"2\",\"3\"]\n",
    "list=list1+list2\n",
    "print(list)"
   ]
  },
  {
   "cell_type": "code",
   "execution_count": 36,
   "id": "3db279e1",
   "metadata": {},
   "outputs": [
    {
     "name": "stdout",
     "output_type": "stream",
     "text": [
      "['a', 'b', 'c', '1', '2', '3']\n"
     ]
    }
   ],
   "source": [
    "list1=[\"a\",\"b\",\"c\"]\n",
    "list2=[\"1\",\"2\",\"3\"]\n",
    "for x in list2:\n",
    "    list1.append(x)\n",
    "print(list1)\n"
   ]
  },
  {
   "cell_type": "markdown",
   "id": "0a2e211e",
   "metadata": {},
   "source": [
    "using astrick"
   ]
  },
  {
   "cell_type": "code",
   "execution_count": 38,
   "id": "52ddfe86",
   "metadata": {},
   "outputs": [
    {
     "name": "stdout",
     "output_type": "stream",
     "text": [
      "['strwberry', 'rasperry', 'cherry']\n"
     ]
    }
   ],
   "source": [
    "fruits=(\"apple\",\"banana\",\"strwberry\",\"rasperry\",\"cherry\")\n",
    "(green,yellow ,*red)=fruits\n",
    "print(red)"
   ]
  },
  {
   "cell_type": "code",
   "execution_count": 39,
   "id": "26ba65d3",
   "metadata": {},
   "outputs": [
    {
     "name": "stdout",
     "output_type": "stream",
     "text": [
      "apple\n",
      "banana\n",
      "strwberry\n",
      "rasperry\n",
      "cherry\n"
     ]
    }
   ],
   "source": [
    "fruits=(\"apple\",\"banana\",\"strwberry\",\"rasperry\",\"cherry\")\n",
    "for x in fruits:\n",
    "    print(x)"
   ]
  }
 ],
 "metadata": {
  "kernelspec": {
   "display_name": ".venv",
   "language": "python",
   "name": "python3"
  },
  "language_info": {
   "codemirror_mode": {
    "name": "ipython",
    "version": 3
   },
   "file_extension": ".py",
   "mimetype": "text/x-python",
   "name": "python",
   "nbconvert_exporter": "python",
   "pygments_lexer": "ipython3",
   "version": "3.13.5"
  }
 },
 "nbformat": 4,
 "nbformat_minor": 5
}
