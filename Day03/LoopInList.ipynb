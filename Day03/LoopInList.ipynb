{
 "cells": [
  {
   "cell_type": "code",
   "execution_count": null,
   "id": "8f546b40",
   "metadata": {},
   "outputs": [],
   "source": [
    "thislist=[\"apple\",\"banana\",\"mango\",\"watermelon\",\"guava\"]\n",
    "for x in thislist:\n",
    "    print(x)"
   ]
  },
  {
   "cell_type": "code",
   "execution_count": null,
   "id": "e81c0700",
   "metadata": {},
   "outputs": [],
   "source": [
    "thislist=[\"apple\",\"banana\",\"mango\",\"watermelon\",\"guava\"]\n",
    "for x in thislist:\n",
    "    print(\"ankit\")"
   ]
  },
  {
   "cell_type": "code",
   "execution_count": null,
   "id": "ca81b1d0",
   "metadata": {},
   "outputs": [],
   "source": [
    "thislist=[\"apple\",\"banana\",\"mango\",\"watermelon\",\"guava\"]\n",
    "for i in range(len(thislist)):\n",
    "    print(thislist[i])"
   ]
  },
  {
   "cell_type": "markdown",
   "id": "fb93c0b7",
   "metadata": {},
   "source": [
    "while\n"
   ]
  },
  {
   "cell_type": "code",
   "execution_count": null,
   "id": "0fbfef37",
   "metadata": {},
   "outputs": [],
   "source": [
    "thislist=[\"apple\",\"banana\",\"mango\",\"watermelon\",\"guava\"]\n",
    "i=0\n",
    "while i<5 (thislist):\n",
    "    print(thislist[i])\n",
    "    i=i+1"
   ]
  },
  {
   "cell_type": "code",
   "execution_count": null,
   "id": "b0cb7ef0",
   "metadata": {},
   "outputs": [],
   "source": [
    "thislist=[\"apple\",\"banana\",\"mango\",\"pineapple\",\"watermelon\",\"guava\"]\n",
    "thislist.sort()\n",
    "print(thislist)\n",
    "thislist.pop(4)\n",
    "print(thislist)"
   ]
  },
  {
   "cell_type": "code",
   "execution_count": null,
   "id": "57498dcc",
   "metadata": {},
   "outputs": [],
   "source": [
    "thislist=[\"apple\",\"banana\",\"mango\",\"pineapple\",\"watermelon\",\"guava\"]\n",
    "thislist.sort()\n",
    "print(thislist)\n",
    "thislist.sort(reverse=True)\n",
    "print(thislist)"
   ]
  },
  {
   "cell_type": "code",
   "execution_count": null,
   "id": "3b72b0df",
   "metadata": {},
   "outputs": [],
   "source": [
    "thislist=[\"Apple\",\"Banana\",\"Mango\",\"Pineapple\",\"Watermelon\",\"Guava\"]\n",
    "thislist.sort(key=str.lower)\n",
    "\n",
    "print(thislist)\n"
   ]
  },
  {
   "cell_type": "markdown",
   "id": "4ce05a91",
   "metadata": {},
   "source": [
    "concat list"
   ]
  },
  {
   "cell_type": "code",
   "execution_count": null,
   "id": "f03027a4",
   "metadata": {},
   "outputs": [],
   "source": [
    "list1=[\"a\",\"b\",\"c\"]\n",
    "list2=[\"1\",\"2\",\"3\"]\n",
    "list=list1+list2\n",
    "print(list)"
   ]
  },
  {
   "cell_type": "code",
   "execution_count": null,
   "id": "3db279e1",
   "metadata": {},
   "outputs": [],
   "source": [
    "list1=[\"a\",\"b\",\"c\"]\n",
    "list2=[\"1\",\"2\",\"3\"]\n",
    "for x in list2:\n",
    "    list1.append(x)\n",
    "print(list1)\n"
   ]
  },
  {
   "cell_type": "markdown",
   "id": "0a2e211e",
   "metadata": {},
   "source": [
    "using astrick"
   ]
  },
  {
   "cell_type": "code",
   "execution_count": null,
   "id": "52ddfe86",
   "metadata": {},
   "outputs": [],
   "source": [
    "fruits=(\"apple\",\"banana\",\"strwberry\",\"rasperry\",\"cherry\")\n",
    "(green,yellow ,*red)=fruits\n",
    "print(red)"
   ]
  },
  {
   "cell_type": "code",
   "execution_count": null,
   "id": "26ba65d3",
   "metadata": {},
   "outputs": [],
   "source": [
    "fruits=(\"apple\",\"banana\",\"strwberry\",\"rasperry\",\"cherry\")\n",
    "for x in fruits:\n",
    "    print(x)"
   ]
  }
 ],
 "metadata": {
  "kernelspec": {
   "display_name": ".venv",
   "language": "python",
   "name": "python3"
  },
  "language_info": {
   "codemirror_mode": {
    "name": "ipython",
    "version": 3
   },
   "file_extension": ".py",
   "mimetype": "text/x-python",
   "name": "python",
   "nbconvert_exporter": "python",
   "pygments_lexer": "ipython3",
   "version": "3.13.5"
  }
 },
 "nbformat": 4,
 "nbformat_minor": 5
}
