{
 "cells": [
  {
   "cell_type": "code",
   "execution_count": null,
   "id": "82689151",
   "metadata": {},
   "outputs": [],
   "source": [
    "import pandas as pd\n",
    "am=pd.read_csv(\"D:\\iiitnr\\Day11\\subject-1.csv\")\n",
    "am.head()"
   ]
  },
  {
   "cell_type": "code",
   "execution_count": null,
   "id": "792afba0",
   "metadata": {},
   "outputs": [],
   "source": [
    "am.info()"
   ]
  },
  {
   "cell_type": "code",
   "execution_count": null,
   "id": "fd5521f3",
   "metadata": {},
   "outputs": [],
   "source": [
    "am.shape"
   ]
  },
  {
   "cell_type": "code",
   "execution_count": null,
   "id": "8c9d6d12",
   "metadata": {},
   "outputs": [],
   "source": [
    "am.describe()"
   ]
  },
  {
   "cell_type": "code",
   "execution_count": null,
   "id": "c1e59f84",
   "metadata": {},
   "outputs": [],
   "source": [
    "am.columns"
   ]
  },
  {
   "cell_type": "code",
   "execution_count": null,
   "id": "bdcae8c5",
   "metadata": {},
   "outputs": [],
   "source": [
    "am.isnull().sum()"
   ]
  },
  {
   "cell_type": "code",
   "execution_count": null,
   "id": "a5abd708",
   "metadata": {},
   "outputs": [],
   "source": [
    "am.isnull().mean()"
   ]
  },
  {
   "cell_type": "code",
   "execution_count": null,
   "id": "96bcfd64",
   "metadata": {},
   "outputs": [],
   "source": []
  },
  {
   "cell_type": "code",
   "execution_count": null,
   "id": "2c12fc0c",
   "metadata": {},
   "outputs": [],
   "source": [
    "import matplotlib.pyplot as plt\n",
    "am[\"time\"].plot(kind='hist')\n",
    "plt.show()\n"
   ]
  },
  {
   "cell_type": "code",
   "execution_count": null,
   "id": "5f195607",
   "metadata": {},
   "outputs": [],
   "source": [
    "import matplotlib.pyplot as plt\n",
    "\n",
    "\n",
    "am[\"time\"] = am[\"time\"].fillna(am[\"time\"].median())\n",
    "\n",
    "\n",
    "am[\"time\"].plot(kind='hist')\n",
    "plt.xlabel(\"time\")\n",
    "plt.title(\"Histogram of time\")\n",
    "plt.show()\n"
   ]
  },
  {
   "cell_type": "code",
   "execution_count": null,
   "id": "4259597c",
   "metadata": {},
   "outputs": [],
   "source": [
    "import matplotlib.pyplot as plt\n",
    "\n",
    "\n",
    "am[\"time\"] = am[\"time\"].fillna(am[\"time\"].mean())\n",
    "\n",
    "\n",
    "am[\"time\"].plot(kind='hist')\n",
    "plt.xlabel(\"time\")\n",
    "plt.title(\"Histogram of time\")\n",
    "plt.show()\n"
   ]
  },
  {
   "cell_type": "code",
   "execution_count": null,
   "id": "57244dcc",
   "metadata": {},
   "outputs": [],
   "source": [
    "import matplotlib.pyplot as plt\n",
    "\n",
    "\n",
    "am[\"time\"] = am[\"time\"].fillna(am[\"time\"].mode())\n",
    "\n",
    "\n",
    "am[\"time\"].plot(kind='hist')\n",
    "plt.xlabel(\"time\")\n",
    "plt.title(\"Histogram of time\")\n",
    "plt.show()\n"
   ]
  },
  {
   "cell_type": "code",
   "execution_count": null,
   "id": "f54180c3",
   "metadata": {},
   "outputs": [],
   "source": [
    "import matplotlib.pyplot as plt\n",
    "am[\"ppg_signal\"].plot(kind='hist')\n",
    "plt.show()\n"
   ]
  },
  {
   "cell_type": "code",
   "execution_count": null,
   "id": "675331f8",
   "metadata": {},
   "outputs": [],
   "source": [
    "import matplotlib.pyplot as plt\n",
    "\n",
    "\n",
    "am[\"ppg_signal\"] = am[\"ppg_signal\"].fillna(am[\"ppg_signal\"].mean())\n",
    "\n",
    "\n",
    "am[\"ppg_signal\"].plot(kind='hist')\n",
    "plt.xlabel(\"ppg_signal\")\n",
    "plt.title(\"Histogram of ppg_signal\")\n",
    "plt.show()\n"
   ]
  },
  {
   "cell_type": "code",
   "execution_count": null,
   "id": "00cf1073",
   "metadata": {},
   "outputs": [],
   "source": [
    "import matplotlib.pyplot as plt\n",
    "\n",
    "\n",
    "am[\"ppg_signal\"] = am[\"ppg_signal\"].fillna(am[\"ppg_signal\"].median())\n",
    "\n",
    "\n",
    "am[\"ppg_signal\"].plot(kind='hist')\n",
    "plt.xlabel(\"ppg_signal\")\n",
    "plt.title(\"Histogram of ppg_signal\")\n",
    "plt.show()"
   ]
  },
  {
   "cell_type": "code",
   "execution_count": null,
   "id": "a8638306",
   "metadata": {},
   "outputs": [],
   "source": [
    "import matplotlib.pyplot as plt\n",
    "\n",
    "\n",
    "am[\"ppg_signal\"] = am[\"ppg_signal\"].fillna(am[\"ppg_signal\"].mode())\n",
    "\n",
    "\n",
    "am[\"ppg_signal\"].plot(kind='hist')\n",
    "plt.xlabel(\"ppg_signal\")\n",
    "plt.title(\"Histogram of ppg_signal\")\n",
    "plt.show()"
   ]
  },
  {
   "cell_type": "code",
   "execution_count": null,
   "id": "8f51357a",
   "metadata": {},
   "outputs": [],
   "source": [
    "\n",
    "am = am.dropna()                \n",
    "am = am.dropna(axis=1)          \n"
   ]
  },
  {
   "cell_type": "code",
   "execution_count": null,
   "id": "785adaff",
   "metadata": {},
   "outputs": [],
   "source": [
    "import matplotlib.pyplot as plt\n",
    "\n",
    "\n",
    "\n",
    "plt.bar(am['time'], am['ppg_signal'], width=0.3, color='g')\n"
   ]
  },
  {
   "cell_type": "code",
   "execution_count": null,
   "id": "ce0ae6f2",
   "metadata": {},
   "outputs": [],
   "source": [
    "import plotly.express as px\n",
    "\n",
    "\n",
    "fig = px.bar(am)\n",
    "fig.show()\n"
   ]
  },
  {
   "cell_type": "code",
   "execution_count": null,
   "id": "59340cce",
   "metadata": {},
   "outputs": [],
   "source": [
    "import plotly.express as px\n",
    "\n",
    "\n",
    "fig = px.line(am,x='time',y='ppg_signal')\n",
    "fig.show()"
   ]
  },
  {
   "cell_type": "code",
   "execution_count": null,
   "id": "59a662f0",
   "metadata": {},
   "outputs": [],
   "source": [
    "import plotly.express as px\n",
    "\n",
    "\n",
    "fig = px.scatter(am,x='time',y='ppg_signal')\n",
    "fig.show()"
   ]
  }
 ],
 "metadata": {
  "kernelspec": {
   "display_name": "Python 3",
   "language": "python",
   "name": "python3"
  },
  "language_info": {
   "codemirror_mode": {
    "name": "ipython",
    "version": 3
   },
   "file_extension": ".py",
   "mimetype": "text/x-python",
   "name": "python",
   "nbconvert_exporter": "python",
   "pygments_lexer": "ipython3",
   "version": "3.13.5"
  }
 },
 "nbformat": 4,
 "nbformat_minor": 5
}
