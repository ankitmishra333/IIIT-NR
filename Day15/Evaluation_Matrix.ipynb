{
 "cells": [
  {
   "cell_type": "code",
   "execution_count": 1,
   "id": "bc63c081",
   "metadata": {},
   "outputs": [
    {
     "name": "stdout",
     "output_type": "stream",
     "text": [
      "17.0\n"
     ]
    }
   ],
   "source": [
    "import numpy as np\n",
    "def meean_squared_error(y_true,y_pred):\n",
    "    return np.mean((y_true-y_pred)**2)\n",
    "y_true=np.array([25,50,65,80,100])\n",
    "y_pred=np.array([29,48,67,86,105])\n",
    "mse=meean_squared_error(y_true,y_pred)\n",
    "print(mse)\n",
    "                        "
   ]
  },
  {
   "cell_type": "code",
   "execution_count": 2,
   "id": "699174b0",
   "metadata": {},
   "outputs": [
    {
     "name": "stdout",
     "output_type": "stream",
     "text": [
      "3.8\n"
     ]
    }
   ],
   "source": [
    "import numpy as np\n",
    "def mean_absolute_error(y_true,y_pred):\n",
    "    return np.mean(np.abs(y_true-y_pred))\n",
    "y_true=np.array([25,50,65,80,100])\n",
    "y_pred=np.array([29,48,67,86,105])\n",
    "mae=mean_absolute_error(y_true,y_pred)\n",
    "print(mae)\n",
    "\n",
    "                        "
   ]
  },
  {
   "cell_type": "markdown",
   "id": "20096bbb",
   "metadata": {},
   "source": [
    "### actual=np.array([9,7,11,14,19,21,25,28])\n",
    "### prediction=np.array([11,5,14,17,21,18,23,28])"
   ]
  },
  {
   "cell_type": "markdown",
   "id": "53f67d82",
   "metadata": {},
   "source": [
    "### Mean Absolute error"
   ]
  },
  {
   "cell_type": "code",
   "execution_count": 2,
   "id": "8ba53b56",
   "metadata": {},
   "outputs": [
    {
     "name": "stdout",
     "output_type": "stream",
     "text": [
      "2.125\n"
     ]
    }
   ],
   "source": [
    "import numpy as np\n",
    "def mean_absolute_error(actual,prediction):\n",
    "    return np.mean(np.abs(actual-prediction))\n",
    "actual=np.array([9,7,11,14,19,21,25,28])\n",
    "prediction=np.array([11,5,14,17,21,18,23,28])\n",
    "mae=mean_absolute_error(actual,prediction)\n",
    "print(mae)\n",
    "\n",
    "                        "
   ]
  },
  {
   "cell_type": "markdown",
   "id": "4fa01fd2",
   "metadata": {},
   "source": [
    "### Mean Square Error"
   ]
  },
  {
   "cell_type": "code",
   "execution_count": 6,
   "id": "ab442ebb",
   "metadata": {},
   "outputs": [
    {
     "name": "stdout",
     "output_type": "stream",
     "text": [
      "5.375\n"
     ]
    }
   ],
   "source": [
    "import numpy as np\n",
    "def mean_absolute_error(actual,prediction):\n",
    "    return np.mean((actual-prediction)**2)\n",
    "mse=mean_absolute_error(actual,prediction)\n",
    "print(mse)\n",
    "\n",
    "                        "
   ]
  },
  {
   "cell_type": "markdown",
   "id": "d29e8b0c",
   "metadata": {},
   "source": [
    "### Root Mean Square Error "
   ]
  },
  {
   "cell_type": "markdown",
   "id": "c94b2acc",
   "metadata": {},
   "source": [
    "1st method"
   ]
  },
  {
   "cell_type": "code",
   "execution_count": 8,
   "id": "605f127c",
   "metadata": {},
   "outputs": [
    {
     "name": "stdout",
     "output_type": "stream",
     "text": [
      "2.318404623873926\n"
     ]
    }
   ],
   "source": [
    "rmse= mse ** 0.5\n",
    "print(rmse)\n",
    "\n"
   ]
  },
  {
   "cell_type": "markdown",
   "id": "dbd105e0",
   "metadata": {},
   "source": [
    "2nd method"
   ]
  },
  {
   "cell_type": "code",
   "execution_count": 9,
   "id": "c7bfd8e6",
   "metadata": {},
   "outputs": [
    {
     "name": "stdout",
     "output_type": "stream",
     "text": [
      "2.318404623873926\n"
     ]
    }
   ],
   "source": [
    "import math\n",
    "rmse1 = math.sqrt(mse)\n",
    "print(rmse1)  \n"
   ]
  },
  {
   "cell_type": "markdown",
   "id": "c8b93313",
   "metadata": {},
   "source": [
    "### r2-score"
   ]
  },
  {
   "cell_type": "code",
   "execution_count": 10,
   "id": "7c8c6b0c",
   "metadata": {},
   "outputs": [
    {
     "name": "stdout",
     "output_type": "stream",
     "text": [
      "R² Score: 0.9605995717344754\n"
     ]
    }
   ],
   "source": [
    "\n",
    "\n",
    "def R2_score(actual, prediction):\n",
    "    num = np.sum((actual - prediction) ** 2)\n",
    "    den = np.sum((actual - actual.mean()) ** 2)\n",
    "    r = 1 - (num / den)\n",
    "    return r\n",
    "\n",
    "r2 = R2_score(actual, prediction)\n",
    "print(\"R² Score:\", r2)\n"
   ]
  }
 ],
 "metadata": {
  "kernelspec": {
   "display_name": "Python 3",
   "language": "python",
   "name": "python3"
  },
  "language_info": {
   "codemirror_mode": {
    "name": "ipython",
    "version": 3
   },
   "file_extension": ".py",
   "mimetype": "text/x-python",
   "name": "python",
   "nbconvert_exporter": "python",
   "pygments_lexer": "ipython3",
   "version": "3.10.0"
  }
 },
 "nbformat": 4,
 "nbformat_minor": 5
}
