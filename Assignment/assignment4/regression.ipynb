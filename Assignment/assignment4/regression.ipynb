{
 "cells": [
  {
   "cell_type": "markdown",
   "id": "282d21d0",
   "metadata": {},
   "source": [
    "### 1->Build a Multiple Linear Regression model to predict Performance_Rating based on Age,\n",
    "### Years_at_Company, Job_Satisfaction, Work_Life_Balance, and Num_Trainings. Report R2,\n",
    "### MSE, and MAE."
   ]
  },
  {
   "cell_type": "code",
   "execution_count": 5,
   "id": "055ec9aa",
   "metadata": {},
   "outputs": [
    {
     "name": "stdout",
     "output_type": "stream",
     "text": [
      "R²: 0.6225481682459892\n",
      "MSE: 0.21424284399644383\n",
      "MAE: 0.3800388260279397\n"
     ]
    }
   ],
   "source": [
    "import pandas as pd\n",
    "from sklearn.linear_model import LinearRegression\n",
    "from sklearn.metrics import mean_squared_error, mean_absolute_error, r2_score\n",
    "from sklearn.model_selection import train_test_split\n",
    "\n",
    "df = pd.read_csv(r\"D:\\iiitnr\\Assignment\\assignment4\\synthetic_employee_data.csv\")\n",
    "\n",
    "features = ['Age', 'Years_at_Company', 'Job_Satisfaction', 'Work_Life_Balance', 'Num_Trainings']\n",
    "X = df[features]\n",
    "y = df['Performance_Rating']\n",
    "\n",
    "X_train, X_test, y_train, y_test = train_test_split(X, y, random_state=42)\n",
    "lr = LinearRegression()\n",
    "lr.fit(X_train, y_train)\n",
    "y_pred = lr.predict(X_test)\n",
    "\n",
    "print(\"R²:\", r2_score(y_test, y_pred))\n",
    "print(\"MSE:\", mean_squared_error(y_test, y_pred))\n",
    "print(\"MAE:\", mean_absolute_error(y_test, y_pred))\n"
   ]
  },
  {
   "cell_type": "markdown",
   "id": "0d583431",
   "metadata": {},
   "source": [
    "### 2-> Compare Linear Regression, Ridge Regression, and Lasso Regression models for\n",
    "### predicting Performance_Rating. Use 5-fold cross-validation and report average R2 and RMSE.\n",
    "### Which regularized model performs better?"
   ]
  },
  {
   "cell_type": "code",
   "execution_count": 6,
   "id": "50c4f5b0",
   "metadata": {},
   "outputs": [
    {
     "name": "stdout",
     "output_type": "stream",
     "text": [
      "Model Comparison (5-fold CV):\n",
      "\n",
      "Linear Regression: R² = 0.6076, RMSE = 0.4786\n",
      "Ridge Regression: R² = 0.6076, RMSE = 0.4786\n",
      "Lasso Regression: R² = 0.5855, RMSE = 0.4921\n"
     ]
    }
   ],
   "source": [
    "from sklearn.linear_model import Ridge, Lasso\n",
    "from sklearn.model_selection import cross_val_score\n",
    "import numpy as np\n",
    "\n",
    "models = {\n",
    "    'Linear Regression': LinearRegression(),\n",
    "    'Ridge Regression': Ridge(alpha=1.0),\n",
    "    'Lasso Regression': Lasso(alpha=0.1)\n",
    "}\n",
    "\n",
    "print(\"Model Comparison (5-fold CV):\\n\")\n",
    "for name, model in models.items():\n",
    "    r2 = cross_val_score(model, X, y, cv=5, scoring='r2').mean()\n",
    "    rmse = np.mean(np.sqrt(-cross_val_score(model, X, y, cv=5, scoring='neg_mean_squared_error')))\n",
    "    print(f\"{name}: R² = {r2:.4f}, RMSE = {rmse:.4f}\")\n"
   ]
  },
  {
   "cell_type": "markdown",
   "id": "16749af2",
   "metadata": {},
   "source": [
    "### 3->Train a Random Forest Regressor to predict Performance_Rating and visualize feature\n",
    "### importances. Which features have the highest contribution to the rating?"
   ]
  },
  {
   "cell_type": "code",
   "execution_count": 7,
   "id": "ac3df518",
   "metadata": {},
   "outputs": [
    {
     "data": {
      "image/png": "[encoded data removed]",
      "text/plain": [
       "<Figure size 640x480 with 1 Axes>"
      ]
     },
     "metadata": {},
     "output_type": "display_data"
    }
   ],
   "source": [
    "from sklearn.ensemble import RandomForestRegressor\n",
    "import matplotlib.pyplot as plt\n",
    "\n",
    "rf = RandomForestRegressor(random_state=42)\n",
    "rf.fit(X, y)\n",
    "\n",
    "# Plot feature importances\n",
    "importances = pd.Series(rf.feature_importances_, index=features)\n",
    "importances.sort_values().plot(kind='barh', title='Feature Importances')\n",
    "plt.tight_layout()\n",
    "plt.show()\n"
   ]
  },
  {
   "cell_type": "markdown",
   "id": "cae69270",
   "metadata": {},
   "source": [
    "### 4->Perform Polynomial Regression (degree 2 or 3) using Years_at_Company and Job_Satisfaction to predict Performance_Rating. Compare its performance with Linear Regression using adjusted R2. Discuss overfitting if any."
   ]
  },
  {
   "cell_type": "code",
   "execution_count": 8,
   "id": "603c4990",
   "metadata": {},
   "outputs": [
    {
     "name": "stdout",
     "output_type": "stream",
     "text": [
      "Polynomial Regression Adjusted R²: 0.5414\n"
     ]
    }
   ],
   "source": [
    "from sklearn.preprocessing import PolynomialFeatures\n",
    "from sklearn.linear_model import LinearRegression\n",
    "from sklearn.metrics import r2_score\n",
    "\n",
    "poly = PolynomialFeatures(degree=2)\n",
    "X_poly = poly.fit_transform(df[['Years_at_Company', 'Job_Satisfaction']])\n",
    "X_train, X_test, y_train, y_test = train_test_split(X_poly, y, random_state=42)\n",
    "\n",
    "model = LinearRegression()\n",
    "model.fit(X_train, y_train)\n",
    "y_pred = model.predict(X_test)\n",
    "\n",
    "r2 = r2_score(y_test, y_pred)\n",
    "n, k = X_test.shape\n",
    "adj_r2 = 1 - (1 - r2) * (n - 1) / (n - k - 1)\n",
    "\n",
    "print(f\"Polynomial Regression Adjusted R²: {adj_r2:.4f}\")\n"
   ]
  },
  {
   "cell_type": "markdown",
   "id": "02ef11a4",
   "metadata": {},
   "source": [
    "### 5->Use Recursive Feature Elimination (RFE) with a Linear Regression model to select the top  features affecting Performance_Rating. Retrain the model with these and report change in performance metrics."
   ]
  },
  {
   "cell_type": "code",
   "execution_count": 9,
   "id": "144108e3",
   "metadata": {},
   "outputs": [
    {
     "name": "stdout",
     "output_type": "stream",
     "text": [
      "Selected Features: ['Years_at_Company', 'Job_Satisfaction', 'Work_Life_Balance', 'Num_Trainings']\n",
      "R²: 0.6209605438181993\n",
      "MSE: 0.21514398460298775\n",
      "MAE: 0.38130922166087367\n"
     ]
    }
   ],
   "source": [
    "from sklearn.feature_selection import RFE\n",
    "\n",
    "lr = LinearRegression()\n",
    "rfe = RFE(lr, n_features_to_select=4)\n",
    "rfe.fit(X, y)\n",
    "\n",
    "selected_features = X.columns[rfe.support_]\n",
    "print(\"Selected Features:\", selected_features.tolist())\n",
    "\n",
    "# Retrain using selected features\n",
    "X_sel = df[selected_features]\n",
    "X_train, X_test, y_train, y_test = train_test_split(X_sel, y, random_state=42)\n",
    "\n",
    "lr.fit(X_train, y_train)\n",
    "y_pred = lr.predict(X_test)\n",
    "\n",
    "print(\"R²:\", r2_score(y_test, y_pred))\n",
    "print(\"MSE:\", mean_squared_error(y_test, y_pred))\n",
    "print(\"MAE:\", mean_absolute_error(y_test, y_pred))\n"
   ]
  }
 ],
 "metadata": {
  "kernelspec": {
   "display_name": "Python 3",
   "language": "python",
   "name": "python3"
  },
  "language_info": {
   "codemirror_mode": {
    "name": "ipython",
    "version": 3
   },
   "file_extension": ".py",
   "mimetype": "text/x-python",
   "name": "python",
   "nbconvert_exporter": "python",
   "pygments_lexer": "ipython3",
   "version": "3.10.0"
  }
 },
 "nbformat": 4,
 "nbformat_minor": 5
}
