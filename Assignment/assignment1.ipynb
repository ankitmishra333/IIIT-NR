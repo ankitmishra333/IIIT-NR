{
 "cells": [
  {
   "cell_type": "markdown",
   "id": "a55cbc98",
   "metadata": {},
   "source": []
  },
  {
   "cell_type": "code",
   "execution_count": 11,
   "id": "3c55ffbd",
   "metadata": {},
   "outputs": [
    {
     "name": "stdout",
     "output_type": "stream",
     "text": [
      "total unit:400\n",
      "Total  bill: ₹1200.0\n"
     ]
    }
   ],
   "source": [
    "units = int(input(\"Enter the no. of units consumed: \"))\n",
    "\n",
    "bill = 0\n",
    "if units <=0:\n",
    "    bill=print(\"enter valid unit\")\n",
    "\n",
    "elif units <= 100:\n",
    "    bill = units * 1.5\n",
    "elif units <= 200:\n",
    "    bill = (100 * 1.5) + (units - 100) * 2.5\n",
    "else:\n",
    "    bill = (100 * 1.5) + (100 * 2.5) + (units - 200) * 4\n",
    "\n",
    "print(f\"total unit:{units}\")\n",
    "print(f\"Total  bill: ₹{bill}\")\n"
   ]
  },
  {
   "cell_type": "markdown",
   "id": "e9316eed",
   "metadata": {},
   "source": [
    "checking datatype"
   ]
  },
  {
   "cell_type": "code",
   "execution_count": 12,
   "id": "52fa7f5e",
   "metadata": {},
   "outputs": [
    {
     "name": "stdout",
     "output_type": "stream",
     "text": [
      "It is a digit.\n"
     ]
    }
   ],
   "source": [
    "char = input(\"Enter a character: \")\n",
    "\n",
    "if len(char) != 1:\n",
    "    print(\"Please enter single character.\")\n",
    "elif char.isdigit():\n",
    "    print(\"It is a digit.\")\n",
    "elif char.isupper():\n",
    "    print(\"It is an uppercase letter.\")\n",
    "elif char.islower():\n",
    "    print(\"It is a lowercase letter.\")\n",
    "else:\n",
    "    print(\"It is a special character.\")\n"
   ]
  },
  {
   "cell_type": "markdown",
   "id": "1e3445e7",
   "metadata": {},
   "source": [
    "check password"
   ]
  },
  {
   "cell_type": "code",
   "execution_count": 2,
   "id": "e006b7ac",
   "metadata": {},
   "outputs": [
    {
     "name": "stdout",
     "output_type": "stream",
     "text": [
      "Ankit@1526\n",
      "Valid password \n"
     ]
    }
   ],
   "source": [
    "import re\n",
    "\n",
    "password = input(\"Enter your password: \")\n",
    "print(password)\n",
    "\n",
    "if (6 <= len(password) <= 16 and\n",
    "    re.search(r\"[a-z]\", password) and\n",
    "    re.search(r\"[A-Z]\", password) and\n",
    "    re.search(r\"[0-9]\", password) and\n",
    "    re.search(r\"[$#@]\", password)):\n",
    "    print(\"Valid password \")\n",
    "else:\n",
    "    print(\"Invalid password \")\n"
   ]
  }
 ],
 "metadata": {
  "kernelspec": {
   "display_name": ".venv",
   "language": "python",
   "name": "python3"
  },
  "language_info": {
   "codemirror_mode": {
    "name": "ipython",
    "version": 3
   },
   "file_extension": ".py",
   "mimetype": "text/x-python",
   "name": "python",
   "nbconvert_exporter": "python",
   "pygments_lexer": "ipython3",
   "version": "3.13.5"
  }
 },
 "nbformat": 4,
 "nbformat_minor": 5
}
