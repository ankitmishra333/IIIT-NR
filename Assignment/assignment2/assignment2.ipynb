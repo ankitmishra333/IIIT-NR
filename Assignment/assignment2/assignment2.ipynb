{
 "cells": [
  {
   "cell_type": "markdown",
   "id": "164db1df",
   "metadata": {},
   "source": [
    "### TASK-1"
   ]
  },
  {
   "cell_type": "markdown",
   "id": "6c71987e",
   "metadata": {},
   "source": [
    "A-> Load a dataset into a pandas DataFrame and display the first few rows."
   ]
  },
  {
   "cell_type": "code",
   "execution_count": null,
   "id": "26e0123f",
   "metadata": {},
   "outputs": [],
   "source": [
    "import pandas as pd\n",
    "ab=pd.read_csv(r\"D:\\iiitnr\\Assignment\\cost_index.csv\")\n",
    "ab.head()"
   ]
  },
  {
   "cell_type": "markdown",
   "id": "c5320d4e",
   "metadata": {},
   "source": [
    "B-> Filter the DataFrame to display only the rows that meet a certain condition\n",
    "(e.g., all rows where a specific column's value exceeds a threshold)."
   ]
  },
  {
   "cell_type": "code",
   "execution_count": null,
   "id": "f81c0963",
   "metadata": {},
   "outputs": [],
   "source": [
    "filter=ab[ab[\"Rent Index\"] > 40]\n",
    "filter.head()\n",
    "\n"
   ]
  },
  {
   "cell_type": "markdown",
   "id": "b6e63d44",
   "metadata": {},
   "source": [
    "C-> Sort the DataFrame based on a particular column in ascending or descending\n",
    "order."
   ]
  },
  {
   "cell_type": "code",
   "execution_count": null,
   "id": "0a48c496",
   "metadata": {},
   "outputs": [],
   "source": [
    "ab.sort_values(\"Country\", ascending=True)\n",
    "\n"
   ]
  },
  {
   "cell_type": "markdown",
   "id": "7343e1cd",
   "metadata": {},
   "source": [
    "D-> Add a new calculated column to the DataFrame based on existing columns\n",
    "(e.g., create a new column that is the product of two other columns)."
   ]
  },
  {
   "cell_type": "code",
   "execution_count": null,
   "id": "25baf4b0",
   "metadata": {},
   "outputs": [],
   "source": [
    "ab[\"NewColumn\"] = ab[\"Rent Index\"] * ab[\"Groceries Index\"]\n",
    "ab.head()\n",
    "\n"
   ]
  },
  {
   "cell_type": "markdown",
   "id": "a97617a2",
   "metadata": {},
   "source": [
    "E-> Load two related datasets into separate DataFrames."
   ]
  },
  {
   "cell_type": "code",
   "execution_count": null,
   "id": "33836276",
   "metadata": {},
   "outputs": [],
   "source": [
    "df1=pd.read_csv(r\"D:\\iiitnr\\Assignment\\cost_data.csv\")\n",
    "df2=pd.read_csv(r\"D:\\iiitnr\\Assignment\\groceries_data.csv\")\n"
   ]
  },
  {
   "cell_type": "code",
   "execution_count": null,
   "id": "eb5e1040",
   "metadata": {},
   "outputs": [],
   "source": [
    "del df1\n",
    "del df2\n"
   ]
  },
  {
   "cell_type": "code",
   "execution_count": null,
   "id": "75a1423a",
   "metadata": {},
   "outputs": [],
   "source": [
    "import pandas as pd\n",
    "\n",
    "df1 = pd.read_csv(r\"D:\\iiitnr\\Assignment\\cost_data.csv\")\n",
    "df2 = pd.read_csv(r\"D:\\iiitnr\\Assignment\\groceries_data.csv\")\n",
    "\n"
   ]
  },
  {
   "cell_type": "code",
   "execution_count": null,
   "id": "abd96fd3",
   "metadata": {},
   "outputs": [],
   "source": [
    "df1"
   ]
  },
  {
   "cell_type": "code",
   "execution_count": null,
   "id": "5d9a76ab",
   "metadata": {},
   "outputs": [],
   "source": [
    "df2"
   ]
  },
  {
   "cell_type": "markdown",
   "id": "36d9bed6",
   "metadata": {},
   "source": [
    "E-> Perform an inner join on the two DataFrames based on a common key."
   ]
  },
  {
   "cell_type": "code",
   "execution_count": null,
   "id": "a16e8d56",
   "metadata": {},
   "outputs": [],
   "source": [
    "inner_join = pd.merge(df1, df2, on=\"Country\", how=\"inner\")\n",
    "#print(\"INNER JOIN RESULT:\\n\", inner_join)\n",
    "inner_join"
   ]
  },
  {
   "cell_type": "markdown",
   "id": "b4121ddc",
   "metadata": {},
   "source": [
    "F-> Perform a left join and explain how the result differs from the inner join."
   ]
  },
  {
   "cell_type": "code",
   "execution_count": null,
   "id": "a8c12d2e",
   "metadata": {},
   "outputs": [],
   "source": [
    "left_join = pd.merge(df1, df2, on=\"Country\", how=\"left\")\n",
    "left_join"
   ]
  },
  {
   "cell_type": "markdown",
   "id": "57572cbd",
   "metadata": {},
   "source": [
    "G-> Merge the two DataFrames using a concatenation operation and describe a\n",
    "scenario where this might be useful."
   ]
  },
  {
   "cell_type": "code",
   "execution_count": null,
   "id": "b8f3e753",
   "metadata": {},
   "outputs": [],
   "source": [
    "concat_rows = pd.concat([df1, df2], axis=0)\n",
    "concat_rows"
   ]
  },
  {
   "cell_type": "code",
   "execution_count": null,
   "id": "3420cf5b",
   "metadata": {},
   "outputs": [],
   "source": [
    "concat_cols = pd.concat([df1, df2], axis=1)\n",
    "concat_cols"
   ]
  },
  {
   "cell_type": "markdown",
   "id": "dc4bece2",
   "metadata": {},
   "source": [
    "END OF TASK 1"
   ]
  },
  {
   "cell_type": "markdown",
   "id": "b65628b2",
   "metadata": {},
   "source": [
    "### TASK-2"
   ]
  },
  {
   "cell_type": "markdown",
   "id": "2572ac45",
   "metadata": {},
   "source": [
    "A-> Load a dataset into a pandas DataFrame. Identify and list all the quantitative\n",
    "(numerical) attributes."
   ]
  },
  {
   "cell_type": "code",
   "execution_count": null,
   "id": "b60228a4",
   "metadata": {},
   "outputs": [],
   "source": [
    "r=pd.read_csv(r\"D:\\iiitnr\\Assignment\\IEA.csv\")\n",
    "r.head()"
   ]
  },
  {
   "cell_type": "code",
   "execution_count": null,
   "id": "5b330587",
   "metadata": {},
   "outputs": [],
   "source": [
    "# View data types of each column\n",
    "\n",
    "print(r.dtypes)\n"
   ]
  },
  {
   "cell_type": "markdown",
   "id": "1d226a54",
   "metadata": {},
   "source": [
    " B.Classify these attributes into interval and ratio types. Provide a brief\n",
    "  explanation for each classification."
   ]
  },
  {
   "cell_type": "markdown",
   "id": "6b4a1326",
   "metadata": {},
   "source": [
    " Classify as Interval vs Ratio\n",
    "*  Interval scale:\n",
    "Numeric differences are meaningful, but no true zero.\n",
    "\n",
    "Suitable example: None here — year is not interval, it's ordinal/ratio because year zero is meaningful in timeline context.\n",
    "\n",
    "*  Ratio scale:\n",
    "Numeric data with a true zero point; ratio comparisons are valid.\n",
    "\n",
    "year: considered ratio (year 0 = start of AD), differences and ratios make sense (e.g., “2020 is twice 1010”).\n",
    "\n",
    "value: clearly ratio — zero means none, doubling is valid (e.g., 20,000 EVs is twice 10,000)."
   ]
  },
  {
   "cell_type": "markdown",
   "id": "dbe56a90",
   "metadata": {},
   "source": [
    "| Attribute | Type    | Scale | Explanation                                    |\n",
    "| --------- | ------- | ----- | ---------------------------------------------- |\n",
    "| `year`    | Numeric | Ratio | Has meaningful zero; arithmetic & ratios valid |\n",
    "| `value`   | Numeric | Ratio | Zero means none; comparisons like 2× valid     |\n"
   ]
  },
  {
   "cell_type": "markdown",
   "id": "2fbeecb5",
   "metadata": {},
   "source": [
    " C. Further classify the quantitative attributes as discrete or continuous. Give\n",
    " examples from your dataset."
   ]
  },
  {
   "cell_type": "markdown",
   "id": "c654b0e9",
   "metadata": {},
   "source": [
    "| Attribute | Type           | Explanation                                                                                            |\n",
    "| --------- | -------------- | ------------------------------------------------------------------------------------------------------ |\n",
    "| `year`    | **Discrete**   | Takes only whole values (e.g., 2010, 2011…). Cannot have decimals like 2010.5                          |\n",
    "| `value`   | **Continuous** | Can take a wide range of numeric values, including decimals (e.g., 10235.75 EVs or 45.3% market share) |\n"
   ]
  },
  {
   "cell_type": "markdown",
   "id": "c45a222c",
   "metadata": {},
   "source": [
    "D. Identify and list all the qualitative (categorical) attributes in your dataset."
   ]
  },
  {
   "cell_type": "markdown",
   "id": "05025d22",
   "metadata": {},
   "source": [
    "`Qualitative (Categorical) Attributes\n",
    "These are non-numeric, descriptive values used to categorize data:`"
   ]
  },
  {
   "cell_type": "markdown",
   "id": "a3b3a37c",
   "metadata": {},
   "source": [
    "| Attribute    | Example Values              | Description                         |\n",
    "| ------------ | --------------------------- | ----------------------------------- |\n",
    "| `region`     | Europe, Asia, North America | Geographical area                   |\n",
    "| `category`   | sales, stock, share         | Data category type                  |\n",
    "| `parameter`  | stock, stock\\_share         | Type of metric being measured       |\n",
    "| `mode`       | EV Registration             | Type of data collection/measurement |\n",
    "| `powertrain` | BEV, PHEV                   | Type of electric vehicle            |\n",
    "| `unit`       | EV, %                       | Measurement unit                    |\n",
    "|             |\n"
   ]
  },
  {
   "cell_type": "markdown",
   "id": "9618ddc4",
   "metadata": {},
   "source": [
    "E. Classify these attributes into nominal, ordinal, and binary types. Provide a\n",
    " brief explanation for each classification with examples from your dataset."
   ]
  },
  {
   "cell_type": "markdown",
   "id": "fc9cc779",
   "metadata": {},
   "source": [
    "`Nominal Attributes`\n",
    "*Labels without any implied order*\n",
    "\n",
    "* region: Asia ≠ better than Europe\n",
    "\n",
    "* category: 'sales', 'stock', 'share' — just tags\n",
    "\n",
    "* parameter: 'stock', 'stock_share' — different metrics\n",
    "\n",
    "* mode: only names the reporting mode"
   ]
  },
  {
   "cell_type": "markdown",
   "id": "534afba4",
   "metadata": {},
   "source": [
    "`Nominal Attributes`\n",
    "*Labels without any implied order*\n",
    "\n",
    "* region: Asia ≠ better than Europe\n",
    "\n",
    "* category: 'sales', 'stock', 'share' — just tags\n",
    "\n",
    "* parameter: 'stock', 'stock_share' — different metrics\n",
    "\n",
    "* mode: only names the reporting mode"
   ]
  },
  {
   "cell_type": "markdown",
   "id": "9b10d28f",
   "metadata": {},
   "source": [
    "`Ordinal Attributes`\n",
    "Categories with a clear order \n",
    "\n",
    "None of the categorical attributes in this dataset are ordinal , like \n",
    "\n",
    "* Low\n",
    "\n",
    "* Medium\n",
    "\n",
    "* High"
   ]
  },
  {
   "cell_type": "markdown",
   "id": "ccc42a2c",
   "metadata": {},
   "source": [
    "| Type    | Attributes                              | Notes                          |\n",
    "| ------- | --------------------------------------- | ------------------------------ |\n",
    "| Nominal | region, category, parameter, mode, unit | No meaningful order            |\n",
    "| Binary  | powertrain (BEV/PHEV)                   | Can be encoded 0/1             |\n",
    "| Ordinal | *None directly*                         | Would need  features |\n"
   ]
  },
  {
   "cell_type": "markdown",
   "id": "c339db3a",
   "metadata": {},
   "source": [
    " F.  Convert one of the qualitative attributes into a factor variable using pandas or\n",
    " another suitable library."
   ]
  },
  {
   "cell_type": "code",
   "execution_count": null,
   "id": "deacfbd0",
   "metadata": {},
   "outputs": [],
   "source": [
    "print(r['region'].dtype)\n",
    "\n",
    "# Convert 'region' to a factor (categorical) variable\n",
    "r['region'] = r['region'].astype('category')\n",
    "\n",
    "# Confirm the change\n",
    "print(r['region'].dtype)\n",
    "\n",
    "# View the categories\n",
    "print(\"Factor levels (categories):\")\n",
    "print(r['region'].cat.categories)\n"
   ]
  },
  {
   "cell_type": "markdown",
   "id": "2c2865a7",
   "metadata": {},
   "source": [
    "G. Explain what a factor variable is and why it might be useful in data analysis. "
   ]
  },
  {
   "cell_type": "markdown",
   "id": "72099091",
   "metadata": {},
   "source": [
    "`What is a Factor Variable?`\n",
    "* A factor variable is a categorical variable that takes on a limited number of distinct values, known as levels or categories.\n",
    "\n",
    "   In simple words:\n",
    "    * It is used to represent categories as labels, like “Asia”, “Europe”, or “Male”, “Female”.\n",
    "    * Internally, each label is stored as a code or number, which makes processing faster and easier."
   ]
  },
  {
   "cell_type": "markdown",
   "id": "09f3717e",
   "metadata": {},
   "source": [
    "| Attribute    | Values (Levels)             |\n",
    "| ------------ | --------------------------- |\n",
    "| `region`     | Asia, Europe, North America |\n",
    "| `gender`     | Male, Female                |\n",
    "| `powertrain` | BEV, PHEV                   |\n"
   ]
  },
  {
   "cell_type": "markdown",
   "id": "7b802372",
   "metadata": {},
   "source": [
    "`Why Factor Variables Are Useful:`\n",
    "*  Efficient Storage – \n",
    "\n",
    "*  Easy to Analyze – \n",
    "\n",
    "*  Better for Visualization – \n",
    "\n",
    "* Important in ML/Stats – "
   ]
  },
  {
   "cell_type": "markdown",
   "id": "06233ffc",
   "metadata": {},
   "source": [
    "**Factor variables help simplify, store, and analyze categorical data in a structured way. They are an essential part of real-world data science and statistics.**"
   ]
  },
  {
   "cell_type": "markdown",
   "id": "96d59d20",
   "metadata": {},
   "source": [
    "### TASK-3"
   ]
  },
  {
   "cell_type": "code",
   "execution_count": null,
   "id": "0fea46b4",
   "metadata": {},
   "outputs": [],
   "source": [
    "s=pd.read_csv(r\"D:\\iiitnr\\Assignment\\IEA.csv\")\n",
    "s.head()"
   ]
  },
  {
   "cell_type": "markdown",
   "id": "9dcbba39",
   "metadata": {},
   "source": [
    " A. Select a discrete numerical attribute and calculate basic descriptive statistics\n",
    " such as count, mean, median, mode, and range."
   ]
  },
  {
   "cell_type": "code",
   "execution_count": null,
   "id": "2ae55511",
   "metadata": {},
   "outputs": [],
   "source": [
    "\n",
    "s['value'] = pd.to_numeric(s['value'], errors='coerce')\n",
    "year_data = s['year']\n",
    "year_data\n"
   ]
  },
  {
   "cell_type": "code",
   "execution_count": null,
   "id": "7db7ecec",
   "metadata": {},
   "outputs": [],
   "source": [
    "# Descriptive statistics\n",
    "count = year_data.count()\n",
    "mean = year_data.mean()\n",
    "median = year_data.median()\n",
    "mode = year_data.mode()[0]  # mode() \n",
    "range_val = year_data.max() - year_data.min()"
   ]
  },
  {
   "cell_type": "code",
   "execution_count": null,
   "id": "b6505e1c",
   "metadata": {},
   "outputs": [],
   "source": [
    "# Display results\n",
    "print(f\"Count  : {count}\")\n",
    "print(f\"Mean   : {mean}\")\n",
    "print(f\"Median : {median}\")\n",
    "print(f\"Mode   : {mode}\")\n",
    "print(f\"Range  : {range_val} (from {year_data.min()} to {year_data.max()})\")"
   ]
  },
  {
   "cell_type": "markdown",
   "id": "e905d2f9",
   "metadata": {},
   "source": [
    " B. Select a continuous numerical attribute and calculate basic descriptive\n",
    " statistics such as mean, median, mode, range, variance, and standard deviation."
   ]
  },
  {
   "cell_type": "code",
   "execution_count": null,
   "id": "2ee5a11c",
   "metadata": {},
   "outputs": [],
   "source": [
    "# value typically represents sales count, market share, or EV stock.\n",
    "# value_data = EV_df['value'].dropna()\n",
    "\n"
   ]
  },
  {
   "cell_type": "code",
   "execution_count": null,
   "id": "e17913f1",
   "metadata": {},
   "outputs": [],
   "source": [
    "value_data = s['value'].dropna()\n",
    "\n",
    "\n",
    "# Calculate statistics\n",
    "mean = value_data.mean()\n",
    "median = value_data.median()\n",
    "mode = value_data.mode()[0]  # mode returns a Series\n",
    "range_val = value_data.max() - value_data.min()\n",
    "variance = value_data.var()\n",
    "std_dev = value_data.std()\n",
    "\n",
    "# Print the results\n",
    "print(\"Continuous Attribute: value\")\n",
    "print(f\"Mean     : {mean}\")\n",
    "print(f\"Median   : {median}\")\n",
    "print(f\"Mode     : {mode}\")\n",
    "print(f\"Range    : {range_val} (from {value_data.min()} to {value_data.max()})\")\n",
    "print(f\"Variance : {variance}\")\n",
    "print(f\"Std Dev  : {std_dev}\")"
   ]
  },
  {
   "cell_type": "markdown",
   "id": "bc623924",
   "metadata": {},
   "source": [
    " C. Select a nominal attribute and calculate the frequency distribution of its categories"
   ]
  },
  {
   "cell_type": "markdown",
   "id": "a0610881",
   "metadata": {},
   "source": [
    " Chosen Nominal Attribute: `region`\n",
    "The region column is nominal because:\n",
    "\n",
    "* It represents labels/categories (e.g., Asia, Europe, North America).\n",
    "\n",
    "* It has no numeric meaning or order."
   ]
  },
  {
   "cell_type": "code",
   "execution_count": null,
   "id": "94be5abf",
   "metadata": {},
   "outputs": [],
   "source": [
    "region_data = s['region'].dropna()\n",
    "\n",
    "    # Frequency distribution\n",
    "frequency = region_data.value_counts()\n",
    "\n",
    "    # Display results\n",
    "print(\"Frequency Distribution of 'region':\")\n",
    "print(frequency)"
   ]
  },
  {
   "cell_type": "markdown",
   "id": "eb65df97",
   "metadata": {},
   "source": [
    " D. Select an ordinal attribute and calculate the frequency distribution of its\n",
    " categories."
   ]
  },
  {
   "cell_type": "markdown",
   "id": "db05fc23",
   "metadata": {},
   "source": [
    "**Ordinal Attribute**\n",
    "*  `What Is an Ordinal Attribute?`\n",
    "     * An ordinal attribute is categorical  but with a   meaningful order\n",
    "     * The EV Sales dataset doesn't include a direct ordinal attribute like low , medium , high"
   ]
  },
  {
   "cell_type": "markdown",
   "id": "4349d70a",
   "metadata": {},
   "source": [
    "so creata a ordinal attribute - sales_level"
   ]
  },
  {
   "cell_type": "code",
   "execution_count": null,
   "id": "395941ce",
   "metadata": {},
   "outputs": [],
   "source": [
    "df_clean = s.dropna(subset=['value'])\n",
    "\n",
    "# Create ordinal bins using quantiles\n",
    "df_clean['Sales_Level'] = pd.qcut(df_clean['value'], q=3, labels=['Low', 'Medium', 'High'])\n",
    "\n",
    "frequency = df_clean['Sales_Level'].value_counts().sort_index()\n",
    "\n",
    "print(\"Frequency Distribution of 'Sales_Level':\")\n",
    "print(frequency)"
   ]
  },
  {
   "cell_type": "markdown",
   "id": "1df388b6",
   "metadata": {},
   "source": [
    " E. Select a binary attribute and calculate the proportion of each category (e.g., the\n",
    " proportion of 0 vs. 1)."
   ]
  },
  {
   "cell_type": "markdown",
   "id": "d0e7374b",
   "metadata": {},
   "source": [
    "Binary Attribute:\n",
    "    binary attributes  that have two possible values such as 0 and 1.\n",
    "    Example:\n",
    "   *  `powertrain`\n",
    "From the dataset:\n",
    "\n",
    "* powertrain often has two values:\n",
    "\n",
    "     * BEV = Battery Electric Vehicle\n",
    "\n",
    "     * PHEV = Plug-in Hybrid Electric Vehicle"
   ]
  },
  {
   "cell_type": "code",
   "execution_count": null,
   "id": "851bba92",
   "metadata": {},
   "outputs": [],
   "source": [
    "new_df = s.dropna(subset=['powertrain'])\n",
    "new_df\n"
   ]
  },
  {
   "cell_type": "code",
   "execution_count": null,
   "id": "ca6b339c",
   "metadata": {},
   "outputs": [],
   "source": [
    "# Convert to binary (e.g., BEV = 1, PHEV = 0)\n",
    "new_df['powertrain_binary'] = new_df['powertrain'].apply(lambda x: 1 if x.strip().upper() == 'BEV' else 0)\n"
   ]
  },
  {
   "cell_type": "code",
   "execution_count": null,
   "id": "a355d823",
   "metadata": {},
   "outputs": [],
   "source": [
    "proportions = new_df['powertrain_binary'].value_counts(normalize=True)\n"
   ]
  },
  {
   "cell_type": "code",
   "execution_count": null,
   "id": "0967941c",
   "metadata": {},
   "outputs": [],
   "source": [
    "print(\" Proportion of BEV  vs. PHEV:\")\n",
    "print(proportions)"
   ]
  }
 ],
 "metadata": {
  "kernelspec": {
   "display_name": "Python 3",
   "language": "python",
   "name": "python3"
  },
  "language_info": {
   "codemirror_mode": {
    "name": "ipython",
    "version": 3
   },
   "file_extension": ".py",
   "mimetype": "text/x-python",
   "name": "python",
   "nbconvert_exporter": "python",
   "pygments_lexer": "ipython3",
   "version": "3.13.5"
  }
 },
 "nbformat": 4,
 "nbformat_minor": 5
}
