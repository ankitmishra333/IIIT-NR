{
 "cells": [
  {
   "cell_type": "code",
   "execution_count": null,
   "id": "bbf8bd1d",
   "metadata": {},
   "outputs": [],
   "source": [
    "import pandas as pd\n",
    "import numpy as np\n",
    "import matplotlib.pyplot as plt\n",
    "import seaborn as sb\n",
    "from sklearn.impute import SimpleImputer"
   ]
  },
  {
   "cell_type": "code",
   "execution_count": null,
   "id": "140c2bdd",
   "metadata": {},
   "outputs": [],
   "source": [
    "\n",
    "led=pd.read_csv(\"D:\\iiitnr\\Day10\\led.csv\")\n",
    "led"
   ]
  },
  {
   "cell_type": "code",
   "execution_count": null,
   "id": "eec897c2",
   "metadata": {},
   "outputs": [],
   "source": [
    "led.info()"
   ]
  },
  {
   "cell_type": "code",
   "execution_count": null,
   "id": "3ee72b9f",
   "metadata": {},
   "outputs": [],
   "source": [
    "led.shape"
   ]
  },
  {
   "cell_type": "code",
   "execution_count": null,
   "id": "155884ca",
   "metadata": {},
   "outputs": [],
   "source": [
    "led.describe()"
   ]
  },
  {
   "cell_type": "code",
   "execution_count": null,
   "id": "02d61341",
   "metadata": {},
   "outputs": [],
   "source": [
    "led.columns"
   ]
  },
  {
   "cell_type": "code",
   "execution_count": null,
   "id": "d3bdbae5",
   "metadata": {},
   "outputs": [],
   "source": [
    "led.isnull().sum()"
   ]
  },
  {
   "cell_type": "code",
   "execution_count": null,
   "id": "09408461",
   "metadata": {},
   "outputs": [],
   "source": [
    "led.isnull().mean()"
   ]
  },
  {
   "cell_type": "code",
   "execution_count": null,
   "id": "7cdc87de",
   "metadata": {},
   "outputs": [],
   "source": [
    "led[led.isnull().any(axis=1)]"
   ]
  },
  {
   "cell_type": "code",
   "execution_count": null,
   "id": "80e0429c",
   "metadata": {},
   "outputs": [],
   "source": [
    "nume_cols = led.select_dtypes(include=['float64,int64']).columns\n",
    "cate_cols= led.select_dtypes(include=['object']).columns"
   ]
  },
  {
   "cell_type": "code",
   "execution_count": null,
   "id": "acac46eb",
   "metadata": {},
   "outputs": [],
   "source": [
    "nume_cols\n"
   ]
  },
  {
   "cell_type": "code",
   "execution_count": null,
   "id": "7c9f70c8",
   "metadata": {},
   "outputs": [],
   "source": [
    "cate_cols"
   ]
  },
  {
   "cell_type": "code",
   "execution_count": null,
   "id": "65574022",
   "metadata": {},
   "outputs": [],
   "source": [
    "# create imputers\n",
    "mum_iputer = SimpleImputer(strategy='median')\n",
    "cat_impu = SimpleImputer(strategy='most_frequent')"
   ]
  },
  {
   "cell_type": "code",
   "execution_count": null,
   "id": "8540c64c",
   "metadata": {},
   "outputs": [],
   "source": [
    "from sklearn.impute import SimpleImputer\n",
    "\n",
    "# Step 1: Identify numeric and categorical columns\n",
    "nume_cols = led.select_dtypes(include=['int64', 'float64']).columns\n",
    "cate_cols = led.select_dtypes(include=['object', 'category']).columns\n",
    "\n",
    "# Step 2: Create imputers\n",
    "num_imputer = SimpleImputer(strategy='median')\n",
    "cat_imputer = SimpleImputer(strategy='most_frequent')\n",
    "\n",
    "# Step 3: Apply imputers\n",
    "led[nume_cols] = num_imputer.fit_transform(led[nume_cols])\n",
    "led[cate_cols] = cat_imputer.fit_transform(led[cate_cols])\n"
   ]
  },
  {
   "cell_type": "code",
   "execution_count": null,
   "id": "80de13a4",
   "metadata": {},
   "outputs": [],
   "source": [
    "led.isnull().sum()"
   ]
  },
  {
   "cell_type": "code",
   "execution_count": null,
   "id": "daf6b95b",
   "metadata": {},
   "outputs": [],
   "source": [
    "# Or drop missing values\n",
    "led = led.dropna()                # Drop all rows with any NaN\n",
    "led = led.dropna(axis=1)          # Drop all columns with any NaN\n"
   ]
  },
  {
   "cell_type": "code",
   "execution_count": null,
   "id": "65d3ab8d",
   "metadata": {},
   "outputs": [],
   "source": [
    "led = led.drop_duplicates()       # Remove duplicates\n"
   ]
  },
  {
   "cell_type": "code",
   "execution_count": null,
   "id": "8ba968e1",
   "metadata": {},
   "outputs": [],
   "source": [
    "plt.figure(figsize=(15,10))\n",
    "corr_matrix = led.corr(numeric_only=True)\n",
    "sb.heatmap(corr_matrix,annot=True,cmap='coolwarm',fmt='.2f')\n",
    "plt.title('correction matrix of numerical featurres')\n",
    "plt.show()"
   ]
  },
  {
   "cell_type": "code",
   "execution_count": null,
   "id": "ff6a28e4",
   "metadata": {},
   "outputs": [],
   "source": [
    "\"\"\"# Train-test split\n",
    "x_train, x_test, y_train, y_test = train_test_split(x, y, test_size=0.2, random_state=42)\n",
    "\n",
    "# Model training\n",
    "model = LinearRegression()\n",
    "model.fit(x_train, y_train)\n",
    "\n",
    "# Prediction\n",
    "y_pred = model.predict(x_test)\"\"\""
   ]
  }
 ],
 "metadata": {
  "kernelspec": {
   "display_name": "Python 3",
   "language": "python",
   "name": "python3"
  },
  "language_info": {
   "codemirror_mode": {
    "name": "ipython",
    "version": 3
   },
   "file_extension": ".py",
   "mimetype": "text/x-python",
   "name": "python",
   "nbconvert_exporter": "python",
   "pygments_lexer": "ipython3",
   "version": "3.13.5"
  }
 },
 "nbformat": 4,
 "nbformat_minor": 5
}
