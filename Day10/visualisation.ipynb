{
 "cells": [
  {
   "cell_type": "code",
   "execution_count": null,
   "id": "aad2fc3c",
   "metadata": {},
   "outputs": [],
   "source": [
    "import matplotlib.pyplot as plt\n",
    "\n",
    "x = [1, 2, 3]\n",
    "y = [2, 3, 4]  # Make sure x and y are of the same length\n",
    "\n",
    "plt.plot(x, y)  # This plots a line graph\n",
    "plt.xlabel(\"X-axis\")\n",
    "plt.ylabel(\"Y-axis\")\n",
    "plt.title(\"Simple Line Plot\")\n",
    "plt.show()  # This displays the plot\n"
   ]
  },
  {
   "cell_type": "code",
   "execution_count": null,
   "id": "dda79c04",
   "metadata": {},
   "outputs": [],
   "source": [
    "import matplotlib.pyplot as plt\n",
    "\n",
    "x = [10, 20, 30, 40, 50]\n",
    "y = [65, 98, 170, 220, 310]\n",
    "\n",
    "plt.plot(x, y, marker='o')  # Plots a line chart with markers\n",
    "plt.xlabel('Overs')\n",
    "plt.ylabel('Runs Scored')\n",
    "plt.title('Over-wise Runs Scored \\nIndia Vs England')\n",
    "plt.grid(True)  # Optional: adds a grid to the plot\n",
    "plt.show()  # Correct usage without arguments\n"
   ]
  },
  {
   "cell_type": "code",
   "execution_count": null,
   "id": "cba295a7",
   "metadata": {},
   "outputs": [],
   "source": [
    "x = [10, 20, 30, 40, 50]\n",
    "y = [65, 98, 170, 220, 310]\n",
    "plt.xlabel('Overs')\n",
    "plt.ylabel('Runs Scored')\n",
    "plt.title('Over-wise Runs Scored \\nIndia Vs England')\n",
    "plt.plot(x,y,marker='+',markersize='10',markeredgecolor='red')\n",
    "plt.show()"
   ]
  },
  {
   "cell_type": "markdown",
   "id": "19b5cf20",
   "metadata": {},
   "source": [
    "Bar chart"
   ]
  },
  {
   "cell_type": "code",
   "execution_count": null,
   "id": "f686ae62",
   "metadata": {},
   "outputs": [],
   "source": [
    "import matplotlib.pyplot as plt\n",
    "import numpy as np\n",
    "\n",
    "OverRange1 = ['1-10', '11-20', '21-30', '31-40']\n",
    "RunScored1 = [65, 55, 70, 50]\n",
    "\n",
    "plt.bar(OverRange1, RunScored1)\n",
    "plt.xlabel('Over Interval')\n",
    "plt.ylabel('Run Scored')\n",
    "plt.title(\"India's Scoring\")\n",
    "plt.show()\n"
   ]
  },
  {
   "cell_type": "code",
   "execution_count": null,
   "id": "1719f345",
   "metadata": {},
   "outputs": [],
   "source": [
    "import matplotlib.pyplot as plt\n",
    "import numpy as np\n",
    "\n",
    "OverRange1 = ['1-10', '11-20', '21-30', '31-40']\n",
    "RunScored1 = [65, 55, 70, 50]\n",
    "\n",
    "plt.bar(OverRange1, RunScored1,width=0.3,color='g')\n",
    "plt.xlabel('Over Interval')\n",
    "plt.ylabel('Run Scored')\n",
    "plt.title(\"India's Scoring\")\n",
    "plt.show()\n"
   ]
  },
  {
   "cell_type": "code",
   "execution_count": null,
   "id": "53e71a91",
   "metadata": {},
   "outputs": [],
   "source": [
    "import matplotlib.pyplot as plt\n",
    "import numpy as np\n",
    "\n",
    "OverRange1 = ['1-10', '11-20', '21-30', '31-40']\n",
    "RunScored1 = [65, 55, 70, 50]\n",
    "\n",
    "plt.bar(OverRange1, RunScored1, width=[0.1, 0.2, 0.3, 0.4], color='g')\n",
    "\n",
    "plt.xlabel('Over Interval')\n",
    "plt.ylabel('Run Scored')\n",
    "plt.title(\"India's Scoring\")\n",
    "plt.show()\n"
   ]
  },
  {
   "cell_type": "code",
   "execution_count": null,
   "id": "b3a8b8ce",
   "metadata": {},
   "outputs": [],
   "source": [
    "import matplotlib.pyplot as plt\n",
    "import numpy as np\n",
    "\n",
    "OverRange1 = ['1-10', '11-20', '21-30', '31-40', '41-50']\n",
    "RunScored1 = [65, 55, 70, 50, 80]  # Added a 5th value\n",
    "\n",
    "plt.bar(OverRange1, RunScored1, width=0.3, color=['r', 'g', 'b', 'c', 'm'])\n",
    "\n",
    "plt.xlabel('Over Interval')\n",
    "plt.ylabel('Run Scored')\n",
    "plt.title(\"India's Scoring\")\n",
    "plt.show()\n"
   ]
  },
  {
   "cell_type": "code",
   "execution_count": null,
   "id": "be28578a",
   "metadata": {},
   "outputs": [],
   "source": [
    "cities=['Kanpur','Lucknow','Prayagraj','Varanasi']\n",
    "Temp=[42,39,48,36]\n",
    "plt.barh (cities,Temp)\n",
    "\n",
    "\n",
    "plt.xlabel('Temperature')\n",
    "plt.ylabel('Cities')\n",
    "plt.title(\"City wise temperature record\")\n",
    "plt.show()\n",
    "\n"
   ]
  },
  {
   "cell_type": "code",
   "execution_count": null,
   "id": "45221f4e",
   "metadata": {},
   "outputs": [],
   "source": [
    "a=[50,60,70,80,90]\n",
    "b=[55,65,60,75,96]\n",
    "x=np.linspace(1,51,5)\n",
    "plt.bar (x,a,width=3,color='g',label='Australia')\n",
    "plt.bar (x+3,b,width=3,color='r',label='India')\n",
    "plt.xlabel('Overs')\n",
    "plt.ylabel('Run Scored')\n",
    "plt.title('Scoring Chart India & Australia')\n",
    "plt.legend()\n",
    "plt.show()\n"
   ]
  },
  {
   "cell_type": "code",
   "execution_count": null,
   "id": "1ddb74bc",
   "metadata": {},
   "outputs": [],
   "source": [
    "import numpy as np\n",
    "import matplotlib.pyplot as plt\n",
    "\n",
    "x = np.arange(5)\n",
    "y = [5.0, 20.0, 30.0, 35.0, 50.0]\n",
    "\n",
    "plt.xlim(-2.0, 5.0)\n",
    "plt.bar(x, y)\n",
    "plt.title(\"Simple Bar Chart\")\n",
    "plt.xlabel(\"X-axis\")\n",
    "plt.ylabel(\"Y-axis\")\n",
    "plt.show()\n"
   ]
  },
  {
   "cell_type": "code",
   "execution_count": null,
   "id": "312f37b7",
   "metadata": {},
   "outputs": [],
   "source": [
    "import matplotlib.pyplot as plt\n",
    "\n",
    "# Data\n",
    "slices = [50, 20, 15, 10, 15]\n",
    "exp =    [0.8, 0.8, 0.2, 0.312, 0.1]\n",
    "dept = ['Sales', 'HR', 'Finance', 'Production', 'Account']\n",
    "cols = ['m', 'c', 'g', 'r', 'b']\n",
    "\n",
    "# Pie chart\n",
    "plt.pie(slices, \n",
    "        labels=dept, \n",
    "        colors=cols, \n",
    "        startangle=90, \n",
    "        explode=exp, \n",
    "        shadow=True, \n",
    "        autopct='%1.1f%%')\n",
    "\n",
    "# Title and Legend\n",
    "plt.title('KVS Department Budget')\n",
    "plt.legend()\n",
    "plt.show()\n"
   ]
  },
  {
   "cell_type": "code",
   "execution_count": null,
   "id": "18a99ae5",
   "metadata": {},
   "outputs": [],
   "source": [
    "import matplotlib.pyplot as plt\n",
    "\n",
    "# Data\n",
    "slices = [50, 20, 15, 10, 5]\n",
    "dept = ['Sales', 'HR', 'Finance', 'Production', 'Account']\n",
    "colors = ['#4CAF50', '#2196F3', '#FFC107', '#E91E63', '#9C27B0']  # Material colors\n",
    "explode = [0.05, 0.1, 0.1, 0.05, 0.05]  # Slightly explode all for clarity\n",
    "\n",
    "# Plot\n",
    "plt.figure(figsize=(8, 8))\n",
    "wedges, texts, autotexts = plt.pie(\n",
    "    slices,\n",
    "    labels=dept,\n",
    "    colors=colors,\n",
    "    startangle=140,\n",
    "    explode=explode,\n",
    "    shadow=True,\n",
    "    autopct='%1.1f%%',\n",
    "    textprops={'color': 'white', 'fontsize': 12},\n",
    "    wedgeprops={'edgecolor': 'black', 'linewidth': 1}\n",
    ")\n",
    "\n",
    "# Improve labels\n",
    "for text in texts:\n",
    "    text.set_color('black')\n",
    "    text.set_fontsize(13)\n",
    "\n",
    "# Title & Legend\n",
    "plt.title('💼 Department Budget Distribution - KVS', fontsize=16, fontweight='bold')\n",
    "plt.legend(wedges, dept, title=\"Departments\", loc=\"upper right\", bbox_to_anchor=(1.2, 1))\n",
    "\n",
    "plt.tight_layout()\n",
    "plt.show()\n"
   ]
  },
  {
   "cell_type": "code",
   "execution_count": null,
   "id": "6c9fec8f",
   "metadata": {},
   "outputs": [],
   "source": [
    "val1=[2,3,4,6,8]\n",
    "val2=[5,7,8,9,11]\n",
    "val3=[6,9,10,12,15]\n",
    "data=[val1,val2,val3]\n",
    "plt.boxplot(data,labels=['series1','series2','series3'])\n",
    "plt.show()\n"
   ]
  }
 ],
 "metadata": {
  "kernelspec": {
   "display_name": "Python 3",
   "language": "python",
   "name": "python3"
  },
  "language_info": {
   "codemirror_mode": {
    "name": "ipython",
    "version": 3
   },
   "file_extension": ".py",
   "mimetype": "text/x-python",
   "name": "python",
   "nbconvert_exporter": "python",
   "pygments_lexer": "ipython3",
   "version": "3.13.5"
  }
 },
 "nbformat": 4,
 "nbformat_minor": 5
}
